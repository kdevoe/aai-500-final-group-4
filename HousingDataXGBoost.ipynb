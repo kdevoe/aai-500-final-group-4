{
 "cells": [
  {
   "attachments": {},
   "cell_type": "markdown",
   "id": "b7b3dc06",
   "metadata": {},
   "source": [
    "## Library and Data Imports"
   ]
  },
  {
   "cell_type": "code",
   "execution_count": 1,
   "id": "6078e54c-5d52-4a95-8107-713f9650843c",
   "metadata": {
    "tags": []
   },
   "outputs": [],
   "source": [
    "import scipy.stats as stats\n",
    "import pandas as pd\n",
    "import numpy as np\n",
    "import seaborn as sns\n",
    "import matplotlib.pyplot as plt\n",
    "from sklearn.model_selection import train_test_split\n",
    "from sklearn.impute import KNNImputer\n",
    "from sklearn.preprocessing import StandardScaler\n",
    "from sklearn.metrics import mean_squared_error\n",
    "import statsmodels.api as sm\n",
    "\n",
    "import torch\n",
    "import torch.nn as nn\n",
    "import torch.nn.functional as F\n",
    "from tqdm import tqdm"
   ]
  },
  {
   "cell_type": "code",
   "execution_count": 2,
   "id": "323eea3b-6cc5-4153-9889-1cead84ff4e8",
   "metadata": {},
   "outputs": [
    {
     "data": {
      "text/html": [
       "<div>\n",
       "<style scoped>\n",
       "    .dataframe tbody tr th:only-of-type {\n",
       "        vertical-align: middle;\n",
       "    }\n",
       "\n",
       "    .dataframe tbody tr th {\n",
       "        vertical-align: top;\n",
       "    }\n",
       "\n",
       "    .dataframe thead th {\n",
       "        text-align: right;\n",
       "    }\n",
       "</style>\n",
       "<table border=\"1\" class=\"dataframe\">\n",
       "  <thead>\n",
       "    <tr style=\"text-align: right;\">\n",
       "      <th></th>\n",
       "      <th>STATEFIPS</th>\n",
       "      <th>STATE</th>\n",
       "      <th>ZIPCODE</th>\n",
       "      <th>AGI_STUB</th>\n",
       "      <th>N1</th>\n",
       "      <th>MARS1</th>\n",
       "      <th>MARS2</th>\n",
       "      <th>MARS4</th>\n",
       "      <th>ELF</th>\n",
       "      <th>CPREP</th>\n",
       "      <th>...</th>\n",
       "      <th>N85300</th>\n",
       "      <th>A85300</th>\n",
       "      <th>N11901</th>\n",
       "      <th>A11901</th>\n",
       "      <th>N11900</th>\n",
       "      <th>A11900</th>\n",
       "      <th>N11902</th>\n",
       "      <th>A11902</th>\n",
       "      <th>N12000</th>\n",
       "      <th>A12000</th>\n",
       "    </tr>\n",
       "  </thead>\n",
       "  <tbody>\n",
       "    <tr>\n",
       "      <th>0</th>\n",
       "      <td>1</td>\n",
       "      <td>AL</td>\n",
       "      <td>0</td>\n",
       "      <td>0</td>\n",
       "      <td>2033660.0</td>\n",
       "      <td>841450.0</td>\n",
       "      <td>748460.0</td>\n",
       "      <td>402300.0</td>\n",
       "      <td>1825940.0</td>\n",
       "      <td>106040.0</td>\n",
       "      <td>...</td>\n",
       "      <td>31890.0</td>\n",
       "      <td>112620.0</td>\n",
       "      <td>382910.0</td>\n",
       "      <td>1842204.0</td>\n",
       "      <td>1608610.0</td>\n",
       "      <td>5145662.0</td>\n",
       "      <td>1579020.0</td>\n",
       "      <td>4641848.0</td>\n",
       "      <td>32240.0</td>\n",
       "      <td>447705.0</td>\n",
       "    </tr>\n",
       "    <tr>\n",
       "      <th>1</th>\n",
       "      <td>1</td>\n",
       "      <td>AL</td>\n",
       "      <td>35004</td>\n",
       "      <td>0</td>\n",
       "      <td>5130.0</td>\n",
       "      <td>2140.0</td>\n",
       "      <td>2120.0</td>\n",
       "      <td>780.0</td>\n",
       "      <td>4660.0</td>\n",
       "      <td>270.0</td>\n",
       "      <td>...</td>\n",
       "      <td>30.0</td>\n",
       "      <td>32.0</td>\n",
       "      <td>970.0</td>\n",
       "      <td>2693.0</td>\n",
       "      <td>4090.0</td>\n",
       "      <td>11048.0</td>\n",
       "      <td>4020.0</td>\n",
       "      <td>10706.0</td>\n",
       "      <td>70.0</td>\n",
       "      <td>308.0</td>\n",
       "    </tr>\n",
       "    <tr>\n",
       "      <th>2</th>\n",
       "      <td>1</td>\n",
       "      <td>AL</td>\n",
       "      <td>35005</td>\n",
       "      <td>0</td>\n",
       "      <td>3170.0</td>\n",
       "      <td>1350.0</td>\n",
       "      <td>870.0</td>\n",
       "      <td>900.0</td>\n",
       "      <td>2840.0</td>\n",
       "      <td>150.0</td>\n",
       "      <td>...</td>\n",
       "      <td>0.0</td>\n",
       "      <td>0.0</td>\n",
       "      <td>450.0</td>\n",
       "      <td>964.0</td>\n",
       "      <td>2660.0</td>\n",
       "      <td>7591.0</td>\n",
       "      <td>2640.0</td>\n",
       "      <td>7552.0</td>\n",
       "      <td>0.0</td>\n",
       "      <td>0.0</td>\n",
       "    </tr>\n",
       "    <tr>\n",
       "      <th>3</th>\n",
       "      <td>1</td>\n",
       "      <td>AL</td>\n",
       "      <td>35006</td>\n",
       "      <td>0</td>\n",
       "      <td>1210.0</td>\n",
       "      <td>440.0</td>\n",
       "      <td>580.0</td>\n",
       "      <td>170.0</td>\n",
       "      <td>1120.0</td>\n",
       "      <td>50.0</td>\n",
       "      <td>...</td>\n",
       "      <td>0.0</td>\n",
       "      <td>0.0</td>\n",
       "      <td>190.0</td>\n",
       "      <td>466.0</td>\n",
       "      <td>990.0</td>\n",
       "      <td>2822.0</td>\n",
       "      <td>990.0</td>\n",
       "      <td>2812.0</td>\n",
       "      <td>0.0</td>\n",
       "      <td>0.0</td>\n",
       "    </tr>\n",
       "    <tr>\n",
       "      <th>4</th>\n",
       "      <td>1</td>\n",
       "      <td>AL</td>\n",
       "      <td>35007</td>\n",
       "      <td>0</td>\n",
       "      <td>11930.0</td>\n",
       "      <td>4720.0</td>\n",
       "      <td>5180.0</td>\n",
       "      <td>1790.0</td>\n",
       "      <td>10270.0</td>\n",
       "      <td>990.0</td>\n",
       "      <td>...</td>\n",
       "      <td>110.0</td>\n",
       "      <td>90.0</td>\n",
       "      <td>2720.0</td>\n",
       "      <td>9363.0</td>\n",
       "      <td>8960.0</td>\n",
       "      <td>24472.0</td>\n",
       "      <td>8840.0</td>\n",
       "      <td>23758.0</td>\n",
       "      <td>150.0</td>\n",
       "      <td>664.0</td>\n",
       "    </tr>\n",
       "    <tr>\n",
       "      <th>...</th>\n",
       "      <td>...</td>\n",
       "      <td>...</td>\n",
       "      <td>...</td>\n",
       "      <td>...</td>\n",
       "      <td>...</td>\n",
       "      <td>...</td>\n",
       "      <td>...</td>\n",
       "      <td>...</td>\n",
       "      <td>...</td>\n",
       "      <td>...</td>\n",
       "      <td>...</td>\n",
       "      <td>...</td>\n",
       "      <td>...</td>\n",
       "      <td>...</td>\n",
       "      <td>...</td>\n",
       "      <td>...</td>\n",
       "      <td>...</td>\n",
       "      <td>...</td>\n",
       "      <td>...</td>\n",
       "      <td>...</td>\n",
       "      <td>...</td>\n",
       "    </tr>\n",
       "    <tr>\n",
       "      <th>27755</th>\n",
       "      <td>56</td>\n",
       "      <td>WY</td>\n",
       "      <td>83126</td>\n",
       "      <td>0</td>\n",
       "      <td>180.0</td>\n",
       "      <td>60.0</td>\n",
       "      <td>110.0</td>\n",
       "      <td>0.0</td>\n",
       "      <td>170.0</td>\n",
       "      <td>0.0</td>\n",
       "      <td>...</td>\n",
       "      <td>0.0</td>\n",
       "      <td>0.0</td>\n",
       "      <td>40.0</td>\n",
       "      <td>96.0</td>\n",
       "      <td>130.0</td>\n",
       "      <td>351.0</td>\n",
       "      <td>130.0</td>\n",
       "      <td>338.0</td>\n",
       "      <td>0.0</td>\n",
       "      <td>0.0</td>\n",
       "    </tr>\n",
       "    <tr>\n",
       "      <th>27756</th>\n",
       "      <td>56</td>\n",
       "      <td>WY</td>\n",
       "      <td>83127</td>\n",
       "      <td>0</td>\n",
       "      <td>1550.0</td>\n",
       "      <td>500.0</td>\n",
       "      <td>890.0</td>\n",
       "      <td>90.0</td>\n",
       "      <td>1290.0</td>\n",
       "      <td>120.0</td>\n",
       "      <td>...</td>\n",
       "      <td>40.0</td>\n",
       "      <td>95.0</td>\n",
       "      <td>460.0</td>\n",
       "      <td>2809.0</td>\n",
       "      <td>1040.0</td>\n",
       "      <td>2934.0</td>\n",
       "      <td>980.0</td>\n",
       "      <td>2594.0</td>\n",
       "      <td>80.0</td>\n",
       "      <td>275.0</td>\n",
       "    </tr>\n",
       "    <tr>\n",
       "      <th>27757</th>\n",
       "      <td>56</td>\n",
       "      <td>WY</td>\n",
       "      <td>83128</td>\n",
       "      <td>0</td>\n",
       "      <td>950.0</td>\n",
       "      <td>480.0</td>\n",
       "      <td>400.0</td>\n",
       "      <td>60.0</td>\n",
       "      <td>820.0</td>\n",
       "      <td>90.0</td>\n",
       "      <td>...</td>\n",
       "      <td>30.0</td>\n",
       "      <td>164.0</td>\n",
       "      <td>270.0</td>\n",
       "      <td>1285.0</td>\n",
       "      <td>670.0</td>\n",
       "      <td>4016.0</td>\n",
       "      <td>620.0</td>\n",
       "      <td>1774.0</td>\n",
       "      <td>50.0</td>\n",
       "      <td>1440.0</td>\n",
       "    </tr>\n",
       "    <tr>\n",
       "      <th>27758</th>\n",
       "      <td>56</td>\n",
       "      <td>WY</td>\n",
       "      <td>83414</td>\n",
       "      <td>0</td>\n",
       "      <td>220.0</td>\n",
       "      <td>80.0</td>\n",
       "      <td>130.0</td>\n",
       "      <td>0.0</td>\n",
       "      <td>210.0</td>\n",
       "      <td>0.0</td>\n",
       "      <td>...</td>\n",
       "      <td>30.0</td>\n",
       "      <td>246.0</td>\n",
       "      <td>60.0</td>\n",
       "      <td>830.0</td>\n",
       "      <td>130.0</td>\n",
       "      <td>1161.0</td>\n",
       "      <td>120.0</td>\n",
       "      <td>645.0</td>\n",
       "      <td>30.0</td>\n",
       "      <td>1670.0</td>\n",
       "    </tr>\n",
       "    <tr>\n",
       "      <th>27759</th>\n",
       "      <td>56</td>\n",
       "      <td>WY</td>\n",
       "      <td>99999</td>\n",
       "      <td>0</td>\n",
       "      <td>16010.0</td>\n",
       "      <td>7690.0</td>\n",
       "      <td>6790.0</td>\n",
       "      <td>1380.0</td>\n",
       "      <td>14450.0</td>\n",
       "      <td>840.0</td>\n",
       "      <td>...</td>\n",
       "      <td>450.0</td>\n",
       "      <td>4298.0</td>\n",
       "      <td>3160.0</td>\n",
       "      <td>22522.0</td>\n",
       "      <td>11900.0</td>\n",
       "      <td>55165.0</td>\n",
       "      <td>11320.0</td>\n",
       "      <td>30926.0</td>\n",
       "      <td>570.0</td>\n",
       "      <td>20898.0</td>\n",
       "    </tr>\n",
       "  </tbody>\n",
       "</table>\n",
       "<p>27760 rows × 153 columns</p>\n",
       "</div>"
      ],
      "text/plain": [
       "       STATEFIPS STATE  ZIPCODE  AGI_STUB         N1     MARS1     MARS2  \\\n",
       "0              1    AL        0         0  2033660.0  841450.0  748460.0   \n",
       "1              1    AL    35004         0     5130.0    2140.0    2120.0   \n",
       "2              1    AL    35005         0     3170.0    1350.0     870.0   \n",
       "3              1    AL    35006         0     1210.0     440.0     580.0   \n",
       "4              1    AL    35007         0    11930.0    4720.0    5180.0   \n",
       "...          ...   ...      ...       ...        ...       ...       ...   \n",
       "27755         56    WY    83126         0      180.0      60.0     110.0   \n",
       "27756         56    WY    83127         0     1550.0     500.0     890.0   \n",
       "27757         56    WY    83128         0      950.0     480.0     400.0   \n",
       "27758         56    WY    83414         0      220.0      80.0     130.0   \n",
       "27759         56    WY    99999         0    16010.0    7690.0    6790.0   \n",
       "\n",
       "          MARS4        ELF     CPREP  ...   N85300    A85300    N11901  \\\n",
       "0      402300.0  1825940.0  106040.0  ...  31890.0  112620.0  382910.0   \n",
       "1         780.0     4660.0     270.0  ...     30.0      32.0     970.0   \n",
       "2         900.0     2840.0     150.0  ...      0.0       0.0     450.0   \n",
       "3         170.0     1120.0      50.0  ...      0.0       0.0     190.0   \n",
       "4        1790.0    10270.0     990.0  ...    110.0      90.0    2720.0   \n",
       "...         ...        ...       ...  ...      ...       ...       ...   \n",
       "27755       0.0      170.0       0.0  ...      0.0       0.0      40.0   \n",
       "27756      90.0     1290.0     120.0  ...     40.0      95.0     460.0   \n",
       "27757      60.0      820.0      90.0  ...     30.0     164.0     270.0   \n",
       "27758       0.0      210.0       0.0  ...     30.0     246.0      60.0   \n",
       "27759    1380.0    14450.0     840.0  ...    450.0    4298.0    3160.0   \n",
       "\n",
       "          A11901     N11900     A11900     N11902     A11902   N12000  \\\n",
       "0      1842204.0  1608610.0  5145662.0  1579020.0  4641848.0  32240.0   \n",
       "1         2693.0     4090.0    11048.0     4020.0    10706.0     70.0   \n",
       "2          964.0     2660.0     7591.0     2640.0     7552.0      0.0   \n",
       "3          466.0      990.0     2822.0      990.0     2812.0      0.0   \n",
       "4         9363.0     8960.0    24472.0     8840.0    23758.0    150.0   \n",
       "...          ...        ...        ...        ...        ...      ...   \n",
       "27755       96.0      130.0      351.0      130.0      338.0      0.0   \n",
       "27756     2809.0     1040.0     2934.0      980.0     2594.0     80.0   \n",
       "27757     1285.0      670.0     4016.0      620.0     1774.0     50.0   \n",
       "27758      830.0      130.0     1161.0      120.0      645.0     30.0   \n",
       "27759    22522.0    11900.0    55165.0    11320.0    30926.0    570.0   \n",
       "\n",
       "         A12000  \n",
       "0      447705.0  \n",
       "1         308.0  \n",
       "2           0.0  \n",
       "3           0.0  \n",
       "4         664.0  \n",
       "...         ...  \n",
       "27755       0.0  \n",
       "27756     275.0  \n",
       "27757    1440.0  \n",
       "27758    1670.0  \n",
       "27759   20898.0  \n",
       "\n",
       "[27760 rows x 153 columns]"
      ]
     },
     "metadata": {},
     "output_type": "display_data"
    }
   ],
   "source": [
    "# read local csv files and put into data frames\n",
    "data_url = '17zpallnoagi.csv'\n",
    "zpallnoagi_csv = pd.read_csv(data_url)\n",
    "raw_tax_df = pd.DataFrame(zpallnoagi_csv)\n",
    "display(raw_tax_df)\n",
    "mhi_data_url = 'MarketHealthIndex_Zip.csv'\n",
    "market_health_csv = pd.read_csv(mhi_data_url, on_bad_lines='skip', encoding = \"ISO-8859-1\")\n",
    "market_health_df = pd.DataFrame(market_health_csv)"
   ]
  },
  {
   "attachments": {},
   "cell_type": "markdown",
   "id": "ea28262b",
   "metadata": {},
   "source": [
    "## Data Cleaning and Imputation"
   ]
  },
  {
   "attachments": {},
   "cell_type": "markdown",
   "id": "af5d1378",
   "metadata": {},
   "source": [
    "### Downselection of Features"
   ]
  },
  {
   "cell_type": "code",
   "execution_count": 3,
   "id": "b4bbfbca-ead7-4153-a762-fb468edd2d7c",
   "metadata": {},
   "outputs": [
    {
     "data": {
      "text/html": [
       "<div>\n",
       "<style scoped>\n",
       "    .dataframe tbody tr th:only-of-type {\n",
       "        vertical-align: middle;\n",
       "    }\n",
       "\n",
       "    .dataframe tbody tr th {\n",
       "        vertical-align: top;\n",
       "    }\n",
       "\n",
       "    .dataframe thead th {\n",
       "        text-align: right;\n",
       "    }\n",
       "</style>\n",
       "<table border=\"1\" class=\"dataframe\">\n",
       "  <thead>\n",
       "    <tr style=\"text-align: right;\">\n",
       "      <th></th>\n",
       "      <th>ZIPCODE</th>\n",
       "      <th>MARS1</th>\n",
       "      <th>MARS2</th>\n",
       "      <th>MARS4</th>\n",
       "      <th>NUMDEP</th>\n",
       "      <th>A00100</th>\n",
       "      <th>N02650</th>\n",
       "      <th>A02650</th>\n",
       "      <th>A00200</th>\n",
       "      <th>A00300</th>\n",
       "      <th>...</th>\n",
       "      <th>N06500</th>\n",
       "      <th>A06500</th>\n",
       "      <th>A85300</th>\n",
       "      <th>MarketHealthIndex</th>\n",
       "      <th>SellForGain</th>\n",
       "      <th>ForeclosureRatio</th>\n",
       "      <th>NegativeEquity</th>\n",
       "      <th>Delinquency</th>\n",
       "      <th>DaysOnMarket</th>\n",
       "      <th>ZHVI</th>\n",
       "    </tr>\n",
       "  </thead>\n",
       "  <tbody>\n",
       "    <tr>\n",
       "      <th>0</th>\n",
       "      <td>35004</td>\n",
       "      <td>2140.0</td>\n",
       "      <td>2120.0</td>\n",
       "      <td>780.0</td>\n",
       "      <td>3350.0</td>\n",
       "      <td>289966.0</td>\n",
       "      <td>5130.0</td>\n",
       "      <td>292671.0</td>\n",
       "      <td>236776.0</td>\n",
       "      <td>902.0</td>\n",
       "      <td>...</td>\n",
       "      <td>3870.0</td>\n",
       "      <td>27796.0</td>\n",
       "      <td>32.0</td>\n",
       "      <td>4.893179</td>\n",
       "      <td>NaN</td>\n",
       "      <td>NaN</td>\n",
       "      <td>0.092712</td>\n",
       "      <td>0.026738</td>\n",
       "      <td>76.0</td>\n",
       "      <td>147100.0</td>\n",
       "    </tr>\n",
       "    <tr>\n",
       "      <th>1</th>\n",
       "      <td>35005</td>\n",
       "      <td>1350.0</td>\n",
       "      <td>870.0</td>\n",
       "      <td>900.0</td>\n",
       "      <td>2230.0</td>\n",
       "      <td>124916.0</td>\n",
       "      <td>3170.0</td>\n",
       "      <td>125810.0</td>\n",
       "      <td>102620.0</td>\n",
       "      <td>261.0</td>\n",
       "      <td>...</td>\n",
       "      <td>2010.0</td>\n",
       "      <td>9187.0</td>\n",
       "      <td>0.0</td>\n",
       "      <td>0.887927</td>\n",
       "      <td>40.00</td>\n",
       "      <td>2.9443</td>\n",
       "      <td>0.250780</td>\n",
       "      <td>0.082988</td>\n",
       "      <td>80.0</td>\n",
       "      <td>75000.0</td>\n",
       "    </tr>\n",
       "    <tr>\n",
       "      <th>2</th>\n",
       "      <td>35006</td>\n",
       "      <td>440.0</td>\n",
       "      <td>580.0</td>\n",
       "      <td>170.0</td>\n",
       "      <td>820.0</td>\n",
       "      <td>59411.0</td>\n",
       "      <td>1210.0</td>\n",
       "      <td>59725.0</td>\n",
       "      <td>46012.0</td>\n",
       "      <td>106.0</td>\n",
       "      <td>...</td>\n",
       "      <td>870.0</td>\n",
       "      <td>5089.0</td>\n",
       "      <td>0.0</td>\n",
       "      <td>6.796082</td>\n",
       "      <td>NaN</td>\n",
       "      <td>NaN</td>\n",
       "      <td>0.221277</td>\n",
       "      <td>0.019231</td>\n",
       "      <td>84.0</td>\n",
       "      <td>78500.0</td>\n",
       "    </tr>\n",
       "    <tr>\n",
       "      <th>3</th>\n",
       "      <td>35007</td>\n",
       "      <td>4720.0</td>\n",
       "      <td>5180.0</td>\n",
       "      <td>1790.0</td>\n",
       "      <td>8840.0</td>\n",
       "      <td>706211.0</td>\n",
       "      <td>11930.0</td>\n",
       "      <td>714402.0</td>\n",
       "      <td>555765.0</td>\n",
       "      <td>1832.0</td>\n",
       "      <td>...</td>\n",
       "      <td>8520.0</td>\n",
       "      <td>72973.0</td>\n",
       "      <td>90.0</td>\n",
       "      <td>5.600114</td>\n",
       "      <td>84.62</td>\n",
       "      <td>0.6175</td>\n",
       "      <td>0.066375</td>\n",
       "      <td>0.037618</td>\n",
       "      <td>55.0</td>\n",
       "      <td>157700.0</td>\n",
       "    </tr>\n",
       "    <tr>\n",
       "      <th>4</th>\n",
       "      <td>35010</td>\n",
       "      <td>3000.0</td>\n",
       "      <td>2710.0</td>\n",
       "      <td>2060.0</td>\n",
       "      <td>5850.0</td>\n",
       "      <td>387333.0</td>\n",
       "      <td>7890.0</td>\n",
       "      <td>391523.0</td>\n",
       "      <td>262452.0</td>\n",
       "      <td>3394.0</td>\n",
       "      <td>...</td>\n",
       "      <td>4740.0</td>\n",
       "      <td>37697.0</td>\n",
       "      <td>688.0</td>\n",
       "      <td>6.150898</td>\n",
       "      <td>NaN</td>\n",
       "      <td>NaN</td>\n",
       "      <td>0.192933</td>\n",
       "      <td>0.017442</td>\n",
       "      <td>147.0</td>\n",
       "      <td>105300.0</td>\n",
       "    </tr>\n",
       "    <tr>\n",
       "      <th>...</th>\n",
       "      <td>...</td>\n",
       "      <td>...</td>\n",
       "      <td>...</td>\n",
       "      <td>...</td>\n",
       "      <td>...</td>\n",
       "      <td>...</td>\n",
       "      <td>...</td>\n",
       "      <td>...</td>\n",
       "      <td>...</td>\n",
       "      <td>...</td>\n",
       "      <td>...</td>\n",
       "      <td>...</td>\n",
       "      <td>...</td>\n",
       "      <td>...</td>\n",
       "      <td>...</td>\n",
       "      <td>...</td>\n",
       "      <td>...</td>\n",
       "      <td>...</td>\n",
       "      <td>...</td>\n",
       "      <td>...</td>\n",
       "      <td>...</td>\n",
       "    </tr>\n",
       "    <tr>\n",
       "      <th>13998</th>\n",
       "      <td>54970</td>\n",
       "      <td>650.0</td>\n",
       "      <td>560.0</td>\n",
       "      <td>150.0</td>\n",
       "      <td>630.0</td>\n",
       "      <td>57723.0</td>\n",
       "      <td>1360.0</td>\n",
       "      <td>58115.0</td>\n",
       "      <td>43406.0</td>\n",
       "      <td>223.0</td>\n",
       "      <td>...</td>\n",
       "      <td>940.0</td>\n",
       "      <td>4676.0</td>\n",
       "      <td>0.0</td>\n",
       "      <td>3.277734</td>\n",
       "      <td>NaN</td>\n",
       "      <td>NaN</td>\n",
       "      <td>0.170391</td>\n",
       "      <td>0.016393</td>\n",
       "      <td>125.0</td>\n",
       "      <td>111500.0</td>\n",
       "    </tr>\n",
       "    <tr>\n",
       "      <th>13999</th>\n",
       "      <td>54971</td>\n",
       "      <td>2660.0</td>\n",
       "      <td>2100.0</td>\n",
       "      <td>450.0</td>\n",
       "      <td>2490.0</td>\n",
       "      <td>288010.0</td>\n",
       "      <td>5230.0</td>\n",
       "      <td>292186.0</td>\n",
       "      <td>206390.0</td>\n",
       "      <td>1779.0</td>\n",
       "      <td>...</td>\n",
       "      <td>3870.0</td>\n",
       "      <td>30295.0</td>\n",
       "      <td>252.0</td>\n",
       "      <td>6.104053</td>\n",
       "      <td>NaN</td>\n",
       "      <td>NaN</td>\n",
       "      <td>0.071623</td>\n",
       "      <td>0.028571</td>\n",
       "      <td>80.0</td>\n",
       "      <td>127100.0</td>\n",
       "    </tr>\n",
       "    <tr>\n",
       "      <th>14000</th>\n",
       "      <td>54974</td>\n",
       "      <td>330.0</td>\n",
       "      <td>380.0</td>\n",
       "      <td>50.0</td>\n",
       "      <td>430.0</td>\n",
       "      <td>45633.0</td>\n",
       "      <td>780.0</td>\n",
       "      <td>46312.0</td>\n",
       "      <td>35437.0</td>\n",
       "      <td>98.0</td>\n",
       "      <td>...</td>\n",
       "      <td>640.0</td>\n",
       "      <td>4240.0</td>\n",
       "      <td>0.0</td>\n",
       "      <td>6.771240</td>\n",
       "      <td>NaN</td>\n",
       "      <td>NaN</td>\n",
       "      <td>0.060201</td>\n",
       "      <td>0.000000</td>\n",
       "      <td>80.0</td>\n",
       "      <td>160400.0</td>\n",
       "    </tr>\n",
       "    <tr>\n",
       "      <th>14001</th>\n",
       "      <td>54979</td>\n",
       "      <td>340.0</td>\n",
       "      <td>380.0</td>\n",
       "      <td>50.0</td>\n",
       "      <td>350.0</td>\n",
       "      <td>45874.0</td>\n",
       "      <td>770.0</td>\n",
       "      <td>46668.0</td>\n",
       "      <td>34219.0</td>\n",
       "      <td>107.0</td>\n",
       "      <td>...</td>\n",
       "      <td>620.0</td>\n",
       "      <td>4493.0</td>\n",
       "      <td>0.0</td>\n",
       "      <td>8.254667</td>\n",
       "      <td>NaN</td>\n",
       "      <td>NaN</td>\n",
       "      <td>0.050000</td>\n",
       "      <td>0.000000</td>\n",
       "      <td>70.0</td>\n",
       "      <td>176000.0</td>\n",
       "    </tr>\n",
       "    <tr>\n",
       "      <th>14002</th>\n",
       "      <td>54986</td>\n",
       "      <td>1130.0</td>\n",
       "      <td>1290.0</td>\n",
       "      <td>160.0</td>\n",
       "      <td>1250.0</td>\n",
       "      <td>196317.0</td>\n",
       "      <td>2600.0</td>\n",
       "      <td>199745.0</td>\n",
       "      <td>129505.0</td>\n",
       "      <td>1673.0</td>\n",
       "      <td>...</td>\n",
       "      <td>2050.0</td>\n",
       "      <td>25872.0</td>\n",
       "      <td>144.0</td>\n",
       "      <td>8.518703</td>\n",
       "      <td>100.00</td>\n",
       "      <td>NaN</td>\n",
       "      <td>0.072483</td>\n",
       "      <td>0.000000</td>\n",
       "      <td>70.0</td>\n",
       "      <td>167700.0</td>\n",
       "    </tr>\n",
       "  </tbody>\n",
       "</table>\n",
       "<p>14003 rows × 51 columns</p>\n",
       "</div>"
      ],
      "text/plain": [
       "       ZIPCODE   MARS1   MARS2   MARS4  NUMDEP    A00100   N02650    A02650  \\\n",
       "0        35004  2140.0  2120.0   780.0  3350.0  289966.0   5130.0  292671.0   \n",
       "1        35005  1350.0   870.0   900.0  2230.0  124916.0   3170.0  125810.0   \n",
       "2        35006   440.0   580.0   170.0   820.0   59411.0   1210.0   59725.0   \n",
       "3        35007  4720.0  5180.0  1790.0  8840.0  706211.0  11930.0  714402.0   \n",
       "4        35010  3000.0  2710.0  2060.0  5850.0  387333.0   7890.0  391523.0   \n",
       "...        ...     ...     ...     ...     ...       ...      ...       ...   \n",
       "13998    54970   650.0   560.0   150.0   630.0   57723.0   1360.0   58115.0   \n",
       "13999    54971  2660.0  2100.0   450.0  2490.0  288010.0   5230.0  292186.0   \n",
       "14000    54974   330.0   380.0    50.0   430.0   45633.0    780.0   46312.0   \n",
       "14001    54979   340.0   380.0    50.0   350.0   45874.0    770.0   46668.0   \n",
       "14002    54986  1130.0  1290.0   160.0  1250.0  196317.0   2600.0  199745.0   \n",
       "\n",
       "         A00200  A00300  ...  N06500   A06500  A85300  MarketHealthIndex  \\\n",
       "0      236776.0   902.0  ...  3870.0  27796.0    32.0           4.893179   \n",
       "1      102620.0   261.0  ...  2010.0   9187.0     0.0           0.887927   \n",
       "2       46012.0   106.0  ...   870.0   5089.0     0.0           6.796082   \n",
       "3      555765.0  1832.0  ...  8520.0  72973.0    90.0           5.600114   \n",
       "4      262452.0  3394.0  ...  4740.0  37697.0   688.0           6.150898   \n",
       "...         ...     ...  ...     ...      ...     ...                ...   \n",
       "13998   43406.0   223.0  ...   940.0   4676.0     0.0           3.277734   \n",
       "13999  206390.0  1779.0  ...  3870.0  30295.0   252.0           6.104053   \n",
       "14000   35437.0    98.0  ...   640.0   4240.0     0.0           6.771240   \n",
       "14001   34219.0   107.0  ...   620.0   4493.0     0.0           8.254667   \n",
       "14002  129505.0  1673.0  ...  2050.0  25872.0   144.0           8.518703   \n",
       "\n",
       "       SellForGain  ForeclosureRatio  NegativeEquity  Delinquency  \\\n",
       "0              NaN               NaN        0.092712     0.026738   \n",
       "1            40.00            2.9443        0.250780     0.082988   \n",
       "2              NaN               NaN        0.221277     0.019231   \n",
       "3            84.62            0.6175        0.066375     0.037618   \n",
       "4              NaN               NaN        0.192933     0.017442   \n",
       "...            ...               ...             ...          ...   \n",
       "13998          NaN               NaN        0.170391     0.016393   \n",
       "13999          NaN               NaN        0.071623     0.028571   \n",
       "14000          NaN               NaN        0.060201     0.000000   \n",
       "14001          NaN               NaN        0.050000     0.000000   \n",
       "14002       100.00               NaN        0.072483     0.000000   \n",
       "\n",
       "       DaysOnMarket      ZHVI  \n",
       "0              76.0  147100.0  \n",
       "1              80.0   75000.0  \n",
       "2              84.0   78500.0  \n",
       "3              55.0  157700.0  \n",
       "4             147.0  105300.0  \n",
       "...             ...       ...  \n",
       "13998         125.0  111500.0  \n",
       "13999          80.0  127100.0  \n",
       "14000          80.0  160400.0  \n",
       "14001          70.0  176000.0  \n",
       "14002          70.0  167700.0  \n",
       "\n",
       "[14003 rows x 51 columns]"
      ]
     },
     "metadata": {},
     "output_type": "display_data"
    }
   ],
   "source": [
    "# Columns used for both sets\n",
    "market_health_cols = ['RegionName','MarketHealthIndex','SellForGain','ForeclosureRatio','NegativeEquity','Delinquency',\n",
    "                      'DaysOnMarket','ZHVI']\n",
    "\n",
    "zip_tax_cols = ['ZIPCODE','MARS1','MARS2','MARS4','NUMDEP','A00100','N02650', 'A02650','A00200','A00300', 'A00900',\n",
    "                'A01000','A01700','SCHF','A02300','A02500','N26270','N03220','A03300','N03150','N03210','N03230',\n",
    "                'A17000','A18425','A18500','A19300','N19570','A19700','A20950','N04800','A04800','A07300','N07180',\n",
    "                'A07180','N07220','A07220','N09400','A09400','A10600','N11070','A11070','N06500','A06500','A85300']\n",
    "\n",
    "# filtered and merged together raw data sets \n",
    "tax_zip_df = raw_tax_df.filter(zip_tax_cols)\n",
    "mh_df = market_health_df.filter(market_health_cols, axis=1)\n",
    "merged_df = pd.merge(tax_zip_df, mh_df, left_on=\"ZIPCODE\", right_on=\"RegionName\")\n",
    "# meaned out rows with same zip code and dropped the duplicate RegionName / zip field\n",
    "# grouped_df = merged_df.groupby('zipcode').mean().reset_index()\n",
    "grouped_df = merged_df.drop(columns=['RegionName'])\n",
    "# most simpliest data frame\n",
    "display(grouped_df)\n"
   ]
  },
  {
   "attachments": {},
   "cell_type": "markdown",
   "id": "b6e38088",
   "metadata": {},
   "source": [
    "### Splitting Training and Holdout Data\n",
    "\n",
    "Only training data will be used for Exploratory Data Analysis"
   ]
  },
  {
   "cell_type": "code",
   "execution_count": 4,
   "id": "3346859d-f195-48e1-8418-2778ae9b7cfd",
   "metadata": {
    "tags": []
   },
   "outputs": [
    {
     "name": "stdout",
     "output_type": "stream",
     "text": [
      "80% of grouped_df 11202.400000000001\n",
      "len of df_eda 11202\n"
     ]
    },
    {
     "data": {
      "text/html": [
       "<div>\n",
       "<style scoped>\n",
       "    .dataframe tbody tr th:only-of-type {\n",
       "        vertical-align: middle;\n",
       "    }\n",
       "\n",
       "    .dataframe tbody tr th {\n",
       "        vertical-align: top;\n",
       "    }\n",
       "\n",
       "    .dataframe thead th {\n",
       "        text-align: right;\n",
       "    }\n",
       "</style>\n",
       "<table border=\"1\" class=\"dataframe\">\n",
       "  <thead>\n",
       "    <tr style=\"text-align: right;\">\n",
       "      <th></th>\n",
       "      <th>ZIPCODE</th>\n",
       "      <th>MARS1</th>\n",
       "      <th>MARS2</th>\n",
       "      <th>MARS4</th>\n",
       "      <th>NUMDEP</th>\n",
       "      <th>A00100</th>\n",
       "      <th>N02650</th>\n",
       "      <th>A02650</th>\n",
       "      <th>A00200</th>\n",
       "      <th>A00300</th>\n",
       "      <th>...</th>\n",
       "      <th>N06500</th>\n",
       "      <th>A06500</th>\n",
       "      <th>A85300</th>\n",
       "      <th>MarketHealthIndex</th>\n",
       "      <th>SellForGain</th>\n",
       "      <th>ForeclosureRatio</th>\n",
       "      <th>NegativeEquity</th>\n",
       "      <th>Delinquency</th>\n",
       "      <th>DaysOnMarket</th>\n",
       "      <th>ZHVI</th>\n",
       "    </tr>\n",
       "  </thead>\n",
       "  <tbody>\n",
       "    <tr>\n",
       "      <th>9140</th>\n",
       "      <td>13850</td>\n",
       "      <td>4710.0</td>\n",
       "      <td>4340.0</td>\n",
       "      <td>710.0</td>\n",
       "      <td>5100.0</td>\n",
       "      <td>806571.0</td>\n",
       "      <td>9940.0</td>\n",
       "      <td>818461.0</td>\n",
       "      <td>517408.0</td>\n",
       "      <td>5937.0</td>\n",
       "      <td>...</td>\n",
       "      <td>7780.0</td>\n",
       "      <td>113416.0</td>\n",
       "      <td>916.0</td>\n",
       "      <td>2.586415</td>\n",
       "      <td>81.82</td>\n",
       "      <td>NaN</td>\n",
       "      <td>0.101289</td>\n",
       "      <td>0.066667</td>\n",
       "      <td>92.0</td>\n",
       "      <td>128500.0</td>\n",
       "    </tr>\n",
       "    <tr>\n",
       "      <th>5412</th>\n",
       "      <td>20616</td>\n",
       "      <td>1690.0</td>\n",
       "      <td>920.0</td>\n",
       "      <td>800.0</td>\n",
       "      <td>2500.0</td>\n",
       "      <td>238866.0</td>\n",
       "      <td>3550.0</td>\n",
       "      <td>239927.0</td>\n",
       "      <td>202262.0</td>\n",
       "      <td>329.0</td>\n",
       "      <td>...</td>\n",
       "      <td>2740.0</td>\n",
       "      <td>23869.0</td>\n",
       "      <td>15.0</td>\n",
       "      <td>5.138051</td>\n",
       "      <td>100.00</td>\n",
       "      <td>NaN</td>\n",
       "      <td>0.244229</td>\n",
       "      <td>0.097561</td>\n",
       "      <td>93.5</td>\n",
       "      <td>263200.0</td>\n",
       "    </tr>\n",
       "    <tr>\n",
       "      <th>5885</th>\n",
       "      <td>1566</td>\n",
       "      <td>1640.0</td>\n",
       "      <td>1540.0</td>\n",
       "      <td>240.0</td>\n",
       "      <td>1790.0</td>\n",
       "      <td>315416.0</td>\n",
       "      <td>3480.0</td>\n",
       "      <td>318920.0</td>\n",
       "      <td>233627.0</td>\n",
       "      <td>1759.0</td>\n",
       "      <td>...</td>\n",
       "      <td>2880.0</td>\n",
       "      <td>46088.0</td>\n",
       "      <td>189.0</td>\n",
       "      <td>6.323373</td>\n",
       "      <td>100.00</td>\n",
       "      <td>NaN</td>\n",
       "      <td>0.085440</td>\n",
       "      <td>0.081633</td>\n",
       "      <td>76.0</td>\n",
       "      <td>274200.0</td>\n",
       "    </tr>\n",
       "    <tr>\n",
       "      <th>4476</th>\n",
       "      <td>46815</td>\n",
       "      <td>6620.0</td>\n",
       "      <td>4850.0</td>\n",
       "      <td>1710.0</td>\n",
       "      <td>7980.0</td>\n",
       "      <td>659101.0</td>\n",
       "      <td>13410.0</td>\n",
       "      <td>666299.0</td>\n",
       "      <td>489028.0</td>\n",
       "      <td>3480.0</td>\n",
       "      <td>...</td>\n",
       "      <td>9400.0</td>\n",
       "      <td>61711.0</td>\n",
       "      <td>161.0</td>\n",
       "      <td>2.110867</td>\n",
       "      <td>NaN</td>\n",
       "      <td>NaN</td>\n",
       "      <td>0.057726</td>\n",
       "      <td>0.047138</td>\n",
       "      <td>49.0</td>\n",
       "      <td>117400.0</td>\n",
       "    </tr>\n",
       "    <tr>\n",
       "      <th>12991</th>\n",
       "      <td>23223</td>\n",
       "      <td>13650.0</td>\n",
       "      <td>3550.0</td>\n",
       "      <td>6570.0</td>\n",
       "      <td>14020.0</td>\n",
       "      <td>1010689.0</td>\n",
       "      <td>24430.0</td>\n",
       "      <td>1021980.0</td>\n",
       "      <td>844452.0</td>\n",
       "      <td>1532.0</td>\n",
       "      <td>...</td>\n",
       "      <td>15710.0</td>\n",
       "      <td>99345.0</td>\n",
       "      <td>183.0</td>\n",
       "      <td>2.631840</td>\n",
       "      <td>76.47</td>\n",
       "      <td>6.3815</td>\n",
       "      <td>0.163589</td>\n",
       "      <td>0.034208</td>\n",
       "      <td>63.0</td>\n",
       "      <td>140900.0</td>\n",
       "    </tr>\n",
       "    <tr>\n",
       "      <th>...</th>\n",
       "      <td>...</td>\n",
       "      <td>...</td>\n",
       "      <td>...</td>\n",
       "      <td>...</td>\n",
       "      <td>...</td>\n",
       "      <td>...</td>\n",
       "      <td>...</td>\n",
       "      <td>...</td>\n",
       "      <td>...</td>\n",
       "      <td>...</td>\n",
       "      <td>...</td>\n",
       "      <td>...</td>\n",
       "      <td>...</td>\n",
       "      <td>...</td>\n",
       "      <td>...</td>\n",
       "      <td>...</td>\n",
       "      <td>...</td>\n",
       "      <td>...</td>\n",
       "      <td>...</td>\n",
       "      <td>...</td>\n",
       "      <td>...</td>\n",
       "    </tr>\n",
       "    <tr>\n",
       "      <th>5478</th>\n",
       "      <td>20764</td>\n",
       "      <td>1050.0</td>\n",
       "      <td>790.0</td>\n",
       "      <td>230.0</td>\n",
       "      <td>1060.0</td>\n",
       "      <td>170241.0</td>\n",
       "      <td>2140.0</td>\n",
       "      <td>172263.0</td>\n",
       "      <td>123188.0</td>\n",
       "      <td>1039.0</td>\n",
       "      <td>...</td>\n",
       "      <td>1730.0</td>\n",
       "      <td>21576.0</td>\n",
       "      <td>98.0</td>\n",
       "      <td>0.962453</td>\n",
       "      <td>66.67</td>\n",
       "      <td>2.1673</td>\n",
       "      <td>0.094488</td>\n",
       "      <td>0.154762</td>\n",
       "      <td>84.0</td>\n",
       "      <td>297200.0</td>\n",
       "    </tr>\n",
       "    <tr>\n",
       "      <th>8548</th>\n",
       "      <td>11420</td>\n",
       "      <td>10820.0</td>\n",
       "      <td>6310.0</td>\n",
       "      <td>5870.0</td>\n",
       "      <td>14790.0</td>\n",
       "      <td>1017704.0</td>\n",
       "      <td>23560.0</td>\n",
       "      <td>1025701.0</td>\n",
       "      <td>865399.0</td>\n",
       "      <td>2268.0</td>\n",
       "      <td>...</td>\n",
       "      <td>15380.0</td>\n",
       "      <td>84131.0</td>\n",
       "      <td>102.0</td>\n",
       "      <td>9.148272</td>\n",
       "      <td>100.00</td>\n",
       "      <td>NaN</td>\n",
       "      <td>0.059478</td>\n",
       "      <td>0.244604</td>\n",
       "      <td>173.5</td>\n",
       "      <td>482700.0</td>\n",
       "    </tr>\n",
       "    <tr>\n",
       "      <th>13100</th>\n",
       "      <td>24087</td>\n",
       "      <td>680.0</td>\n",
       "      <td>650.0</td>\n",
       "      <td>200.0</td>\n",
       "      <td>880.0</td>\n",
       "      <td>71298.0</td>\n",
       "      <td>1570.0</td>\n",
       "      <td>71990.0</td>\n",
       "      <td>56248.0</td>\n",
       "      <td>154.0</td>\n",
       "      <td>...</td>\n",
       "      <td>1080.0</td>\n",
       "      <td>6466.0</td>\n",
       "      <td>0.0</td>\n",
       "      <td>1.754560</td>\n",
       "      <td>NaN</td>\n",
       "      <td>NaN</td>\n",
       "      <td>0.071685</td>\n",
       "      <td>0.050000</td>\n",
       "      <td>71.0</td>\n",
       "      <td>152600.0</td>\n",
       "    </tr>\n",
       "    <tr>\n",
       "      <th>6276</th>\n",
       "      <td>48140</td>\n",
       "      <td>680.0</td>\n",
       "      <td>750.0</td>\n",
       "      <td>120.0</td>\n",
       "      <td>890.0</td>\n",
       "      <td>104425.0</td>\n",
       "      <td>1580.0</td>\n",
       "      <td>105704.0</td>\n",
       "      <td>77579.0</td>\n",
       "      <td>388.0</td>\n",
       "      <td>...</td>\n",
       "      <td>1230.0</td>\n",
       "      <td>11714.0</td>\n",
       "      <td>0.0</td>\n",
       "      <td>3.716374</td>\n",
       "      <td>NaN</td>\n",
       "      <td>NaN</td>\n",
       "      <td>0.080769</td>\n",
       "      <td>0.000000</td>\n",
       "      <td>81.0</td>\n",
       "      <td>164600.0</td>\n",
       "    </tr>\n",
       "    <tr>\n",
       "      <th>11125</th>\n",
       "      <td>16116</td>\n",
       "      <td>570.0</td>\n",
       "      <td>560.0</td>\n",
       "      <td>120.0</td>\n",
       "      <td>630.0</td>\n",
       "      <td>65444.0</td>\n",
       "      <td>1280.0</td>\n",
       "      <td>66167.0</td>\n",
       "      <td>47877.0</td>\n",
       "      <td>228.0</td>\n",
       "      <td>...</td>\n",
       "      <td>890.0</td>\n",
       "      <td>6574.0</td>\n",
       "      <td>0.0</td>\n",
       "      <td>8.264604</td>\n",
       "      <td>100.00</td>\n",
       "      <td>NaN</td>\n",
       "      <td>0.074499</td>\n",
       "      <td>0.000000</td>\n",
       "      <td>108.5</td>\n",
       "      <td>114400.0</td>\n",
       "    </tr>\n",
       "  </tbody>\n",
       "</table>\n",
       "<p>11202 rows × 51 columns</p>\n",
       "</div>"
      ],
      "text/plain": [
       "       ZIPCODE    MARS1   MARS2   MARS4   NUMDEP     A00100   N02650  \\\n",
       "9140     13850   4710.0  4340.0   710.0   5100.0   806571.0   9940.0   \n",
       "5412     20616   1690.0   920.0   800.0   2500.0   238866.0   3550.0   \n",
       "5885      1566   1640.0  1540.0   240.0   1790.0   315416.0   3480.0   \n",
       "4476     46815   6620.0  4850.0  1710.0   7980.0   659101.0  13410.0   \n",
       "12991    23223  13650.0  3550.0  6570.0  14020.0  1010689.0  24430.0   \n",
       "...        ...      ...     ...     ...      ...        ...      ...   \n",
       "5478     20764   1050.0   790.0   230.0   1060.0   170241.0   2140.0   \n",
       "8548     11420  10820.0  6310.0  5870.0  14790.0  1017704.0  23560.0   \n",
       "13100    24087    680.0   650.0   200.0    880.0    71298.0   1570.0   \n",
       "6276     48140    680.0   750.0   120.0    890.0   104425.0   1580.0   \n",
       "11125    16116    570.0   560.0   120.0    630.0    65444.0   1280.0   \n",
       "\n",
       "          A02650    A00200  A00300  ...   N06500    A06500  A85300  \\\n",
       "9140    818461.0  517408.0  5937.0  ...   7780.0  113416.0   916.0   \n",
       "5412    239927.0  202262.0   329.0  ...   2740.0   23869.0    15.0   \n",
       "5885    318920.0  233627.0  1759.0  ...   2880.0   46088.0   189.0   \n",
       "4476    666299.0  489028.0  3480.0  ...   9400.0   61711.0   161.0   \n",
       "12991  1021980.0  844452.0  1532.0  ...  15710.0   99345.0   183.0   \n",
       "...          ...       ...     ...  ...      ...       ...     ...   \n",
       "5478    172263.0  123188.0  1039.0  ...   1730.0   21576.0    98.0   \n",
       "8548   1025701.0  865399.0  2268.0  ...  15380.0   84131.0   102.0   \n",
       "13100    71990.0   56248.0   154.0  ...   1080.0    6466.0     0.0   \n",
       "6276    105704.0   77579.0   388.0  ...   1230.0   11714.0     0.0   \n",
       "11125    66167.0   47877.0   228.0  ...    890.0    6574.0     0.0   \n",
       "\n",
       "       MarketHealthIndex  SellForGain  ForeclosureRatio  NegativeEquity  \\\n",
       "9140            2.586415        81.82               NaN        0.101289   \n",
       "5412            5.138051       100.00               NaN        0.244229   \n",
       "5885            6.323373       100.00               NaN        0.085440   \n",
       "4476            2.110867          NaN               NaN        0.057726   \n",
       "12991           2.631840        76.47            6.3815        0.163589   \n",
       "...                  ...          ...               ...             ...   \n",
       "5478            0.962453        66.67            2.1673        0.094488   \n",
       "8548            9.148272       100.00               NaN        0.059478   \n",
       "13100           1.754560          NaN               NaN        0.071685   \n",
       "6276            3.716374          NaN               NaN        0.080769   \n",
       "11125           8.264604       100.00               NaN        0.074499   \n",
       "\n",
       "       Delinquency  DaysOnMarket      ZHVI  \n",
       "9140      0.066667          92.0  128500.0  \n",
       "5412      0.097561          93.5  263200.0  \n",
       "5885      0.081633          76.0  274200.0  \n",
       "4476      0.047138          49.0  117400.0  \n",
       "12991     0.034208          63.0  140900.0  \n",
       "...            ...           ...       ...  \n",
       "5478      0.154762          84.0  297200.0  \n",
       "8548      0.244604         173.5  482700.0  \n",
       "13100     0.050000          71.0  152600.0  \n",
       "6276      0.000000          81.0  164600.0  \n",
       "11125     0.000000         108.5  114400.0  \n",
       "\n",
       "[11202 rows x 51 columns]"
      ]
     },
     "metadata": {},
     "output_type": "display_data"
    }
   ],
   "source": [
    "# splitting data \n",
    "# df_eda is 80% of random data, df_holdout is 20% of the remaining data\n",
    "df_eda, df_holdout = train_test_split(grouped_df, test_size=0.20, random_state=22)\n",
    "print(\"80% of grouped_df\", .8 * len(grouped_df))\n",
    "print(\"len of df_eda\", len(df_eda))\n",
    "display(df_eda)"
   ]
  },
  {
   "attachments": {},
   "cell_type": "markdown",
   "id": "5e528f54",
   "metadata": {},
   "source": [
    "### Imputation of Missing Values"
   ]
  },
  {
   "cell_type": "code",
   "execution_count": 5,
   "id": "e9e85643",
   "metadata": {},
   "outputs": [
    {
     "name": "stdout",
     "output_type": "stream",
     "text": [
      "train_X shape: (11090, 50)\n",
      "train_y shape: (11090,)\n"
     ]
    },
    {
     "data": {
      "text/html": [
       "<div>\n",
       "<style scoped>\n",
       "    .dataframe tbody tr th:only-of-type {\n",
       "        vertical-align: middle;\n",
       "    }\n",
       "\n",
       "    .dataframe tbody tr th {\n",
       "        vertical-align: top;\n",
       "    }\n",
       "\n",
       "    .dataframe thead th {\n",
       "        text-align: right;\n",
       "    }\n",
       "</style>\n",
       "<table border=\"1\" class=\"dataframe\">\n",
       "  <thead>\n",
       "    <tr style=\"text-align: right;\">\n",
       "      <th></th>\n",
       "      <th>Feature</th>\n",
       "      <th>Number Missing</th>\n",
       "      <th>Percent Missing</th>\n",
       "    </tr>\n",
       "  </thead>\n",
       "  <tbody>\n",
       "    <tr>\n",
       "      <th>0</th>\n",
       "      <td>SellForGain</td>\n",
       "      <td>3645</td>\n",
       "      <td>32.9</td>\n",
       "    </tr>\n",
       "    <tr>\n",
       "      <th>1</th>\n",
       "      <td>ForeclosureRatio</td>\n",
       "      <td>8581</td>\n",
       "      <td>77.4</td>\n",
       "    </tr>\n",
       "    <tr>\n",
       "      <th>2</th>\n",
       "      <td>NegativeEquity</td>\n",
       "      <td>295</td>\n",
       "      <td>2.7</td>\n",
       "    </tr>\n",
       "    <tr>\n",
       "      <th>3</th>\n",
       "      <td>Delinquency</td>\n",
       "      <td>295</td>\n",
       "      <td>2.7</td>\n",
       "    </tr>\n",
       "    <tr>\n",
       "      <th>4</th>\n",
       "      <td>DaysOnMarket</td>\n",
       "      <td>107</td>\n",
       "      <td>1.0</td>\n",
       "    </tr>\n",
       "  </tbody>\n",
       "</table>\n",
       "</div>"
      ],
      "text/plain": [
       "            Feature  Number Missing  Percent Missing\n",
       "0       SellForGain            3645             32.9\n",
       "1  ForeclosureRatio            8581             77.4\n",
       "2    NegativeEquity             295              2.7\n",
       "3       Delinquency             295              2.7\n",
       "4      DaysOnMarket             107              1.0"
      ]
     },
     "metadata": {},
     "output_type": "display_data"
    },
    {
     "name": "stdout",
     "output_type": "stream",
     "text": [
      "\n",
      "Total missing values after imputation:\n",
      "Series([], dtype: int64)\n"
     ]
    }
   ],
   "source": [
    "# First remove rows missing the target variable of ZHVI\n",
    "df_eda = df_eda[df_eda['ZHVI'].notna()]\n",
    "\n",
    "# Split the data into input and target\n",
    "train_X = df_eda.drop(columns=['ZHVI'])\n",
    "train_y = df_eda['ZHVI']\n",
    "\n",
    "print('train_X shape:', train_X.shape)\n",
    "print('train_y shape:', train_y.shape)\n",
    "\n",
    "# Display the missing values\n",
    "missing_values = train_X.isnull().sum()\n",
    "missing_values = missing_values[missing_values > 0]\n",
    "\n",
    "cols = ['Feature', 'Number Missing', 'Percent Missing']\n",
    "missing_df = pd.DataFrame(columns=cols)\n",
    "for col in missing_values.index:\n",
    "    missing_df.loc[len(missing_df.index)] = {'Feature': col,\n",
    "                                    'Number Missing': missing_values[col],\n",
    "                                    'Percent Missing': missing_values[col] / len(df_eda) * 100}\n",
    "\n",
    "pd.set_option('display.float_format', '{:.1f}'.format)\n",
    "display(missing_df)\n",
    "\n",
    "# Impute missing values using KNN\n",
    "imputer = KNNImputer(n_neighbors=5)\n",
    "\n",
    "imputed_values = imputer.fit_transform(train_X)\n",
    "\n",
    "# Convert the numpy array back into a dataframe\n",
    "train_X = pd.DataFrame(imputed_values, columns=train_X.columns)\n",
    "\n",
    "missing_values_after = train_X.isnull().sum()\n",
    "print('\\nTotal missing values after imputation:')\n",
    "print(missing_values_after[missing_values_after > 0])\n",
    "\n",
    "\n"
   ]
  },
  {
   "attachments": {},
   "cell_type": "markdown",
   "id": "f17a6562",
   "metadata": {},
   "source": [
    "## Exploratory Data Analysis"
   ]
  },
  {
   "attachments": {},
   "cell_type": "markdown",
   "id": "474e428e",
   "metadata": {},
   "source": [
    "### Distribution of Key Features and Target Variable"
   ]
  },
  {
   "cell_type": "code",
   "execution_count": 6,
   "id": "411f662f-04b2-48eb-aa7e-5a45148bc2cb",
   "metadata": {
    "tags": []
   },
   "outputs": [
    {
     "data": {
      "image/png": "[encoded data removed]",
      "text/plain": [
       "<Figure size 500x500 with 1 Axes>"
      ]
     },
     "metadata": {},
     "output_type": "display_data"
    },
    {
     "data": {
      "image/png": "[encoded data removed]",
      "text/plain": [
       "<Figure size 500x500 with 1 Axes>"
      ]
     },
     "metadata": {},
     "output_type": "display_data"
    },
    {
     "data": {
      "image/png": "[encoded data removed]",
      "text/plain": [
       "<Figure size 500x500 with 1 Axes>"
      ]
     },
     "metadata": {},
     "output_type": "display_data"
    }
   ],
   "source": [
    "# different graphical display of data\n",
    "\n",
    "# sns.pairplot(df_eda[['A02650', 'MarketHealthIndex', 'ZHVI']])\n",
    "\n",
    "# two histogram options seperated and together\n",
    "# together\n",
    "\n",
    "ax1 = sns.displot(train_X, x=train_X['A02650'],  kde = True, color=\"olive\", label = 'income')\n",
    "# ax1.set(xticks=(0,9000000))\n",
    "\n",
    "plt.title('Total Income For 80% of Random Zipcodes')\n",
    "plt.xlabel('Dollars (value * 1e^7)')\n",
    "plt.ylabel('Density')\n",
    "\n",
    "\n",
    "sns.displot(train_X, x=train_X['MarketHealthIndex'], kde = True, color=\"blue\", label = 'market_health_index')\n",
    "\n",
    "plt.title('Housing Market Health Index')\n",
    "plt.xlabel('Score (0-10)')\n",
    "plt.ylabel('Density')\n",
    "\n",
    "sns.displot(train_y, x=train_y, kde = True, color=\"yellow\", label = 'zillow_housing_value_index')\n",
    "\n",
    "plt.title('Zillow Housing Value Index')\n",
    "plt.xlabel('Dollars (value * 1e^6)')\n",
    "plt.ylabel('Density')\n",
    "\n",
    "plt.tight_layout()\n",
    "\n"
   ]
  },
  {
   "cell_type": "code",
   "execution_count": 7,
   "id": "b5955572-1114-483f-91ca-9a24fe3523d8",
   "metadata": {
    "tags": []
   },
   "outputs": [
    {
     "data": {
      "image/png": "[encoded data removed]",
      "text/plain": [
       "<Figure size 1000x1000 with 3 Axes>"
      ]
     },
     "metadata": {},
     "output_type": "display_data"
    }
   ],
   "source": [
    "fig, axs = plt.subplots(3, figsize=(10,10))\n",
    "\n",
    "axs[0].ticklabel_format(axis='both', style='plain')\n",
    "\n",
    "# Create a histogram for 'income'\n",
    "axs[0].hist(train_X['A02650'], bins='auto', color='blue', alpha=0.7, rwidth=0.85)\n",
    "axs[0].grid(axis='y', alpha=0.9)\n",
    "axs[0].set_title('Total Income For 80% of Random Zipcodes')\n",
    "axs[0].set_xlabel('Dollars (value * 1e^7)')\n",
    "axs[0].set_ylabel('Density')\n",
    "\n",
    "# Create a histogram for 'market_health_index'\n",
    "axs[1].hist(train_X['MarketHealthIndex'], bins=20, color='green', alpha=0.7, rwidth=0.85)\n",
    "axs[1].set_title('Housing Market Health Index')\n",
    "axs[1].set_xlabel('Score (0-10)')\n",
    "axs[1].set_ylabel('Density')\n",
    "\n",
    "\n",
    "# Create a histogram for 'zillow_housing_value_index'\n",
    "axs[2].hist(train_y, bins=20, color='red', alpha=0.7)\n",
    "axs[2].ticklabel_format(axis='both', style='plain')\n",
    "axs[2].ticklabel_format(axis='both', style='plain')\n",
    "axs[2].set_title('Zillow Housing Value Index')\n",
    "axs[2].set_xlabel(\"Dollars (value * 1e^6)\")\n",
    "axs[2].set_ylabel(\"Density\")\n",
    "\n",
    "plt.tight_layout()"
   ]
  },
  {
   "attachments": {},
   "cell_type": "markdown",
   "id": "30276978",
   "metadata": {},
   "source": [
    "### Data Loss from Dataset Merge"
   ]
  },
  {
   "cell_type": "code",
   "execution_count": 8,
   "id": "9055d1fe",
   "metadata": {},
   "outputs": [
    {
     "name": "stdout",
     "output_type": "stream",
     "text": [
      "  STATE  STATEFIPS_x  ZIPCODE_x  AGI_STUB_x       N1_x    MARS1_x    MARS2_x  \\\n",
      "0    AK          110    5380952           0   690610.0   350390.0   249740.0   \n",
      "1    AL          576   20736287           0  4068620.0  1683950.0  1498020.0   \n",
      "2    AR         2455   35462259           0  2428630.0  1002100.0   960340.0   \n",
      "3    AZ         1180   25160457           0  5955380.0  2738520.0  2180910.0   \n",
      "4    CA         8868  138152636           0 35656240.0 17534890.0 12530350.0   \n",
      "\n",
      "    MARS4_x      ELF_x   CPREP_x  ...  A85300_y  N11901_y   A11901_y  \\\n",
      "0   74020.0   598630.0   45860.0  ...   15655.0   47680.0   220760.0   \n",
      "1  805670.0  3653470.0  212930.0  ...   90746.0  270880.0  1390343.0   \n",
      "2  417010.0  2198070.0  108510.0  ...  278575.0  155880.0   731445.0   \n",
      "3  956810.0  5232040.0  408960.0  ...  280924.0  647860.0  3204363.0   \n",
      "4 5073960.0 31315660.0 2617960.0  ... 3775191.0 4156540.0 26776534.0   \n",
      "\n",
      "    N11900_y   A11900_y   N11902_y   A11902_y  N12000_y   A12000_y  Ratio  \n",
      "0   151500.0   529732.0   147480.0   442576.0    5060.0    79632.0    0.3  \n",
      "1  1055820.0  3414487.0  1034570.0  3032200.0   25030.0   362760.0    0.3  \n",
      "2   616910.0  1951705.0   605400.0  1715771.0   13990.0   223274.0    0.3  \n",
      "3  2025950.0  6527250.0  1977810.0  5553893.0   60630.0   926838.0    0.5  \n",
      "4 12548490.0 48209080.0 12146330.0 36690540.0  492950.0 11188160.0    0.5  \n",
      "\n",
      "[5 rows x 306 columns]\n"
     ]
    },
    {
     "data": {
      "application/vnd.plotly.v1+json": {
       "config": {
        "plotlyServerURL": "https://plot.ly"
       },
       "data": [
        {
         "coloraxis": "coloraxis",
         "geo": "geo",
         "hovertemplate": "<b>%{hovertext}</b><br><br>STATE=%{location}<br>Ratio=%{z}<extra></extra>",
         "hovertext": [
          "AK",
          "AL",
          "AR",
          "AZ",
          "CA",
          "CO",
          "CT",
          "DC",
          "DE",
          "FL",
          "GA",
          "HI",
          "IA",
          "ID",
          "IL",
          "IN",
          "KS",
          "KY",
          "LA",
          "MA",
          "MD",
          "ME",
          "MI",
          "MN",
          "MO",
          "MS",
          "MT",
          "NC",
          "ND",
          "NE",
          "NH",
          "NJ",
          "NM",
          "NV",
          "NY",
          "OH",
          "OK",
          "OR",
          "PA",
          "RI",
          "SC",
          "SD",
          "TN",
          "TX",
          "UT",
          "VA",
          "WA",
          "WI",
          "WV"
         ],
         "locationmode": "USA-states",
         "locations": [
          "AK",
          "AL",
          "AR",
          "AZ",
          "CA",
          "CO",
          "CT",
          "DC",
          "DE",
          "FL",
          "GA",
          "HI",
          "IA",
          "ID",
          "IL",
          "IN",
          "KS",
          "KY",
          "LA",
          "MA",
          "MD",
          "ME",
          "MI",
          "MN",
          "MO",
          "MS",
          "MT",
          "NC",
          "ND",
          "NE",
          "NH",
          "NJ",
          "NM",
          "NV",
          "NY",
          "OH",
          "OK",
          "OR",
          "PA",
          "RI",
          "SC",
          "SD",
          "TN",
          "TX",
          "UT",
          "VA",
          "WA",
          "WI",
          "WV"
         ],
         "name": "",
         "type": "choropleth",
         "z": [
          0.29449327406206105,
          0.33243212686365403,
          0.3247221684653488,
          0.4628453599938207,
          0.48005257985698996,
          0.46322416724269994,
          0.49308874526435154,
          0.4961078192169165,
          0.3982653361047328,
          0.4795218350869416,
          0.4154514510628186,
          0.4527522060226989,
          0.31270336791167225,
          0.4090173056034971,
          0.4494643381515954,
          0.4103118340925283,
          0.35111738539807685,
          0.32527086568911556,
          0.3545434421123621,
          0.48774867579908676,
          0.4918132057727048,
          0.30458922729576554,
          0.42197367791846213,
          0.38955304155993326,
          0.35157530652249575,
          0.24852097709873555,
          0.22092612943228448,
          0.4213458046451139,
          0.2733760600039182,
          0.2451950293987411,
          0.46376780519879646,
          0.49153517385301665,
          0.3387697040872025,
          0.4674554092886268,
          0.3820189131241302,
          0.45410500906117596,
          0.40494718595283524,
          0.451734763065372,
          0.45915468305071283,
          0.4936588578417537,
          0.4216604752478827,
          0.17492254419537087,
          0.46547304340574575,
          0.09557789400685708,
          0.38542839584868066,
          0.43672052009552775,
          0.47304724074336785,
          0.4108799790939413,
          0.23740845813815398
         ]
        }
       ],
       "layout": {
        "coloraxis": {
         "colorbar": {
          "title": {
           "text": "Ratio"
          }
         },
         "colorscale": [
          [
           0,
           "#440154"
          ],
          [
           0.1111111111111111,
           "#482878"
          ],
          [
           0.2222222222222222,
           "#3e4989"
          ],
          [
           0.3333333333333333,
           "#31688e"
          ],
          [
           0.4444444444444444,
           "#26828e"
          ],
          [
           0.5555555555555556,
           "#1f9e89"
          ],
          [
           0.6666666666666666,
           "#35b779"
          ],
          [
           0.7777777777777778,
           "#6ece58"
          ],
          [
           0.8888888888888888,
           "#b5de2b"
          ],
          [
           1,
           "#fde725"
          ]
         ]
        },
        "geo": {
         "center": {},
         "domain": {
          "x": [
           0,
           1
          ],
          "y": [
           0,
           1
          ]
         },
         "scope": "usa"
        },
        "legend": {
         "tracegroupgap": 0
        },
        "margin": {
         "t": 60
        },
        "template": {
         "data": {
          "bar": [
           {
            "error_x": {
             "color": "#2a3f5f"
            },
            "error_y": {
             "color": "#2a3f5f"
            },
            "marker": {
             "line": {
              "color": "#E5ECF6",
              "width": 0.5
             },
             "pattern": {
              "fillmode": "overlay",
              "size": 10,
              "solidity": 0.2
             }
            },
            "type": "bar"
           }
          ],
          "barpolar": [
           {
            "marker": {
             "line": {
              "color": "#E5ECF6",
              "width": 0.5
             },
             "pattern": {
              "fillmode": "overlay",
              "size": 10,
              "solidity": 0.2
             }
            },
            "type": "barpolar"
           }
          ],
          "carpet": [
           {
            "aaxis": {
             "endlinecolor": "#2a3f5f",
             "gridcolor": "white",
             "linecolor": "white",
             "minorgridcolor": "white",
             "startlinecolor": "#2a3f5f"
            },
            "baxis": {
             "endlinecolor": "#2a3f5f",
             "gridcolor": "white",
             "linecolor": "white",
             "minorgridcolor": "white",
             "startlinecolor": "#2a3f5f"
            },
            "type": "carpet"
           }
          ],
          "choropleth": [
           {
            "colorbar": {
             "outlinewidth": 0,
             "ticks": ""
            },
            "type": "choropleth"
           }
          ],
          "contour": [
           {
            "colorbar": {
             "outlinewidth": 0,
             "ticks": ""
            },
            "colorscale": [
             [
              0,
              "#0d0887"
             ],
             [
              0.1111111111111111,
              "#46039f"
             ],
             [
              0.2222222222222222,
              "#7201a8"
             ],
             [
              0.3333333333333333,
              "#9c179e"
             ],
             [
              0.4444444444444444,
              "#bd3786"
             ],
             [
              0.5555555555555556,
              "#d8576b"
             ],
             [
              0.6666666666666666,
              "#ed7953"
             ],
             [
              0.7777777777777778,
              "#fb9f3a"
             ],
             [
              0.8888888888888888,
              "#fdca26"
             ],
             [
              1,
              "#f0f921"
             ]
            ],
            "type": "contour"
           }
          ],
          "contourcarpet": [
           {
            "colorbar": {
             "outlinewidth": 0,
             "ticks": ""
            },
            "type": "contourcarpet"
           }
          ],
          "heatmap": [
           {
            "colorbar": {
             "outlinewidth": 0,
             "ticks": ""
            },
            "colorscale": [
             [
              0,
              "#0d0887"
             ],
             [
              0.1111111111111111,
              "#46039f"
             ],
             [
              0.2222222222222222,
              "#7201a8"
             ],
             [
              0.3333333333333333,
              "#9c179e"
             ],
             [
              0.4444444444444444,
              "#bd3786"
             ],
             [
              0.5555555555555556,
              "#d8576b"
             ],
             [
              0.6666666666666666,
              "#ed7953"
             ],
             [
              0.7777777777777778,
              "#fb9f3a"
             ],
             [
              0.8888888888888888,
              "#fdca26"
             ],
             [
              1,
              "#f0f921"
             ]
            ],
            "type": "heatmap"
           }
          ],
          "heatmapgl": [
           {
            "colorbar": {
             "outlinewidth": 0,
             "ticks": ""
            },
            "colorscale": [
             [
              0,
              "#0d0887"
             ],
             [
              0.1111111111111111,
              "#46039f"
             ],
             [
              0.2222222222222222,
              "#7201a8"
             ],
             [
              0.3333333333333333,
              "#9c179e"
             ],
             [
              0.4444444444444444,
              "#bd3786"
             ],
             [
              0.5555555555555556,
              "#d8576b"
             ],
             [
              0.6666666666666666,
              "#ed7953"
             ],
             [
              0.7777777777777778,
              "#fb9f3a"
             ],
             [
              0.8888888888888888,
              "#fdca26"
             ],
             [
              1,
              "#f0f921"
             ]
            ],
            "type": "heatmapgl"
           }
          ],
          "histogram": [
           {
            "marker": {
             "pattern": {
              "fillmode": "overlay",
              "size": 10,
              "solidity": 0.2
             }
            },
            "type": "histogram"
           }
          ],
          "histogram2d": [
           {
            "colorbar": {
             "outlinewidth": 0,
             "ticks": ""
            },
            "colorscale": [
             [
              0,
              "#0d0887"
             ],
             [
              0.1111111111111111,
              "#46039f"
             ],
             [
              0.2222222222222222,
              "#7201a8"
             ],
             [
              0.3333333333333333,
              "#9c179e"
             ],
             [
              0.4444444444444444,
              "#bd3786"
             ],
             [
              0.5555555555555556,
              "#d8576b"
             ],
             [
              0.6666666666666666,
              "#ed7953"
             ],
             [
              0.7777777777777778,
              "#fb9f3a"
             ],
             [
              0.8888888888888888,
              "#fdca26"
             ],
             [
              1,
              "#f0f921"
             ]
            ],
            "type": "histogram2d"
           }
          ],
          "histogram2dcontour": [
           {
            "colorbar": {
             "outlinewidth": 0,
             "ticks": ""
            },
            "colorscale": [
             [
              0,
              "#0d0887"
             ],
             [
              0.1111111111111111,
              "#46039f"
             ],
             [
              0.2222222222222222,
              "#7201a8"
             ],
             [
              0.3333333333333333,
              "#9c179e"
             ],
             [
              0.4444444444444444,
              "#bd3786"
             ],
             [
              0.5555555555555556,
              "#d8576b"
             ],
             [
              0.6666666666666666,
              "#ed7953"
             ],
             [
              0.7777777777777778,
              "#fb9f3a"
             ],
             [
              0.8888888888888888,
              "#fdca26"
             ],
             [
              1,
              "#f0f921"
             ]
            ],
            "type": "histogram2dcontour"
           }
          ],
          "mesh3d": [
           {
            "colorbar": {
             "outlinewidth": 0,
             "ticks": ""
            },
            "type": "mesh3d"
           }
          ],
          "parcoords": [
           {
            "line": {
             "colorbar": {
              "outlinewidth": 0,
              "ticks": ""
             }
            },
            "type": "parcoords"
           }
          ],
          "pie": [
           {
            "automargin": true,
            "type": "pie"
           }
          ],
          "scatter": [
           {
            "fillpattern": {
             "fillmode": "overlay",
             "size": 10,
             "solidity": 0.2
            },
            "type": "scatter"
           }
          ],
          "scatter3d": [
           {
            "line": {
             "colorbar": {
              "outlinewidth": 0,
              "ticks": ""
             }
            },
            "marker": {
             "colorbar": {
              "outlinewidth": 0,
              "ticks": ""
             }
            },
            "type": "scatter3d"
           }
          ],
          "scattercarpet": [
           {
            "marker": {
             "colorbar": {
              "outlinewidth": 0,
              "ticks": ""
             }
            },
            "type": "scattercarpet"
           }
          ],
          "scattergeo": [
           {
            "marker": {
             "colorbar": {
              "outlinewidth": 0,
              "ticks": ""
             }
            },
            "type": "scattergeo"
           }
          ],
          "scattergl": [
           {
            "marker": {
             "colorbar": {
              "outlinewidth": 0,
              "ticks": ""
             }
            },
            "type": "scattergl"
           }
          ],
          "scattermapbox": [
           {
            "marker": {
             "colorbar": {
              "outlinewidth": 0,
              "ticks": ""
             }
            },
            "type": "scattermapbox"
           }
          ],
          "scatterpolar": [
           {
            "marker": {
             "colorbar": {
              "outlinewidth": 0,
              "ticks": ""
             }
            },
            "type": "scatterpolar"
           }
          ],
          "scatterpolargl": [
           {
            "marker": {
             "colorbar": {
              "outlinewidth": 0,
              "ticks": ""
             }
            },
            "type": "scatterpolargl"
           }
          ],
          "scatterternary": [
           {
            "marker": {
             "colorbar": {
              "outlinewidth": 0,
              "ticks": ""
             }
            },
            "type": "scatterternary"
           }
          ],
          "surface": [
           {
            "colorbar": {
             "outlinewidth": 0,
             "ticks": ""
            },
            "colorscale": [
             [
              0,
              "#0d0887"
             ],
             [
              0.1111111111111111,
              "#46039f"
             ],
             [
              0.2222222222222222,
              "#7201a8"
             ],
             [
              0.3333333333333333,
              "#9c179e"
             ],
             [
              0.4444444444444444,
              "#bd3786"
             ],
             [
              0.5555555555555556,
              "#d8576b"
             ],
             [
              0.6666666666666666,
              "#ed7953"
             ],
             [
              0.7777777777777778,
              "#fb9f3a"
             ],
             [
              0.8888888888888888,
              "#fdca26"
             ],
             [
              1,
              "#f0f921"
             ]
            ],
            "type": "surface"
           }
          ],
          "table": [
           {
            "cells": {
             "fill": {
              "color": "#EBF0F8"
             },
             "line": {
              "color": "white"
             }
            },
            "header": {
             "fill": {
              "color": "#C8D4E3"
             },
             "line": {
              "color": "white"
             }
            },
            "type": "table"
           }
          ]
         },
         "layout": {
          "annotationdefaults": {
           "arrowcolor": "#2a3f5f",
           "arrowhead": 0,
           "arrowwidth": 1
          },
          "autotypenumbers": "strict",
          "coloraxis": {
           "colorbar": {
            "outlinewidth": 0,
            "ticks": ""
           }
          },
          "colorscale": {
           "diverging": [
            [
             0,
             "#8e0152"
            ],
            [
             0.1,
             "#c51b7d"
            ],
            [
             0.2,
             "#de77ae"
            ],
            [
             0.3,
             "#f1b6da"
            ],
            [
             0.4,
             "#fde0ef"
            ],
            [
             0.5,
             "#f7f7f7"
            ],
            [
             0.6,
             "#e6f5d0"
            ],
            [
             0.7,
             "#b8e186"
            ],
            [
             0.8,
             "#7fbc41"
            ],
            [
             0.9,
             "#4d9221"
            ],
            [
             1,
             "#276419"
            ]
           ],
           "sequential": [
            [
             0,
             "#0d0887"
            ],
            [
             0.1111111111111111,
             "#46039f"
            ],
            [
             0.2222222222222222,
             "#7201a8"
            ],
            [
             0.3333333333333333,
             "#9c179e"
            ],
            [
             0.4444444444444444,
             "#bd3786"
            ],
            [
             0.5555555555555556,
             "#d8576b"
            ],
            [
             0.6666666666666666,
             "#ed7953"
            ],
            [
             0.7777777777777778,
             "#fb9f3a"
            ],
            [
             0.8888888888888888,
             "#fdca26"
            ],
            [
             1,
             "#f0f921"
            ]
           ],
           "sequentialminus": [
            [
             0,
             "#0d0887"
            ],
            [
             0.1111111111111111,
             "#46039f"
            ],
            [
             0.2222222222222222,
             "#7201a8"
            ],
            [
             0.3333333333333333,
             "#9c179e"
            ],
            [
             0.4444444444444444,
             "#bd3786"
            ],
            [
             0.5555555555555556,
             "#d8576b"
            ],
            [
             0.6666666666666666,
             "#ed7953"
            ],
            [
             0.7777777777777778,
             "#fb9f3a"
            ],
            [
             0.8888888888888888,
             "#fdca26"
            ],
            [
             1,
             "#f0f921"
            ]
           ]
          },
          "colorway": [
           "#636efa",
           "#EF553B",
           "#00cc96",
           "#ab63fa",
           "#FFA15A",
           "#19d3f3",
           "#FF6692",
           "#B6E880",
           "#FF97FF",
           "#FECB52"
          ],
          "font": {
           "color": "#2a3f5f"
          },
          "geo": {
           "bgcolor": "white",
           "lakecolor": "white",
           "landcolor": "#E5ECF6",
           "showlakes": true,
           "showland": true,
           "subunitcolor": "white"
          },
          "hoverlabel": {
           "align": "left"
          },
          "hovermode": "closest",
          "mapbox": {
           "style": "light"
          },
          "paper_bgcolor": "white",
          "plot_bgcolor": "#E5ECF6",
          "polar": {
           "angularaxis": {
            "gridcolor": "white",
            "linecolor": "white",
            "ticks": ""
           },
           "bgcolor": "#E5ECF6",
           "radialaxis": {
            "gridcolor": "white",
            "linecolor": "white",
            "ticks": ""
           }
          },
          "scene": {
           "xaxis": {
            "backgroundcolor": "#E5ECF6",
            "gridcolor": "white",
            "gridwidth": 2,
            "linecolor": "white",
            "showbackground": true,
            "ticks": "",
            "zerolinecolor": "white"
           },
           "yaxis": {
            "backgroundcolor": "#E5ECF6",
            "gridcolor": "white",
            "gridwidth": 2,
            "linecolor": "white",
            "showbackground": true,
            "ticks": "",
            "zerolinecolor": "white"
           },
           "zaxis": {
            "backgroundcolor": "#E5ECF6",
            "gridcolor": "white",
            "gridwidth": 2,
            "linecolor": "white",
            "showbackground": true,
            "ticks": "",
            "zerolinecolor": "white"
           }
          },
          "shapedefaults": {
           "line": {
            "color": "#2a3f5f"
           }
          },
          "ternary": {
           "aaxis": {
            "gridcolor": "white",
            "linecolor": "white",
            "ticks": ""
           },
           "baxis": {
            "gridcolor": "white",
            "linecolor": "white",
            "ticks": ""
           },
           "bgcolor": "#E5ECF6",
           "caxis": {
            "gridcolor": "white",
            "linecolor": "white",
            "ticks": ""
           }
          },
          "title": {
           "x": 0.05
          },
          "xaxis": {
           "automargin": true,
           "gridcolor": "white",
           "linecolor": "white",
           "ticks": "",
           "title": {
            "standoff": 15
           },
           "zerolinecolor": "white",
           "zerolinewidth": 2
          },
          "yaxis": {
           "automargin": true,
           "gridcolor": "white",
           "linecolor": "white",
           "ticks": "",
           "title": {
            "standoff": 15
           },
           "zerolinecolor": "white",
           "zerolinewidth": 2
          }
         }
        }
       }
      }
     },
     "metadata": {},
     "output_type": "display_data"
    }
   ],
   "source": [
    "available_returns = raw_tax_df.groupby(['STATE']).sum().reset_index()\n",
    "market_health_zips = market_health_df['RegionName'].tolist()\n",
    "\n",
    "\n",
    "used_returns = raw_tax_df[raw_tax_df['ZIPCODE'].isin(market_health_zips)]\n",
    "\n",
    "used_returns = used_returns.groupby(['STATE']).sum().reset_index()\n",
    "\n",
    "\n",
    "merged_df = pd.merge(available_returns, used_returns, on='STATE', how='inner')\n",
    "\n",
    "merged_df['Ratio'] = merged_df['N1_y'] / merged_df['N1_x']\n",
    "\n",
    "print(merged_df.head())\n",
    "\n",
    "import plotly.express as px\n",
    "\n",
    "# May need pip install --upgrade nbformat\n",
    "\n",
    "fig = px.choropleth(merged_df, locations=\"STATE\", color=\"Ratio\", hover_name=\"STATE\", locationmode='USA-states', scope='usa', color_continuous_scale=\"Viridis\")\n",
    "\n",
    "fig.show()\n"
   ]
  },
  {
   "attachments": {},
   "cell_type": "markdown",
   "id": "7b720d78",
   "metadata": {},
   "source": [
    "## Model Selection"
   ]
  },
  {
   "attachments": {},
   "cell_type": "markdown",
   "id": "464efe89",
   "metadata": {},
   "source": [
    "### Final Data Preparation\n",
    "\n",
    "Split holdout into validation and train sets and perform same data cleaning as training values.\n",
    "Normalize all inputs. "
   ]
  },
  {
   "cell_type": "code",
   "execution_count": 9,
   "id": "77c6dd3c",
   "metadata": {},
   "outputs": [
    {
     "name": "stdout",
     "output_type": "stream",
     "text": [
      "   ZIPCODE  MARS1  MARS2  MARS4  NUMDEP    A00100  N02650    A02650    A00200  \\\n",
      "0  13339.0 1180.0 1020.0  360.0  1830.0  112286.0  2620.0  113703.0   83664.0   \n",
      "1  18938.0 3410.0 3270.0  340.0  3210.0 1838641.0  7120.0 1868117.0 1049046.0   \n",
      "2  57107.0 2740.0 1820.0  650.0  3010.0  292479.0  5300.0  297478.0  226949.0   \n",
      "3  80236.0 3810.0 2410.0 1160.0  4850.0  382841.0  7550.0  387142.0  287733.0   \n",
      "4  13648.0  430.0  420.0  100.0   560.0   48907.0   960.0   49259.0   37117.0   \n",
      "\n",
      "   A00300  ...  A11070  N06500   A06500  A85300  MarketHealthIndex  \\\n",
      "0   389.0  ...   470.0  1730.0   9001.0     0.0                4.1   \n",
      "1 25914.0  ...   123.0  5670.0 434746.0  9539.0                3.1   \n",
      "2  1577.0  ...   871.0  4010.0  32849.0   226.0                5.0   \n",
      "3  1669.0  ...  1379.0  5460.0  36672.0   101.0                8.5   \n",
      "4   118.0  ...   106.0   740.0   4343.0     0.0                2.5   \n",
      "\n",
      "   SellForGain  ForeclosureRatio  NegativeEquity  Delinquency  DaysOnMarket  \n",
      "0         72.1              16.4             0.1          0.2         103.0  \n",
      "1         81.8               2.7             0.1          0.0         128.0  \n",
      "2         80.7               2.7             0.1          0.0          62.0  \n",
      "3         92.3               3.4             0.0          0.0          51.0  \n",
      "4          0.0             114.5             0.1          0.0         131.5  \n",
      "\n",
      "[5 rows x 50 columns]\n",
      "   ZIPCODE   MARS1  MARS2  MARS4  NUMDEP    A00100  N02650    A02650   A00200  \\\n",
      "0  13850.0  4710.0 4340.0  710.0  5100.0  806571.0  9940.0  818461.0 517408.0   \n",
      "1  20616.0  1690.0  920.0  800.0  2500.0  238866.0  3550.0  239927.0 202262.0   \n",
      "2   1566.0  1640.0 1540.0  240.0  1790.0  315416.0  3480.0  318920.0 233627.0   \n",
      "3  46815.0  6620.0 4850.0 1710.0  7980.0  659101.0 13410.0  666299.0 489028.0   \n",
      "4  23223.0 13650.0 3550.0 6570.0 14020.0 1010689.0 24430.0 1021980.0 844452.0   \n",
      "\n",
      "   A00300  ...  A11070  N06500   A06500  A85300  MarketHealthIndex  \\\n",
      "0  5937.0  ...   749.0  7780.0 113416.0   916.0                2.6   \n",
      "1   329.0  ...   540.0  2740.0  23869.0    15.0                5.1   \n",
      "2  1759.0  ...   117.0  2880.0  46088.0   189.0                6.3   \n",
      "3  3480.0  ...  2047.0  9400.0  61711.0   161.0                2.1   \n",
      "4  1532.0  ...  5771.0 15710.0  99345.0   183.0                2.6   \n",
      "\n",
      "   SellForGain  ForeclosureRatio  NegativeEquity  Delinquency  DaysOnMarket  \n",
      "0         81.8               2.2             0.1          0.1          92.0  \n",
      "1        100.0              10.2             0.2          0.1          93.5  \n",
      "2        100.0              10.4             0.1          0.1          76.0  \n",
      "3         95.0               3.0             0.1          0.0          49.0  \n",
      "4         76.5               6.4             0.2          0.0          63.0  \n",
      "\n",
      "[5 rows x 50 columns]\n",
      "first row of val_X after scaling:\n",
      " [-1.0836038  -0.7583317  -0.73939645 -0.55977768 -0.6286269  -0.69401518\n",
      " -0.77008049 -0.69385181 -0.73989555 -0.33623331 -0.66124618 -0.29348372\n",
      " -0.76030457  1.28187542 -0.38335954 -0.76466985 -0.59584512 -0.6249515\n",
      " -0.40092449 -0.68474312 -0.70724626 -0.80108183 -0.83084462 -0.40020507\n",
      " -0.57196738 -0.72866619 -0.50192263 -0.49051572 -0.38544468 -0.78970575\n",
      " -0.65344215 -0.18546596 -0.80852861 -0.79370965 -0.63795142 -0.65442834\n",
      " -0.77243049 -0.67804794 -0.56765963 -0.46437073 -0.45350618 -0.79859894\n",
      " -0.55206969 -0.24373723 -0.31040518 -0.88528256 -0.01119315  0.12854783\n",
      "  2.89594215  0.65642784]\n"
     ]
    },
    {
     "name": "stderr",
     "output_type": "stream",
     "text": [
      "/Users/kdevoe/Documents/CS/Masters/AAI500/FInal_Project/aai-500-final-group-4/env/lib/python3.10/site-packages/sklearn/base.py:439: UserWarning:\n",
      "\n",
      "X does not have valid feature names, but StandardScaler was fitted with feature names\n",
      "\n",
      "/Users/kdevoe/Documents/CS/Masters/AAI500/FInal_Project/aai-500-final-group-4/env/lib/python3.10/site-packages/sklearn/base.py:439: UserWarning:\n",
      "\n",
      "X does not have valid feature names, but StandardScaler was fitted with feature names\n",
      "\n"
     ]
    }
   ],
   "source": [
    "# Final data preparation for modeling\n",
    "\n",
    "\n",
    "# Remove rows missing the target variable of ZHVI\n",
    "df_holdout = df_holdout[df_holdout['ZHVI'].notna()]\n",
    "\n",
    "# Split holdout data into validation and test set\n",
    "val, test = train_test_split(df_holdout, test_size=0.50, random_state=22)\n",
    "\n",
    "# Split the data into input and target\n",
    "val_X = val.drop(columns=['ZHVI'])\n",
    "val_y = val['ZHVI']\n",
    "\n",
    "\n",
    "test_X = test.drop(columns=['ZHVI'])\n",
    "test_y = test['ZHVI']\n",
    "\n",
    "val_imputed_values = imputer.fit_transform(val_X)\n",
    "test_imputed_values = imputer.fit_transform(test_X)\n",
    "\n",
    "# Convert the numpy array back into a dataframe\n",
    "val_X = pd.DataFrame(val_imputed_values, columns=val_X.columns)\n",
    "test_X = pd.DataFrame(test_imputed_values, columns=test_X.columns)\n",
    "\n",
    "print(val_X.head())\n",
    "print(train_X.head())\n",
    "\n",
    "# Normalize the train_X data\n",
    "scaler = StandardScaler()\n",
    "scaler.fit(train_X)\n",
    "train_X = scaler.transform(train_X)\n",
    "\n",
    "# Normalize the val_X and test_X data\n",
    "val_X = scaler.transform(val_X.to_numpy())\n",
    "test_X = scaler.transform(test_X.to_numpy())\n",
    "\n",
    "#print('first row of train_X after scaling:\\n', train_X[0])\n",
    "print('first row of val_X after scaling:\\n', val_X[0])\n",
    "#print('first row of test_X after scaling:\\n', test_X[0])"
   ]
  },
  {
   "attachments": {},
   "cell_type": "markdown",
   "id": "0292c8c9",
   "metadata": {},
   "source": [
    "### Linear Regression"
   ]
  },
  {
   "cell_type": "code",
   "execution_count": 20,
   "id": "9bb5211e",
   "metadata": {},
   "outputs": [
    {
     "data": {
      "text/plain": [
       "'train X '"
      ]
     },
     "metadata": {},
     "output_type": "display_data"
    },
    {
     "data": {
      "text/plain": [
       "(11090, 50)"
      ]
     },
     "metadata": {},
     "output_type": "display_data"
    },
    {
     "data": {
      "text/plain": [
       "'train y'"
      ]
     },
     "metadata": {},
     "output_type": "display_data"
    },
    {
     "data": {
      "text/plain": [
       "(11090,)"
      ]
     },
     "metadata": {},
     "output_type": "display_data"
    },
    {
     "data": {
      "text/plain": [
       "'predict_train'"
      ]
     },
     "metadata": {},
     "output_type": "display_data"
    },
    {
     "data": {
      "text/plain": [
       "array([ -79934.3294141 , -115700.05994286,   -1860.52456142, ...,\n",
       "        -30031.64140835,  -34603.53888171,  -13732.82404714])"
      ]
     },
     "metadata": {},
     "output_type": "display_data"
    },
    {
     "data": {
      "image/png": "[encoded data removed]",
      "text/plain": [
       "<Figure size 640x480 with 1 Axes>"
      ]
     },
     "metadata": {},
     "output_type": "display_data"
    },
    {
     "data": {
      "text/plain": [
       "'Off by $297561.43 many dollars'"
      ]
     },
     "metadata": {},
     "output_type": "display_data"
    },
    {
     "data": {
      "text/plain": [
       "'val_X len'"
      ]
     },
     "metadata": {},
     "output_type": "display_data"
    },
    {
     "data": {
      "text/plain": [
       "1392"
      ]
     },
     "metadata": {},
     "output_type": "display_data"
    },
    {
     "data": {
      "text/plain": [
       "'pred val'"
      ]
     },
     "metadata": {},
     "output_type": "display_data"
    },
    {
     "data": {
      "text/plain": [
       "array([-106656.35819317,  305588.06287214,  -90056.27302134, ...,\n",
       "        -12218.62156688,   -9048.5589416 , -142240.55678427])"
      ]
     },
     "metadata": {},
     "output_type": "display_data"
    },
    {
     "data": {
      "image/png": "[encoded data removed]",
      "text/plain": [
       "<Figure size 640x480 with 1 Axes>"
      ]
     },
     "metadata": {},
     "output_type": "display_data"
    },
    {
     "data": {
      "text/plain": [
       "'Off by $286485.79 many dollars'"
      ]
     },
     "metadata": {},
     "output_type": "display_data"
    }
   ],
   "source": [
    "from sklearn.metrics import mean_squared_error\n",
    "display('train X ', train_X.shape)\n",
    "display('train y', train_y.values.shape)\n",
    "# Running linear regression with a constant on test set\n",
    "model = sm.OLS(train_y.values, train_X)\n",
    "results = model.fit()\n",
    "# Predict\n",
    "predict_train = results.predict()\n",
    "display('predict_train', predict_train)\n",
    "MSE = mean_squared_error(train_y, predict_train)\n",
    "plt.scatter(train_y, predict_train)\n",
    "plt.title('Actual vs Predicted Values - Training Set')\n",
    "plt.xlabel('Actual Values')\n",
    "plt.ylabel('Predicted Values')\n",
    "plt.show()\n",
    "\n",
    "display(f'Off by ${np.sqrt(MSE):.2f} many dollars')\n",
    "display('val_X len', len(val_X))\n",
    "predict_val = results.predict(val_X)\n",
    "display('pred val', predict_val)\n",
    "plt.scatter(val_y, predict_val)\n",
    "plt.title('Actual vs Predicted Values - Validation Set')\n",
    "plt.xlabel('Actual Values')\n",
    "plt.ylabel('Predicted Values')\n",
    "plt.show()\n",
    "MSE = mean_squared_error(val_y, predict_val)\n",
    "display(f'Off by ${np.sqrt(MSE):.2f} many dollars')"
   ]
  },
  {
   "attachments": {},
   "cell_type": "markdown",
   "id": "e7336b9f",
   "metadata": {},
   "source": [
    "### XGBoost Evaluation"
   ]
  },
  {
   "cell_type": "code",
   "execution_count": 11,
   "id": "5712435b",
   "metadata": {},
   "outputs": [],
   "source": [
    "from xgboost import XGBRegressor\n",
    "\n"
   ]
  },
  {
   "attachments": {},
   "cell_type": "markdown",
   "id": "e4ee6cd2",
   "metadata": {},
   "source": [
    "### Sequential Neural Network Evaluation"
   ]
  },
  {
   "cell_type": "code",
   "execution_count": 12,
   "id": "f8256047",
   "metadata": {},
   "outputs": [],
   "source": [
    "# Constants\n",
    "\n",
    "BATCH_SIZE = 1\n",
    "EPOCHS = 10\n",
    "LR = 0.01"
   ]
  },
  {
   "cell_type": "code",
   "execution_count": 13,
   "id": "d2158bf0",
   "metadata": {},
   "outputs": [
    {
     "name": "stdout",
     "output_type": "stream",
     "text": [
      "Model(\n",
      "  (fc_1): Linear(in_features=50, out_features=25, bias=True)\n",
      "  (fc_2): Linear(in_features=25, out_features=1, bias=True)\n",
      ")\n"
     ]
    }
   ],
   "source": [
    "# Model definition\n",
    "class Model(nn.Module):\n",
    "    def __init__(self, input_size, output_size=1):\n",
    "        super().__init__()\n",
    "\n",
    "        self.hidden_dim = output_size + (input_size - output_size) // 2\n",
    "\n",
    "        self.fc_1 = nn.Linear(input_size, self.hidden_dim)\n",
    "        self.fc_2 = nn.Linear(self.hidden_dim, output_size)\n",
    "\n",
    "    def forward(self, x):\n",
    "\n",
    "        out = self.fc_1(x)\n",
    "        out = F.relu(out)\n",
    "        out = self.fc_2(out)\n",
    "\n",
    "        return out\n",
    "\n",
    "model = Model(train_X.shape[1])\n",
    "print(model)"
   ]
  },
  {
   "attachments": {},
   "cell_type": "markdown",
   "id": "a07ef837",
   "metadata": {},
   "source": [
    "Run on GPU if available"
   ]
  },
  {
   "cell_type": "code",
   "execution_count": 14,
   "id": "824de712",
   "metadata": {},
   "outputs": [
    {
     "name": "stdout",
     "output_type": "stream",
     "text": [
      "GPU not available, CPU used\n"
     ]
    },
    {
     "data": {
      "text/plain": [
       "Model(\n",
       "  (fc_1): Linear(in_features=50, out_features=25, bias=True)\n",
       "  (fc_2): Linear(in_features=25, out_features=1, bias=True)\n",
       ")"
      ]
     },
     "execution_count": 14,
     "metadata": {},
     "output_type": "execute_result"
    }
   ],
   "source": [
    "is_cuda = torch.cuda.is_available()\n",
    "\n",
    "if is_cuda:\n",
    "    device = torch.device(\"cuda\")\n",
    "    print(\"GPU is available\")\n",
    "\n",
    "else:\n",
    "    device = torch.device(\"cpu\")\n",
    "    print(\"GPU not available, CPU used\")\n",
    "\n",
    "model.to(device)"
   ]
  },
  {
   "cell_type": "code",
   "execution_count": 15,
   "id": "adfd5ee0",
   "metadata": {},
   "outputs": [],
   "source": [
    "# Define the loss function and the optimizer\n",
    "criterion = nn.MSELoss()\n",
    "optimizer = torch.optim.Adam(model.parameters(), lr=LR)\n"
   ]
  },
  {
   "cell_type": "code",
   "execution_count": 16,
   "id": "37565033",
   "metadata": {},
   "outputs": [
    {
     "ename": "SyntaxError",
     "evalue": "unterminated string literal (detected at line 31) (3093572718.py, line 31)",
     "output_type": "error",
     "traceback": [
      "\u001b[0;36m  Cell \u001b[0;32mIn[16], line 31\u001b[0;36m\u001b[0m\n\u001b[0;31m    print(\"Bemodel.fc_1.weight)\u001b[0m\n\u001b[0m          ^\u001b[0m\n\u001b[0;31mSyntaxError\u001b[0m\u001b[0;31m:\u001b[0m unterminated string literal (detected at line 31)\n"
     ]
    }
   ],
   "source": [
    "# Training loop\n",
    "\n",
    "def training_loop(model, train_X, train_y, num_epochs = 1, batch_size = 1):\n",
    "\n",
    "    print(train_X.shape)\n",
    "    print(train_y.shape)\n",
    "\n",
    "    num_batches = len(train_X) // batch_size\n",
    "\n",
    "    losses = []\n",
    "    total_loss = 0\n",
    "\n",
    "    for epoch in tqdm(range(num_epochs)):  # loop over the dataset for each epoch\n",
    "        for batch in range(num_batches):\n",
    "            # get the inputs; data is a list of [inputs, labels]\n",
    "            start_index = batch * batch_size\n",
    "            end_index = start_index + batch_size\n",
    "            inputs = torch.from_numpy(train_X[start_index: end_index]).float().reshape(batch_size, -1)\n",
    "            inputs.requires_grad = True\n",
    "            labels = torch.from_numpy(np.asarray(train_y[start_index: end_index])).float().reshape(batch_size, -1)\n",
    "            labels.requires_grad = True\n",
    "\n",
    "            # zero the parameter gradients\n",
    "            optimizer.zero_grad()\n",
    "\n",
    "            # forward + backward + optimize\n",
    "            outputs = model(inputs)\n",
    "            loss = torch.sqrt(criterion(outputs, labels))\n",
    "            loss.backward()\n",
    "            # Print the parameter\n",
    "            print(\"model.fc_1.weight)\n",
    "            optimizer.step()\n",
    "\n",
    "            #print(model.fc_1.weight.grad)\n",
    "            # Print the optimizer gradients\n",
    "            #print(optimizer.state_dict()['param_groups'][0]['grad'])\n",
    "\n",
    "            total_loss += np.mean(loss.item())\n",
    "\n",
    "            if batch % 10000 == 0:\n",
    "                print(f'Epoch: {epoch + 1}, Batch: {batch + 1}, Loss: {loss.item()}')\n",
    "                print(model.fc_1.weight.grad)\n",
    "\n",
    "        average_loss = total_loss / num_batches\n",
    "        losses.append(average_loss)\n",
    "        total_loss = 0  # Reset the total loss for the next epoch\n",
    "        \n",
    "    return losses"
   ]
  },
  {
   "cell_type": "code",
   "execution_count": null,
   "id": "59d1b920",
   "metadata": {},
   "outputs": [],
   "source": [
    "losses = training_loop(model, train_X, train_y, num_epochs=EPOCHS, batch_size=BATCH_SIZE)\n",
    "\n",
    "plt.plot(losses)\n",
    "\n",
    "# Print the weights and biases\n",
    "print(model.fc_1.weight)\n",
    "print(model.fc_1.bias)\n",
    "print(model.fc_2.weight)\n",
    "print(model.fc_2.bias)"
   ]
  }
 ],
 "metadata": {
  "kernelspec": {
   "display_name": "Python 3 (ipykernel)",
   "language": "python",
   "name": "python3"
  },
  "language_info": {
   "codemirror_mode": {
    "name": "ipython",
    "version": 3
   },
   "file_extension": ".py",
   "mimetype": "text/x-python",
   "name": "python",
   "nbconvert_exporter": "python",
   "pygments_lexer": "ipython3",
   "version": "3.10.6"
  }
 },
 "nbformat": 4,
 "nbformat_minor": 5
}
