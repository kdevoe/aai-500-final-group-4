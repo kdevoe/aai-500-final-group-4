{
 "cells": [
  {
   "cell_type": "code",
   "execution_count": 2,
   "metadata": {},
   "outputs": [],
   "source": [
    "#Import libraries\n",
    "import pandas as pd\n",
    "import numpy as np\n",
    "import matplotlib.pyplot as plt"
   ]
  },
  {
   "cell_type": "code",
   "execution_count": 8,
   "metadata": {},
   "outputs": [
    {
     "name": "stdout",
     "output_type": "stream",
     "text": [
      "STATEFIPS    0\n",
      "STATE        0\n",
      "ZIPCODE      0\n",
      "AGI_STUB     0\n",
      "N1           0\n",
      "            ..\n",
      "A11900       0\n",
      "N11902       0\n",
      "A11902       0\n",
      "N12000       0\n",
      "A12000       0\n",
      "Length: 153, dtype: int64\n",
      "RegionType                  0\n",
      "RegionName                  0\n",
      "City                        0\n",
      "State                       0\n",
      "Metro                     600\n",
      "CBSATitle                 600\n",
      "SizeRank                14089\n",
      "MarketHealthIndex           0\n",
      "SellForGain              4609\n",
      "PrevForeclosed          11544\n",
      "ForeclosureRatio        10836\n",
      "ZHVI                      130\n",
      "MoM                       130\n",
      "YoY                       130\n",
      "ForecastYoYPctChange     2743\n",
      "StockOfREOs             14089\n",
      "NegativeEquity            395\n",
      "Delinquency               395\n",
      "DaysOnMarket              127\n",
      "dtype: int64\n"
     ]
    }
   ],
   "source": [
    "# Note: Need to add these files locally before running\n",
    "income_file = '17zpallnoagi.csv'\n",
    "mh_file = 'MarketHealthIndex_Zip.csv'\n",
    "\n",
    "df_income = pd.read_csv(income_file)\n",
    "df_mh = pd.read_csv(mh_file, encoding='unicode_escape')\n",
    "\n",
    "print(df_income.isnull().sum())\n",
    "\n",
    "print(df_mh.isnull().sum())"
   ]
  },
  {
   "cell_type": "code",
   "execution_count": 9,
   "metadata": {},
   "outputs": [
    {
     "name": "stdout",
     "output_type": "stream",
     "text": [
      "RegionType                  0\n",
      "RegionName                  0\n",
      "City                        0\n",
      "State                       0\n",
      "Metro                     598\n",
      "CBSATitle                 598\n",
      "SizeRank                13959\n",
      "MarketHealthIndex           0\n",
      "SellForGain              4609\n",
      "PrevForeclosed          11496\n",
      "ForeclosureRatio        10812\n",
      "ZHVI                        0\n",
      "MoM                         0\n",
      "YoY                         0\n",
      "ForecastYoYPctChange     2613\n",
      "StockOfREOs             13959\n",
      "NegativeEquity            395\n",
      "Delinquency               395\n",
      "DaysOnMarket              127\n",
      "dtype: int64\n"
     ]
    }
   ],
   "source": [
    "# Drop rows with null values for ZHVI\n",
    "df_mh = df_mh.dropna(subset=['ZHVI'])\n",
    "print(df_mh.isnull().sum())"
   ]
  }
 ],
 "metadata": {
  "kernelspec": {
   "display_name": "env",
   "language": "python",
   "name": "python3"
  },
  "language_info": {
   "codemirror_mode": {
    "name": "ipython",
    "version": 3
   },
   "file_extension": ".py",
   "mimetype": "text/x-python",
   "name": "python",
   "nbconvert_exporter": "python",
   "pygments_lexer": "ipython3",
   "version": "3.10.6"
  },
  "orig_nbformat": 4
 },
 "nbformat": 4,
 "nbformat_minor": 2
}
