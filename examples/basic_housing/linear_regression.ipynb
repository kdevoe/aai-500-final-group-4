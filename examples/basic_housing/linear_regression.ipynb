{
 "cells": [
  {
   "cell_type": "code",
   "execution_count": 1,
   "metadata": {},
   "outputs": [],
   "source": [
    "# Import libraries\n",
    "import numpy as np\n",
    "import pandas as pd\n",
    "import matplotlib.pyplot as plt\n",
    "import torch as torch\n"
   ]
  },
  {
   "cell_type": "code",
   "execution_count": 2,
   "metadata": {},
   "outputs": [
    {
     "name": "stdout",
     "output_type": "stream",
     "text": [
      "      price  area  bedrooms  bathrooms  stories mainroad guestroom basement  \\\n",
      "0  13300000  7420         4          2        3      yes        no       no   \n",
      "1  12250000  8960         4          4        4      yes        no       no   \n",
      "2  12250000  9960         3          2        2      yes        no      yes   \n",
      "3  12215000  7500         4          2        2      yes        no      yes   \n",
      "4  11410000  7420         4          1        2      yes       yes      yes   \n",
      "\n",
      "  hotwaterheating airconditioning  parking prefarea furnishingstatus  \n",
      "0              no             yes        2      yes        furnished  \n",
      "1              no             yes        3       no        furnished  \n",
      "2              no              no        2      yes   semi-furnished  \n",
      "3              no             yes        3      yes        furnished  \n",
      "4              no             yes        2       no        furnished  \n",
      "Shape of the data (rows, columns): (545, 13)\n"
     ]
    }
   ],
   "source": [
    "# Import data\n",
    "\n",
    "df = pd.read_csv('Housing.csv')\n",
    "print(df.head(5))\n",
    "print(f'Shape of the data (rows, columns): {df.shape}')"
   ]
  },
  {
   "cell_type": "code",
   "execution_count": 4,
   "metadata": {},
   "outputs": [
    {
     "name": "stdout",
     "output_type": "stream",
     "text": [
      "Missing values in the data: \n",
      "price               0\n",
      "area                0\n",
      "bedrooms            0\n",
      "bathrooms           0\n",
      "stories             0\n",
      "mainroad            0\n",
      "guestroom           0\n",
      "basement            0\n",
      "hotwaterheating     0\n",
      "airconditioning     0\n",
      "parking             0\n",
      "prefarea            0\n",
      "furnishingstatus    0\n",
      "dtype: int64\n",
      "      price  area  bedrooms  bathrooms  stories  mainroad  guestroom  \\\n",
      "0  13300000  7420         4          2        3         1          0   \n",
      "1  12250000  8960         4          4        4         1          0   \n",
      "2  12250000  9960         3          2        2         1          0   \n",
      "3  12215000  7500         4          2        2         1          0   \n",
      "4  11410000  7420         4          1        2         1          1   \n",
      "\n",
      "   basement  hotwaterheating  airconditioning  parking  prefarea  \\\n",
      "0         0                0                1        2         1   \n",
      "1         0                0                1        3         0   \n",
      "2         1                0                0        2         1   \n",
      "3         1                0                1        3         1   \n",
      "4         1                0                1        2         0   \n",
      "\n",
      "   furnishingstatus  \n",
      "0                 2  \n",
      "1                 2  \n",
      "2                 1  \n",
      "3                 2  \n",
      "4                 2  \n"
     ]
    }
   ],
   "source": [
    "# Data preprocessing\n",
    "\n",
    "# Check for missing values\n",
    "print(\"Missing values in the data: \")\n",
    "print(df.isnull().sum())\n",
    "\n",
    "# Convert categorical variables to numerical\n",
    "mapping = {'yes': 1, \n",
    "           'no': 0,\n",
    "           'furnished': 2,\n",
    "           'semi-furnished': 1,\n",
    "           'unfurnished': 0}\n",
    "\n",
    "def map_value(value, mapping):\n",
    "    if value in mapping:\n",
    "        return mapping[value]\n",
    "    else:\n",
    "        return value\n",
    "    \n",
    "for col in df.columns:\n",
    "    df[col] = df[col].apply(lambda x: map_value(x, mapping))\n",
    "\n",
    "print(df.head())\n"
   ]
  },
  {
   "cell_type": "code",
   "execution_count": 21,
   "metadata": {},
   "outputs": [
    {
     "name": "stdout",
     "output_type": "stream",
     "text": [
      "[[-0.51918156 -1.28450955 -0.56091916 -0.93244464  0.39946773 -0.45946829\n",
      "  -0.72420682 -0.20751434 -0.68050514 -0.80209018 -0.54908336 -1.21435189]\n",
      " [-0.72191355 -1.28450955  1.47708713  0.21599     0.39946773 -0.45946829\n",
      "   1.38082101 -0.20751434 -0.68050514  0.34450431 -0.54908336  1.41976465]]\n",
      "Shape of training set: (436, 12)\n",
      "Shape of test set: (109, 12)\n"
     ]
    }
   ],
   "source": [
    "# Split data into train and test sets\n",
    "from sklearn.model_selection import train_test_split\n",
    "\n",
    "# Split dataset into inputs (X) and outputs (y)\n",
    "X = df.drop('price', axis=1).values\n",
    "y = df['price'].values\n",
    "\n",
    "# Do a train-test split (80-20)\n",
    "X_train, X_test, y_train, y_test = train_test_split(X, y, test_size=0.2, random_state=123)\n",
    "\n",
    "# X_train = torch.FloatTensor(X_train)\n",
    "# X_test = torch.FloatTensor(X_test)\n",
    "# y_train = torch.FloatTensor(y_train)\n",
    "# y_test = torch.FloatTensor(y_test)\n",
    "\n",
    "# Normalize the inputs\n",
    "from sklearn.preprocessing import StandardScaler\n",
    "\n",
    "scaler = StandardScaler()\n",
    "X_train = scaler.fit_transform(X_train)\n",
    "X_test = scaler.transform(X_test)\n",
    "\n",
    "# Example of normalized data\n",
    "print(X_train[:2])\n",
    "\n",
    "print(f'Shape of training set: {X_train.shape}')\n",
    "print(f'Shape of test set: {X_test.shape}')\n"
   ]
  },
  {
   "cell_type": "code",
   "execution_count": 25,
   "metadata": {},
   "outputs": [
    {
     "name": "stdout",
     "output_type": "stream",
     "text": [
      "Predicted: 5330341, Target: 5040000, Difference: 290341 Percent Diff: 6%\n",
      "Predicted: 7031588, Target: 5390000, Difference: 1641588 Percent Diff: 30%\n",
      "Predicted: 2975532, Target: 3290000, Difference: -314468 Percent Diff: -10%\n",
      "Predicted: 3098153, Target: 4410000, Difference: -1311847 Percent Diff: -30%\n",
      "Predicted: 6753658, Target: 6930000, Difference: -176342 Percent Diff: -3%\n",
      "Predicted: 4065437, Target: 3500000, Difference: 565437 Percent Diff: 16%\n",
      "Predicted: 2740867, Target: 2450000, Difference: 290867 Percent Diff: 12%\n",
      "Predicted: 3537955, Target: 3234000, Difference: 303955 Percent Diff: 9%\n",
      "Predicted: 2373088, Target: 3255000, Difference: -881912 Percent Diff: -27%\n",
      "Predicted: 5618183, Target: 5460000, Difference: 158183 Percent Diff: 3%\n",
      "\n",
      "RMSE: 1105985\n"
     ]
    }
   ],
   "source": [
    "from sklearn.linear_model import LinearRegression\n",
    "import random\n",
    "\n",
    "model = LinearRegression()\n",
    "model.fit(X_train, y_train)\n",
    "\n",
    "predictions = model.predict(X_test)\n",
    "\n",
    "# Show a few examples of predictions vs actual values\n",
    "for i in range(10):\n",
    "    index = random.randint(0, len(predictions))\n",
    "    print(f\"\"\"Predicted: {predictions[index]:.0f}, Target: {y_test[index]:.0f}, Difference: {predictions[index] - y_test[index]:.0f} Percent Diff: {(predictions[index] - y_test[index])/y_test[index]*100:.0f}%\"\"\")\n",
    "\n",
    "rmse = np.sqrt(np.mean((predictions - y_test)**2))\n",
    "print(f'\\nRMSE: {rmse:.0f}')"
   ]
  }
 ],
 "metadata": {
  "kernelspec": {
   "display_name": "env",
   "language": "python",
   "name": "python3"
  },
  "language_info": {
   "codemirror_mode": {
    "name": "ipython",
    "version": 3
   },
   "file_extension": ".py",
   "mimetype": "text/x-python",
   "name": "python",
   "nbconvert_exporter": "python",
   "pygments_lexer": "ipython3",
   "version": "3.10.6"
  },
  "orig_nbformat": 4
 },
 "nbformat": 4,
 "nbformat_minor": 2
}
