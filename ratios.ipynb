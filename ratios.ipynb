{
 "cells": [
  {
   "cell_type": "code",
   "execution_count": 7,
   "metadata": {},
   "outputs": [],
   "source": [
    "import pandas as pd"
   ]
  },
  {
   "cell_type": "code",
   "execution_count": 8,
   "metadata": {},
   "outputs": [
    {
     "name": "stdout",
     "output_type": "stream",
     "text": [
      "            Code                                        Description  Used\n",
      "0      STATEFIPS  The state federal information processing syste...     0\n",
      "1          STATE                     State associated with zip code     0\n",
      "2        ZIPCODE                                   5-digit zip code     0\n",
      "3       AGI_STUB                      Size of adjusted gross income     0\n",
      "4             N1                                  Number of returns     0\n",
      "..           ...                                                ...   ...\n",
      "146       A11900                          Total overpayments amount     0\n",
      "147       N11902       Number of returns with overpayments refunded     0\n",
      "148       A11902                Overpayments refunded amount [13]       0\n",
      "149       N12000  Number of returns with credit to next year’s e...     0\n",
      "150       A12000       Credited to next year’s estimated tax amount     0\n",
      "\n",
      "[151 rows x 3 columns]\n"
     ]
    }
   ],
   "source": [
    "data = pd.read_csv('Columns_Used.csv')\n",
    "print(data)"
   ]
  },
  {
   "cell_type": "code",
   "execution_count": null,
   "metadata": {},
   "outputs": [],
   "source": [
    "data = pd.read_csv('Columns_Used.csv')\n",
    "\n",
    "# Select the columns to convert to ratios\n",
    "columns_to_convert = ['MARS1', 'MARS2', 'MARS4', 'NUMDEP', 'A00100', 'N02650', 'A02650', 'A00200', 'A00300', 'A00900', 'A01000', 'A01700', 'SCHF', 'A02300', 'A02500', 'N26270', 'A19570', 'A19700', 'A20950', 'A04800', 'A07300', 'A07180', 'A07220', 'A09400', 'A10600', 'A06500', 'A85300', 'A11070']\n",
    "\n",
    "# Iterate over the columns and convert to ratios\n",
    "for column in columns_to_convert:\n",
    "    data[column] = data[column] / data['Number of returns']\n",
    "\n",
    "# Save the updated data to a new file\n",
    "data.to_csv('converted_data.csv', index=False)"
   ]
  }
 ],
 "metadata": {
  "kernelspec": {
   "display_name": "Python 3",
   "language": "python",
   "name": "python3"
  },
  "language_info": {
   "codemirror_mode": {
    "name": "ipython",
    "version": 3
   },
   "file_extension": ".py",
   "mimetype": "text/x-python",
   "name": "python",
   "nbconvert_exporter": "python",
   "pygments_lexer": "ipython3",
   "version": "3.10.11"
  },
  "orig_nbformat": 4
 },
 "nbformat": 4,
 "nbformat_minor": 2
}
