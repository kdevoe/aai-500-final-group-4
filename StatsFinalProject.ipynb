{
 "cells": [
  {
   "attachments": {},
   "cell_type": "markdown",
   "id": "b7b3dc06",
   "metadata": {},
   "source": [
    "## Library and Data Imports"
   ]
  },
  {
   "cell_type": "code",
   "execution_count": 1,
   "id": "6078e54c-5d52-4a95-8107-713f9650843c",
   "metadata": {
    "tags": []
   },
   "outputs": [],
   "source": [
    "import scipy.stats as stats\n",
    "import pandas as pd\n",
    "import numpy as np\n",
    "import seaborn as sns\n",
    "import matplotlib.pyplot as plt\n",
    "from sklearn.model_selection import train_test_split\n",
    "from sklearn.impute import KNNImputer\n",
    "from sklearn.preprocessing import StandardScaler, MinMaxScaler\n",
    "from sklearn.metrics import mean_squared_error, r2_score\n",
    "import statsmodels.api as sm\n",
    "\n",
    "import torch\n",
    "import torch.nn as nn\n",
    "import torch.nn.functional as F\n",
    "from tqdm import tqdm"
   ]
  },
  {
   "cell_type": "code",
   "execution_count": 2,
   "id": "323eea3b-6cc5-4153-9889-1cead84ff4e8",
   "metadata": {
    "tags": []
   },
   "outputs": [],
   "source": [
    "# read local csv files and put into data frames\n",
    "data_url = '17zpallnoagi.csv'\n",
    "zpallnoagi_csv = pd.read_csv(data_url)\n",
    "raw_tax_df = pd.DataFrame(zpallnoagi_csv)\n",
    "mhi_data_url = 'MarketHealthIndex_Zip.csv'\n",
    "market_health_csv = pd.read_csv(mhi_data_url, on_bad_lines='skip', encoding = \"ISO-8859-1\")\n",
    "market_health_df = pd.DataFrame(market_health_csv)"
   ]
  },
  {
   "attachments": {},
   "cell_type": "markdown",
   "id": "ea28262b",
   "metadata": {},
   "source": [
    "## Data Cleaning and Imputation"
   ]
  },
  {
   "attachments": {},
   "cell_type": "markdown",
   "id": "af5d1378",
   "metadata": {},
   "source": [
    "### Downselection of Features"
   ]
  },
  {
   "cell_type": "code",
   "execution_count": 3,
   "id": "b4bbfbca-ead7-4153-a762-fb468edd2d7c",
   "metadata": {
    "tags": []
   },
   "outputs": [
    {
     "name": "stdout",
     "output_type": "stream",
     "text": [
      "Length of tax_zip_df:  27760\n",
      "Length of mh_df:  14089\n",
      "Length of merged_df:  14003\n"
     ]
    },
    {
     "data": {
      "text/html": [
       "<div>\n",
       "<style scoped>\n",
       "    .dataframe tbody tr th:only-of-type {\n",
       "        vertical-align: middle;\n",
       "    }\n",
       "\n",
       "    .dataframe tbody tr th {\n",
       "        vertical-align: top;\n",
       "    }\n",
       "\n",
       "    .dataframe thead th {\n",
       "        text-align: right;\n",
       "    }\n",
       "</style>\n",
       "<table border=\"1\" class=\"dataframe\">\n",
       "  <thead>\n",
       "    <tr style=\"text-align: right;\">\n",
       "      <th></th>\n",
       "      <th>N1</th>\n",
       "      <th>ZIPCODE</th>\n",
       "      <th>MARS1</th>\n",
       "      <th>MARS2</th>\n",
       "      <th>MARS4</th>\n",
       "      <th>NUMDEP</th>\n",
       "      <th>A00100</th>\n",
       "      <th>N02650</th>\n",
       "      <th>A02650</th>\n",
       "      <th>A00200</th>\n",
       "      <th>...</th>\n",
       "      <th>N06500</th>\n",
       "      <th>A06500</th>\n",
       "      <th>A85300</th>\n",
       "      <th>MarketHealthIndex</th>\n",
       "      <th>SellForGain</th>\n",
       "      <th>ForeclosureRatio</th>\n",
       "      <th>NegativeEquity</th>\n",
       "      <th>Delinquency</th>\n",
       "      <th>DaysOnMarket</th>\n",
       "      <th>ZHVI</th>\n",
       "    </tr>\n",
       "  </thead>\n",
       "  <tbody>\n",
       "    <tr>\n",
       "      <th>0</th>\n",
       "      <td>5130.0</td>\n",
       "      <td>35004</td>\n",
       "      <td>2140.0</td>\n",
       "      <td>2120.0</td>\n",
       "      <td>780.0</td>\n",
       "      <td>3350.0</td>\n",
       "      <td>289966.0</td>\n",
       "      <td>5130.0</td>\n",
       "      <td>292671.0</td>\n",
       "      <td>236776.0</td>\n",
       "      <td>...</td>\n",
       "      <td>3870.0</td>\n",
       "      <td>27796.0</td>\n",
       "      <td>32.0</td>\n",
       "      <td>4.893179</td>\n",
       "      <td>NaN</td>\n",
       "      <td>NaN</td>\n",
       "      <td>0.092712</td>\n",
       "      <td>0.026738</td>\n",
       "      <td>76.0</td>\n",
       "      <td>147100.0</td>\n",
       "    </tr>\n",
       "    <tr>\n",
       "      <th>1</th>\n",
       "      <td>3170.0</td>\n",
       "      <td>35005</td>\n",
       "      <td>1350.0</td>\n",
       "      <td>870.0</td>\n",
       "      <td>900.0</td>\n",
       "      <td>2230.0</td>\n",
       "      <td>124916.0</td>\n",
       "      <td>3170.0</td>\n",
       "      <td>125810.0</td>\n",
       "      <td>102620.0</td>\n",
       "      <td>...</td>\n",
       "      <td>2010.0</td>\n",
       "      <td>9187.0</td>\n",
       "      <td>0.0</td>\n",
       "      <td>0.887927</td>\n",
       "      <td>40.00</td>\n",
       "      <td>2.9443</td>\n",
       "      <td>0.250780</td>\n",
       "      <td>0.082988</td>\n",
       "      <td>80.0</td>\n",
       "      <td>75000.0</td>\n",
       "    </tr>\n",
       "    <tr>\n",
       "      <th>2</th>\n",
       "      <td>1210.0</td>\n",
       "      <td>35006</td>\n",
       "      <td>440.0</td>\n",
       "      <td>580.0</td>\n",
       "      <td>170.0</td>\n",
       "      <td>820.0</td>\n",
       "      <td>59411.0</td>\n",
       "      <td>1210.0</td>\n",
       "      <td>59725.0</td>\n",
       "      <td>46012.0</td>\n",
       "      <td>...</td>\n",
       "      <td>870.0</td>\n",
       "      <td>5089.0</td>\n",
       "      <td>0.0</td>\n",
       "      <td>6.796082</td>\n",
       "      <td>NaN</td>\n",
       "      <td>NaN</td>\n",
       "      <td>0.221277</td>\n",
       "      <td>0.019231</td>\n",
       "      <td>84.0</td>\n",
       "      <td>78500.0</td>\n",
       "    </tr>\n",
       "    <tr>\n",
       "      <th>3</th>\n",
       "      <td>11930.0</td>\n",
       "      <td>35007</td>\n",
       "      <td>4720.0</td>\n",
       "      <td>5180.0</td>\n",
       "      <td>1790.0</td>\n",
       "      <td>8840.0</td>\n",
       "      <td>706211.0</td>\n",
       "      <td>11930.0</td>\n",
       "      <td>714402.0</td>\n",
       "      <td>555765.0</td>\n",
       "      <td>...</td>\n",
       "      <td>8520.0</td>\n",
       "      <td>72973.0</td>\n",
       "      <td>90.0</td>\n",
       "      <td>5.600114</td>\n",
       "      <td>84.62</td>\n",
       "      <td>0.6175</td>\n",
       "      <td>0.066375</td>\n",
       "      <td>0.037618</td>\n",
       "      <td>55.0</td>\n",
       "      <td>157700.0</td>\n",
       "    </tr>\n",
       "    <tr>\n",
       "      <th>4</th>\n",
       "      <td>7890.0</td>\n",
       "      <td>35010</td>\n",
       "      <td>3000.0</td>\n",
       "      <td>2710.0</td>\n",
       "      <td>2060.0</td>\n",
       "      <td>5850.0</td>\n",
       "      <td>387333.0</td>\n",
       "      <td>7890.0</td>\n",
       "      <td>391523.0</td>\n",
       "      <td>262452.0</td>\n",
       "      <td>...</td>\n",
       "      <td>4740.0</td>\n",
       "      <td>37697.0</td>\n",
       "      <td>688.0</td>\n",
       "      <td>6.150898</td>\n",
       "      <td>NaN</td>\n",
       "      <td>NaN</td>\n",
       "      <td>0.192933</td>\n",
       "      <td>0.017442</td>\n",
       "      <td>147.0</td>\n",
       "      <td>105300.0</td>\n",
       "    </tr>\n",
       "  </tbody>\n",
       "</table>\n",
       "<p>5 rows × 52 columns</p>\n",
       "</div>"
      ],
      "text/plain": [
       "        N1  ZIPCODE   MARS1   MARS2   MARS4  NUMDEP    A00100   N02650  \\\n",
       "0   5130.0    35004  2140.0  2120.0   780.0  3350.0  289966.0   5130.0   \n",
       "1   3170.0    35005  1350.0   870.0   900.0  2230.0  124916.0   3170.0   \n",
       "2   1210.0    35006   440.0   580.0   170.0   820.0   59411.0   1210.0   \n",
       "3  11930.0    35007  4720.0  5180.0  1790.0  8840.0  706211.0  11930.0   \n",
       "4   7890.0    35010  3000.0  2710.0  2060.0  5850.0  387333.0   7890.0   \n",
       "\n",
       "     A02650    A00200  ...  N06500   A06500  A85300  MarketHealthIndex  \\\n",
       "0  292671.0  236776.0  ...  3870.0  27796.0    32.0           4.893179   \n",
       "1  125810.0  102620.0  ...  2010.0   9187.0     0.0           0.887927   \n",
       "2   59725.0   46012.0  ...   870.0   5089.0     0.0           6.796082   \n",
       "3  714402.0  555765.0  ...  8520.0  72973.0    90.0           5.600114   \n",
       "4  391523.0  262452.0  ...  4740.0  37697.0   688.0           6.150898   \n",
       "\n",
       "   SellForGain  ForeclosureRatio  NegativeEquity  Delinquency  DaysOnMarket  \\\n",
       "0          NaN               NaN        0.092712     0.026738          76.0   \n",
       "1        40.00            2.9443        0.250780     0.082988          80.0   \n",
       "2          NaN               NaN        0.221277     0.019231          84.0   \n",
       "3        84.62            0.6175        0.066375     0.037618          55.0   \n",
       "4          NaN               NaN        0.192933     0.017442         147.0   \n",
       "\n",
       "       ZHVI  \n",
       "0  147100.0  \n",
       "1   75000.0  \n",
       "2   78500.0  \n",
       "3  157700.0  \n",
       "4  105300.0  \n",
       "\n",
       "[5 rows x 52 columns]"
      ]
     },
     "metadata": {},
     "output_type": "display_data"
    }
   ],
   "source": [
    "# Columns used for both data sets\n",
    "market_health_cols = ['RegionName','MarketHealthIndex','SellForGain','ForeclosureRatio','NegativeEquity','Delinquency',\n",
    "                      'DaysOnMarket','ZHVI']\n",
    "\n",
    "zip_tax_cols = ['N1','ZIPCODE','MARS1','MARS2','MARS4','NUMDEP','A00100','N02650', 'A02650','A00200','A00300', 'A00900',\n",
    "                'A01000','A01700','SCHF','A02300','A02500','N26270','N03220','A03300','N03150','N03210','N03230',\n",
    "                'A17000','A18425','A18500','A19300','N19570','A19700','A20950','N04800','A04800','A07300','N07180',\n",
    "                'A07180','N07220','A07220','N09400','A09400','A10600','N11070','A11070','N06500','A06500','A85300']\n",
    "\n",
    "# filtered and merged together raw data sets \n",
    "tax_zip_df = raw_tax_df.filter(zip_tax_cols)\n",
    "mh_df = market_health_df.filter(market_health_cols, axis=1)\n",
    "merged_df = pd.merge(tax_zip_df, mh_df, left_on=\"ZIPCODE\", right_on=\"RegionName\")\n",
    "grouped_df = merged_df.drop(columns=['RegionName'])\n",
    "\n",
    "# Print the length of the tax_zip_df and mh_df\n",
    "print(\"Length of tax_zip_df: \", len(tax_zip_df))\n",
    "print(\"Length of mh_df: \", len(mh_df))\n",
    "print(\"Length of merged_df: \", len(merged_df))\n",
    "\n",
    "# most simpliest data frame with zipcode as the key and all other columns as features\n",
    "display(grouped_df.head())"
   ]
  },
  {
   "attachments": {},
   "cell_type": "markdown",
   "id": "b6e38088",
   "metadata": {},
   "source": [
    "### Splitting Training and Holdout Data\n",
    "\n",
    "Only training data will be used for Exploratory Data Analysis"
   ]
  },
  {
   "cell_type": "code",
   "execution_count": 4,
   "id": "3346859d-f195-48e1-8418-2778ae9b7cfd",
   "metadata": {
    "tags": []
   },
   "outputs": [
    {
     "data": {
      "text/html": [
       "<div>\n",
       "<style scoped>\n",
       "    .dataframe tbody tr th:only-of-type {\n",
       "        vertical-align: middle;\n",
       "    }\n",
       "\n",
       "    .dataframe tbody tr th {\n",
       "        vertical-align: top;\n",
       "    }\n",
       "\n",
       "    .dataframe thead th {\n",
       "        text-align: right;\n",
       "    }\n",
       "</style>\n",
       "<table border=\"1\" class=\"dataframe\">\n",
       "  <thead>\n",
       "    <tr style=\"text-align: right;\">\n",
       "      <th></th>\n",
       "      <th>N1</th>\n",
       "      <th>ZIPCODE</th>\n",
       "      <th>MARS1</th>\n",
       "      <th>MARS2</th>\n",
       "      <th>MARS4</th>\n",
       "      <th>NUMDEP</th>\n",
       "      <th>A00100</th>\n",
       "      <th>N02650</th>\n",
       "      <th>A02650</th>\n",
       "      <th>A00200</th>\n",
       "      <th>...</th>\n",
       "      <th>N06500</th>\n",
       "      <th>A06500</th>\n",
       "      <th>A85300</th>\n",
       "      <th>MarketHealthIndex</th>\n",
       "      <th>SellForGain</th>\n",
       "      <th>ForeclosureRatio</th>\n",
       "      <th>NegativeEquity</th>\n",
       "      <th>Delinquency</th>\n",
       "      <th>DaysOnMarket</th>\n",
       "      <th>ZHVI</th>\n",
       "    </tr>\n",
       "  </thead>\n",
       "  <tbody>\n",
       "    <tr>\n",
       "      <th>9140</th>\n",
       "      <td>9940.0</td>\n",
       "      <td>13850</td>\n",
       "      <td>4710.0</td>\n",
       "      <td>4340.0</td>\n",
       "      <td>710.0</td>\n",
       "      <td>5100.0</td>\n",
       "      <td>806571.0</td>\n",
       "      <td>9940.0</td>\n",
       "      <td>818461.0</td>\n",
       "      <td>517408.0</td>\n",
       "      <td>...</td>\n",
       "      <td>7780.0</td>\n",
       "      <td>113416.0</td>\n",
       "      <td>916.0</td>\n",
       "      <td>2.586415</td>\n",
       "      <td>81.82</td>\n",
       "      <td>NaN</td>\n",
       "      <td>0.101289</td>\n",
       "      <td>0.066667</td>\n",
       "      <td>92.0</td>\n",
       "      <td>128500.0</td>\n",
       "    </tr>\n",
       "    <tr>\n",
       "      <th>5412</th>\n",
       "      <td>3550.0</td>\n",
       "      <td>20616</td>\n",
       "      <td>1690.0</td>\n",
       "      <td>920.0</td>\n",
       "      <td>800.0</td>\n",
       "      <td>2500.0</td>\n",
       "      <td>238866.0</td>\n",
       "      <td>3550.0</td>\n",
       "      <td>239927.0</td>\n",
       "      <td>202262.0</td>\n",
       "      <td>...</td>\n",
       "      <td>2740.0</td>\n",
       "      <td>23869.0</td>\n",
       "      <td>15.0</td>\n",
       "      <td>5.138051</td>\n",
       "      <td>100.00</td>\n",
       "      <td>NaN</td>\n",
       "      <td>0.244229</td>\n",
       "      <td>0.097561</td>\n",
       "      <td>93.5</td>\n",
       "      <td>263200.0</td>\n",
       "    </tr>\n",
       "    <tr>\n",
       "      <th>5885</th>\n",
       "      <td>3480.0</td>\n",
       "      <td>1566</td>\n",
       "      <td>1640.0</td>\n",
       "      <td>1540.0</td>\n",
       "      <td>240.0</td>\n",
       "      <td>1790.0</td>\n",
       "      <td>315416.0</td>\n",
       "      <td>3480.0</td>\n",
       "      <td>318920.0</td>\n",
       "      <td>233627.0</td>\n",
       "      <td>...</td>\n",
       "      <td>2880.0</td>\n",
       "      <td>46088.0</td>\n",
       "      <td>189.0</td>\n",
       "      <td>6.323373</td>\n",
       "      <td>100.00</td>\n",
       "      <td>NaN</td>\n",
       "      <td>0.085440</td>\n",
       "      <td>0.081633</td>\n",
       "      <td>76.0</td>\n",
       "      <td>274200.0</td>\n",
       "    </tr>\n",
       "    <tr>\n",
       "      <th>4476</th>\n",
       "      <td>13410.0</td>\n",
       "      <td>46815</td>\n",
       "      <td>6620.0</td>\n",
       "      <td>4850.0</td>\n",
       "      <td>1710.0</td>\n",
       "      <td>7980.0</td>\n",
       "      <td>659101.0</td>\n",
       "      <td>13410.0</td>\n",
       "      <td>666299.0</td>\n",
       "      <td>489028.0</td>\n",
       "      <td>...</td>\n",
       "      <td>9400.0</td>\n",
       "      <td>61711.0</td>\n",
       "      <td>161.0</td>\n",
       "      <td>2.110867</td>\n",
       "      <td>NaN</td>\n",
       "      <td>NaN</td>\n",
       "      <td>0.057726</td>\n",
       "      <td>0.047138</td>\n",
       "      <td>49.0</td>\n",
       "      <td>117400.0</td>\n",
       "    </tr>\n",
       "    <tr>\n",
       "      <th>12991</th>\n",
       "      <td>24430.0</td>\n",
       "      <td>23223</td>\n",
       "      <td>13650.0</td>\n",
       "      <td>3550.0</td>\n",
       "      <td>6570.0</td>\n",
       "      <td>14020.0</td>\n",
       "      <td>1010689.0</td>\n",
       "      <td>24430.0</td>\n",
       "      <td>1021980.0</td>\n",
       "      <td>844452.0</td>\n",
       "      <td>...</td>\n",
       "      <td>15710.0</td>\n",
       "      <td>99345.0</td>\n",
       "      <td>183.0</td>\n",
       "      <td>2.631840</td>\n",
       "      <td>76.47</td>\n",
       "      <td>6.3815</td>\n",
       "      <td>0.163589</td>\n",
       "      <td>0.034208</td>\n",
       "      <td>63.0</td>\n",
       "      <td>140900.0</td>\n",
       "    </tr>\n",
       "  </tbody>\n",
       "</table>\n",
       "<p>5 rows × 52 columns</p>\n",
       "</div>"
      ],
      "text/plain": [
       "            N1  ZIPCODE    MARS1   MARS2   MARS4   NUMDEP     A00100   N02650  \\\n",
       "9140    9940.0    13850   4710.0  4340.0   710.0   5100.0   806571.0   9940.0   \n",
       "5412    3550.0    20616   1690.0   920.0   800.0   2500.0   238866.0   3550.0   \n",
       "5885    3480.0     1566   1640.0  1540.0   240.0   1790.0   315416.0   3480.0   \n",
       "4476   13410.0    46815   6620.0  4850.0  1710.0   7980.0   659101.0  13410.0   \n",
       "12991  24430.0    23223  13650.0  3550.0  6570.0  14020.0  1010689.0  24430.0   \n",
       "\n",
       "          A02650    A00200  ...   N06500    A06500  A85300  MarketHealthIndex  \\\n",
       "9140    818461.0  517408.0  ...   7780.0  113416.0   916.0           2.586415   \n",
       "5412    239927.0  202262.0  ...   2740.0   23869.0    15.0           5.138051   \n",
       "5885    318920.0  233627.0  ...   2880.0   46088.0   189.0           6.323373   \n",
       "4476    666299.0  489028.0  ...   9400.0   61711.0   161.0           2.110867   \n",
       "12991  1021980.0  844452.0  ...  15710.0   99345.0   183.0           2.631840   \n",
       "\n",
       "       SellForGain  ForeclosureRatio  NegativeEquity  Delinquency  \\\n",
       "9140         81.82               NaN        0.101289     0.066667   \n",
       "5412        100.00               NaN        0.244229     0.097561   \n",
       "5885        100.00               NaN        0.085440     0.081633   \n",
       "4476           NaN               NaN        0.057726     0.047138   \n",
       "12991        76.47            6.3815        0.163589     0.034208   \n",
       "\n",
       "       DaysOnMarket      ZHVI  \n",
       "9140           92.0  128500.0  \n",
       "5412           93.5  263200.0  \n",
       "5885           76.0  274200.0  \n",
       "4476           49.0  117400.0  \n",
       "12991          63.0  140900.0  \n",
       "\n",
       "[5 rows x 52 columns]"
      ]
     },
     "metadata": {},
     "output_type": "display_data"
    }
   ],
   "source": [
    "# splitting data \n",
    "# df_eda is 80% of random data, df_holdout is 20% of the remaining data\n",
    "df_eda, df_holdout = train_test_split(grouped_df, test_size=0.20, random_state=22)\n",
    "display(df_eda.head())"
   ]
  },
  {
   "attachments": {},
   "cell_type": "markdown",
   "id": "05603b93",
   "metadata": {},
   "source": [
    "### Normalizing by Count"
   ]
  },
  {
   "cell_type": "code",
   "execution_count": 5,
   "id": "d2452326",
   "metadata": {},
   "outputs": [],
   "source": [
    "n1_url = 'Columns_Used.csv'\n",
    "Columns_Used = pd.read_csv(n1_url)\n",
    "Columns_Used[Columns_Used['Description'].str.contains(\"Number of\")]\n",
    "column_list = list(Columns_Used.Code)\n",
    "column_list = [x.strip() for x in column_list]\n",
    "\n",
    "for column in column_list:\n",
    "    if column != \"N1\" and column in list(df_eda.columns):\n",
    "        df_eda[column] = df_eda[column].div(df_eda[\"N1\"])\n",
    "        "
   ]
  },
  {
   "attachments": {},
   "cell_type": "markdown",
   "id": "5e528f54",
   "metadata": {},
   "source": [
    "### Imputation of Missing Values"
   ]
  },
  {
   "cell_type": "code",
   "execution_count": 6,
   "id": "e9e85643",
   "metadata": {
    "tags": []
   },
   "outputs": [
    {
     "data": {
      "text/html": [
       "<div>\n",
       "<style scoped>\n",
       "    .dataframe tbody tr th:only-of-type {\n",
       "        vertical-align: middle;\n",
       "    }\n",
       "\n",
       "    .dataframe tbody tr th {\n",
       "        vertical-align: top;\n",
       "    }\n",
       "\n",
       "    .dataframe thead th {\n",
       "        text-align: right;\n",
       "    }\n",
       "</style>\n",
       "<table border=\"1\" class=\"dataframe\">\n",
       "  <thead>\n",
       "    <tr style=\"text-align: right;\">\n",
       "      <th></th>\n",
       "      <th>Feature</th>\n",
       "      <th>Number Missing</th>\n",
       "      <th>Percent Missing</th>\n",
       "    </tr>\n",
       "  </thead>\n",
       "  <tbody>\n",
       "    <tr>\n",
       "      <th>0</th>\n",
       "      <td>SellForGain</td>\n",
       "      <td>3645</td>\n",
       "      <td>32.9</td>\n",
       "    </tr>\n",
       "    <tr>\n",
       "      <th>1</th>\n",
       "      <td>ForeclosureRatio</td>\n",
       "      <td>8581</td>\n",
       "      <td>77.4</td>\n",
       "    </tr>\n",
       "    <tr>\n",
       "      <th>2</th>\n",
       "      <td>NegativeEquity</td>\n",
       "      <td>295</td>\n",
       "      <td>2.7</td>\n",
       "    </tr>\n",
       "    <tr>\n",
       "      <th>3</th>\n",
       "      <td>Delinquency</td>\n",
       "      <td>295</td>\n",
       "      <td>2.7</td>\n",
       "    </tr>\n",
       "    <tr>\n",
       "      <th>4</th>\n",
       "      <td>DaysOnMarket</td>\n",
       "      <td>107</td>\n",
       "      <td>1.0</td>\n",
       "    </tr>\n",
       "  </tbody>\n",
       "</table>\n",
       "</div>"
      ],
      "text/plain": [
       "            Feature  Number Missing  Percent Missing\n",
       "0       SellForGain            3645             32.9\n",
       "1  ForeclosureRatio            8581             77.4\n",
       "2    NegativeEquity             295              2.7\n",
       "3       Delinquency             295              2.7\n",
       "4      DaysOnMarket             107              1.0"
      ]
     },
     "metadata": {},
     "output_type": "display_data"
    },
    {
     "name": "stdout",
     "output_type": "stream",
     "text": [
      "\n",
      "Total missing values after imputation:\n",
      "0\n"
     ]
    }
   ],
   "source": [
    "# First remove rows missing the target variable of ZHVI\n",
    "df_eda = df_eda[df_eda['ZHVI'].notna()]\n",
    "\n",
    "# Split the data into input and target\n",
    "train_X = df_eda.drop(columns=['ZHVI'])\n",
    "train_y = df_eda['ZHVI']\n",
    "\n",
    "# Calculating the missing values\n",
    "missing_values = train_X.isnull().sum()\n",
    "missing_values = missing_values[missing_values > 0]\n",
    "\n",
    "# Creating datafram to display missing data\n",
    "cols = ['Feature', 'Number Missing', 'Percent Missing']\n",
    "missing_df = pd.DataFrame(columns=cols)\n",
    "for col in missing_values.index:\n",
    "    missing_df.loc[len(missing_df.index)] = {'Feature': col,\n",
    "                                    'Number Missing': missing_values[col],\n",
    "                                    'Percent Missing': missing_values[col] / len(df_eda) * 100}\n",
    "\n",
    "pd.set_option('display.float_format', '{:.1f}'.format)\n",
    "display(missing_df)\n",
    "\n",
    "# Remove SellForGain, ForeclosureRatio columns\n",
    "#train_X = train_X.drop(columns=['SellForGain', 'ForeclosureRatio'])\n",
    "\n",
    "# Impute missing values using KNN\n",
    "imputer = KNNImputer(n_neighbors=5)\n",
    "imputed_values = imputer.fit_transform(train_X)\n",
    "\n",
    "# Convert the numpy array back into a dataframe\n",
    "train_X = pd.DataFrame(imputed_values, columns=train_X.columns)\n",
    "\n",
    "missing_values_after = train_X.isnull().sum()\n",
    "print('\\nTotal missing values after imputation:')\n",
    "print(len(missing_values_after[missing_values_after > 0]))"
   ]
  },
  {
   "attachments": {},
   "cell_type": "markdown",
   "id": "f17a6562",
   "metadata": {},
   "source": [
    "## Exploratory Data Analysis"
   ]
  },
  {
   "attachments": {},
   "cell_type": "markdown",
   "id": "474e428e",
   "metadata": {},
   "source": [
    "### Distribution of Key Features and Target Variable"
   ]
  },
  {
   "cell_type": "code",
   "execution_count": 7,
   "id": "b5955572-1114-483f-91ca-9a24fe3523d8",
   "metadata": {
    "tags": []
   },
   "outputs": [
    {
     "name": "stdout",
     "output_type": "stream",
     "text": [
      "Range of total tax income $20.35 - $1730.42\n",
      "Range of total Zillow's Housing Value Index $32700.00 - $6421400.00\n"
     ]
    },
    {
     "data": {
      "image/png": "[encoded data removed]",
      "text/plain": [
       "<Figure size 1400x400 with 3 Axes>"
      ]
     },
     "metadata": {},
     "output_type": "display_data"
    }
   ],
   "source": [
    "fig, axs = plt.subplots(1,3, figsize=(14,4))\n",
    "\n",
    "axs[0].ticklabel_format(axis='both')\n",
    "\n",
    "print(f\"Range of total tax income ${min(df_eda['A02650']):.2f} - ${max(df_eda['A02650']):.2f}\")\n",
    "# Create a histogram for 'income'\n",
    "axs[0].hist(df_eda['A02650'], bins=100, color='blue', alpha=0.7, rwidth=0.85)\n",
    "axs[0].grid(axis='y', alpha=0.9)\n",
    "axs[0].set_title('Average total tax incomes')\n",
    "axs[0].set_xlabel('Dollars (value * 1e^7)')\n",
    "axs[0].set_ylabel('Count')\n",
    "\n",
    "# Create a histogram for 'market_health_index'\n",
    "axs[1].hist(df_eda['MarketHealthIndex'], bins=20, color='green', alpha=0.7, rwidth=0.85)\n",
    "axs[1].set_title('Housing Market Health Index')\n",
    "axs[1].set_xlabel('Score (0-10)')\n",
    "axs[1].set_ylabel('Count')\n",
    "\n",
    "print(f\"Range of total Zillow's Housing Value Index ${min(df_eda['ZHVI']):.2f} - ${max(df_eda['ZHVI']):.2f}\")\n",
    "# Create a histogram for 'zillow_housing_value_index'\n",
    "axs[2].hist(df_eda['ZHVI'], bins=100, color='red', alpha=0.7)\n",
    "axs[2].set_title('Zillow Housing Value Index')\n",
    "axs[2].set_xlabel(\"Dollars (value * 1e^6)\")\n",
    "axs[2].set_ylabel(\"Count\")\n",
    "\n",
    "fig.suptitle('Key Features and Target Variable for Zipcodes', fontsize=20)\n",
    "\n",
    "plt.tight_layout()"
   ]
  },
  {
   "attachments": {},
   "cell_type": "markdown",
   "id": "df18c44c",
   "metadata": {},
   "source": [
    "### Viewing Boxplots"
   ]
  },
  {
   "cell_type": "code",
   "execution_count": 8,
   "id": "310c40e2",
   "metadata": {},
   "outputs": [
    {
     "data": {
      "image/png": "[encoded data removed]",
      "text/plain": [
       "<Figure size 800x300 with 3 Axes>"
      ]
     },
     "metadata": {},
     "output_type": "display_data"
    }
   ],
   "source": [
    "# Showing quartile ranges on total tax income\n",
    "fig, (ax1,ax2, ax3) = plt.subplots(1, 3, figsize=(8,3))\n",
    "income_mean = np.mean(df_eda['A02650'].values)\n",
    "ax1.boxplot(df_eda['A02650'], sym='.', patch_artist=True)\n",
    "# ax1.axhline(y = income_mean, color = 'r', linestyle = '-')\n",
    "ax1.grid(True)\n",
    "ax1.set_title(\"Total Tax Income\")\n",
    "ax1.set_xlabel(\"Total Tax income\")\n",
    "ax1.set_ylabel(\"Dollars (1.0 = 1 Million)\")\n",
    "\n",
    "# Plotting and labeling MarketHealthIndex boxplot graph \n",
    "ax2.boxplot(df_eda['MarketHealthIndex'], sym='.', patch_artist=True)\n",
    "ax2.grid(True)\n",
    "ax2.set_title(\"Market Health Index Ratings\")\n",
    "ax2.set_xlabel(\"Market Health Index Rating\")\n",
    "ax2.set_ylabel(\"Rating Value\")\n",
    "\n",
    "# Plotting and labeling Zillow Housing Value Index boxplot\n",
    "ax3.boxplot(df_eda['ZHVI'], sym='.', patch_artist=True)\n",
    "ax3.grid(True)\n",
    "ax3.set_title(\"Zillow Housing Value Index\", fontsize=\"11\")\n",
    "ax3.set_xlabel(\"Zillow Housing Value Index\")\n",
    "ax3.set_ylabel(\"Dollars (Hundred Thousands)\")\n",
    "\n",
    "plt.tight_layout()"
   ]
  },
  {
   "attachments": {},
   "cell_type": "markdown",
   "id": "30276978",
   "metadata": {},
   "source": [
    "### Data Loss from Dataset Merge"
   ]
  },
  {
   "cell_type": "code",
   "execution_count": 9,
   "id": "9055d1fe",
   "metadata": {
    "tags": []
   },
   "outputs": [
    {
     "data": {
      "application/vnd.plotly.v1+json": {
       "config": {
        "plotlyServerURL": "https://plot.ly"
       },
       "data": [
        {
         "coloraxis": "coloraxis",
         "geo": "geo",
         "hovertemplate": "<b>%{hovertext}</b><br><br>STATE=%{location}<br>Ratio=%{z}<extra></extra>",
         "hovertext": [
          "AK",
          "AL",
          "AR",
          "AZ",
          "CA",
          "CO",
          "CT",
          "DC",
          "DE",
          "FL",
          "GA",
          "HI",
          "IA",
          "ID",
          "IL",
          "IN",
          "KS",
          "KY",
          "LA",
          "MA",
          "MD",
          "ME",
          "MI",
          "MN",
          "MO",
          "MS",
          "MT",
          "NC",
          "ND",
          "NE",
          "NH",
          "NJ",
          "NM",
          "NV",
          "NY",
          "OH",
          "OK",
          "OR",
          "PA",
          "RI",
          "SC",
          "SD",
          "TN",
          "TX",
          "UT",
          "VA",
          "WA",
          "WI",
          "WV"
         ],
         "locationmode": "USA-states",
         "locations": [
          "AK",
          "AL",
          "AR",
          "AZ",
          "CA",
          "CO",
          "CT",
          "DC",
          "DE",
          "FL",
          "GA",
          "HI",
          "IA",
          "ID",
          "IL",
          "IN",
          "KS",
          "KY",
          "LA",
          "MA",
          "MD",
          "ME",
          "MI",
          "MN",
          "MO",
          "MS",
          "MT",
          "NC",
          "ND",
          "NE",
          "NH",
          "NJ",
          "NM",
          "NV",
          "NY",
          "OH",
          "OK",
          "OR",
          "PA",
          "RI",
          "SC",
          "SD",
          "TN",
          "TX",
          "UT",
          "VA",
          "WA",
          "WI",
          "WV"
         ],
         "name": "",
         "type": "choropleth",
         "z": [
          0.29449327406206105,
          0.33243212686365403,
          0.3247221684653488,
          0.4628453599938207,
          0.48005257985698996,
          0.46322416724269994,
          0.49308874526435154,
          0.4961078192169165,
          0.3982653361047328,
          0.4795218350869416,
          0.4154514510628186,
          0.4527522060226989,
          0.31270336791167225,
          0.4090173056034971,
          0.4494643381515954,
          0.4103118340925283,
          0.35111738539807685,
          0.32527086568911556,
          0.3545434421123621,
          0.48774867579908676,
          0.4918132057727048,
          0.30458922729576554,
          0.42197367791846213,
          0.38955304155993326,
          0.35157530652249575,
          0.24852097709873555,
          0.22092612943228448,
          0.4213458046451139,
          0.2733760600039182,
          0.2451950293987411,
          0.46376780519879646,
          0.49153517385301665,
          0.3387697040872025,
          0.4674554092886268,
          0.3820189131241302,
          0.45410500906117596,
          0.40494718595283524,
          0.451734763065372,
          0.45915468305071283,
          0.4936588578417537,
          0.4216604752478827,
          0.17492254419537087,
          0.46547304340574575,
          0.09557789400685708,
          0.38542839584868066,
          0.43672052009552775,
          0.47304724074336785,
          0.4108799790939413,
          0.23740845813815398
         ]
        }
       ],
       "layout": {
        "coloraxis": {
         "colorbar": {
          "title": {
           "text": "Ratio"
          }
         },
         "colorscale": [
          [
           0,
           "#440154"
          ],
          [
           0.1111111111111111,
           "#482878"
          ],
          [
           0.2222222222222222,
           "#3e4989"
          ],
          [
           0.3333333333333333,
           "#31688e"
          ],
          [
           0.4444444444444444,
           "#26828e"
          ],
          [
           0.5555555555555556,
           "#1f9e89"
          ],
          [
           0.6666666666666666,
           "#35b779"
          ],
          [
           0.7777777777777778,
           "#6ece58"
          ],
          [
           0.8888888888888888,
           "#b5de2b"
          ],
          [
           1,
           "#fde725"
          ]
         ]
        },
        "geo": {
         "center": {},
         "domain": {
          "x": [
           0,
           1
          ],
          "y": [
           0,
           1
          ]
         },
         "scope": "usa"
        },
        "legend": {
         "tracegroupgap": 0
        },
        "template": {
         "data": {
          "bar": [
           {
            "error_x": {
             "color": "#2a3f5f"
            },
            "error_y": {
             "color": "#2a3f5f"
            },
            "marker": {
             "line": {
              "color": "#E5ECF6",
              "width": 0.5
             },
             "pattern": {
              "fillmode": "overlay",
              "size": 10,
              "solidity": 0.2
             }
            },
            "type": "bar"
           }
          ],
          "barpolar": [
           {
            "marker": {
             "line": {
              "color": "#E5ECF6",
              "width": 0.5
             },
             "pattern": {
              "fillmode": "overlay",
              "size": 10,
              "solidity": 0.2
             }
            },
            "type": "barpolar"
           }
          ],
          "carpet": [
           {
            "aaxis": {
             "endlinecolor": "#2a3f5f",
             "gridcolor": "white",
             "linecolor": "white",
             "minorgridcolor": "white",
             "startlinecolor": "#2a3f5f"
            },
            "baxis": {
             "endlinecolor": "#2a3f5f",
             "gridcolor": "white",
             "linecolor": "white",
             "minorgridcolor": "white",
             "startlinecolor": "#2a3f5f"
            },
            "type": "carpet"
           }
          ],
          "choropleth": [
           {
            "colorbar": {
             "outlinewidth": 0,
             "ticks": ""
            },
            "type": "choropleth"
           }
          ],
          "contour": [
           {
            "colorbar": {
             "outlinewidth": 0,
             "ticks": ""
            },
            "colorscale": [
             [
              0,
              "#0d0887"
             ],
             [
              0.1111111111111111,
              "#46039f"
             ],
             [
              0.2222222222222222,
              "#7201a8"
             ],
             [
              0.3333333333333333,
              "#9c179e"
             ],
             [
              0.4444444444444444,
              "#bd3786"
             ],
             [
              0.5555555555555556,
              "#d8576b"
             ],
             [
              0.6666666666666666,
              "#ed7953"
             ],
             [
              0.7777777777777778,
              "#fb9f3a"
             ],
             [
              0.8888888888888888,
              "#fdca26"
             ],
             [
              1,
              "#f0f921"
             ]
            ],
            "type": "contour"
           }
          ],
          "contourcarpet": [
           {
            "colorbar": {
             "outlinewidth": 0,
             "ticks": ""
            },
            "type": "contourcarpet"
           }
          ],
          "heatmap": [
           {
            "colorbar": {
             "outlinewidth": 0,
             "ticks": ""
            },
            "colorscale": [
             [
              0,
              "#0d0887"
             ],
             [
              0.1111111111111111,
              "#46039f"
             ],
             [
              0.2222222222222222,
              "#7201a8"
             ],
             [
              0.3333333333333333,
              "#9c179e"
             ],
             [
              0.4444444444444444,
              "#bd3786"
             ],
             [
              0.5555555555555556,
              "#d8576b"
             ],
             [
              0.6666666666666666,
              "#ed7953"
             ],
             [
              0.7777777777777778,
              "#fb9f3a"
             ],
             [
              0.8888888888888888,
              "#fdca26"
             ],
             [
              1,
              "#f0f921"
             ]
            ],
            "type": "heatmap"
           }
          ],
          "heatmapgl": [
           {
            "colorbar": {
             "outlinewidth": 0,
             "ticks": ""
            },
            "colorscale": [
             [
              0,
              "#0d0887"
             ],
             [
              0.1111111111111111,
              "#46039f"
             ],
             [
              0.2222222222222222,
              "#7201a8"
             ],
             [
              0.3333333333333333,
              "#9c179e"
             ],
             [
              0.4444444444444444,
              "#bd3786"
             ],
             [
              0.5555555555555556,
              "#d8576b"
             ],
             [
              0.6666666666666666,
              "#ed7953"
             ],
             [
              0.7777777777777778,
              "#fb9f3a"
             ],
             [
              0.8888888888888888,
              "#fdca26"
             ],
             [
              1,
              "#f0f921"
             ]
            ],
            "type": "heatmapgl"
           }
          ],
          "histogram": [
           {
            "marker": {
             "pattern": {
              "fillmode": "overlay",
              "size": 10,
              "solidity": 0.2
             }
            },
            "type": "histogram"
           }
          ],
          "histogram2d": [
           {
            "colorbar": {
             "outlinewidth": 0,
             "ticks": ""
            },
            "colorscale": [
             [
              0,
              "#0d0887"
             ],
             [
              0.1111111111111111,
              "#46039f"
             ],
             [
              0.2222222222222222,
              "#7201a8"
             ],
             [
              0.3333333333333333,
              "#9c179e"
             ],
             [
              0.4444444444444444,
              "#bd3786"
             ],
             [
              0.5555555555555556,
              "#d8576b"
             ],
             [
              0.6666666666666666,
              "#ed7953"
             ],
             [
              0.7777777777777778,
              "#fb9f3a"
             ],
             [
              0.8888888888888888,
              "#fdca26"
             ],
             [
              1,
              "#f0f921"
             ]
            ],
            "type": "histogram2d"
           }
          ],
          "histogram2dcontour": [
           {
            "colorbar": {
             "outlinewidth": 0,
             "ticks": ""
            },
            "colorscale": [
             [
              0,
              "#0d0887"
             ],
             [
              0.1111111111111111,
              "#46039f"
             ],
             [
              0.2222222222222222,
              "#7201a8"
             ],
             [
              0.3333333333333333,
              "#9c179e"
             ],
             [
              0.4444444444444444,
              "#bd3786"
             ],
             [
              0.5555555555555556,
              "#d8576b"
             ],
             [
              0.6666666666666666,
              "#ed7953"
             ],
             [
              0.7777777777777778,
              "#fb9f3a"
             ],
             [
              0.8888888888888888,
              "#fdca26"
             ],
             [
              1,
              "#f0f921"
             ]
            ],
            "type": "histogram2dcontour"
           }
          ],
          "mesh3d": [
           {
            "colorbar": {
             "outlinewidth": 0,
             "ticks": ""
            },
            "type": "mesh3d"
           }
          ],
          "parcoords": [
           {
            "line": {
             "colorbar": {
              "outlinewidth": 0,
              "ticks": ""
             }
            },
            "type": "parcoords"
           }
          ],
          "pie": [
           {
            "automargin": true,
            "type": "pie"
           }
          ],
          "scatter": [
           {
            "fillpattern": {
             "fillmode": "overlay",
             "size": 10,
             "solidity": 0.2
            },
            "type": "scatter"
           }
          ],
          "scatter3d": [
           {
            "line": {
             "colorbar": {
              "outlinewidth": 0,
              "ticks": ""
             }
            },
            "marker": {
             "colorbar": {
              "outlinewidth": 0,
              "ticks": ""
             }
            },
            "type": "scatter3d"
           }
          ],
          "scattercarpet": [
           {
            "marker": {
             "colorbar": {
              "outlinewidth": 0,
              "ticks": ""
             }
            },
            "type": "scattercarpet"
           }
          ],
          "scattergeo": [
           {
            "marker": {
             "colorbar": {
              "outlinewidth": 0,
              "ticks": ""
             }
            },
            "type": "scattergeo"
           }
          ],
          "scattergl": [
           {
            "marker": {
             "colorbar": {
              "outlinewidth": 0,
              "ticks": ""
             }
            },
            "type": "scattergl"
           }
          ],
          "scattermapbox": [
           {
            "marker": {
             "colorbar": {
              "outlinewidth": 0,
              "ticks": ""
             }
            },
            "type": "scattermapbox"
           }
          ],
          "scatterpolar": [
           {
            "marker": {
             "colorbar": {
              "outlinewidth": 0,
              "ticks": ""
             }
            },
            "type": "scatterpolar"
           }
          ],
          "scatterpolargl": [
           {
            "marker": {
             "colorbar": {
              "outlinewidth": 0,
              "ticks": ""
             }
            },
            "type": "scatterpolargl"
           }
          ],
          "scatterternary": [
           {
            "marker": {
             "colorbar": {
              "outlinewidth": 0,
              "ticks": ""
             }
            },
            "type": "scatterternary"
           }
          ],
          "surface": [
           {
            "colorbar": {
             "outlinewidth": 0,
             "ticks": ""
            },
            "colorscale": [
             [
              0,
              "#0d0887"
             ],
             [
              0.1111111111111111,
              "#46039f"
             ],
             [
              0.2222222222222222,
              "#7201a8"
             ],
             [
              0.3333333333333333,
              "#9c179e"
             ],
             [
              0.4444444444444444,
              "#bd3786"
             ],
             [
              0.5555555555555556,
              "#d8576b"
             ],
             [
              0.6666666666666666,
              "#ed7953"
             ],
             [
              0.7777777777777778,
              "#fb9f3a"
             ],
             [
              0.8888888888888888,
              "#fdca26"
             ],
             [
              1,
              "#f0f921"
             ]
            ],
            "type": "surface"
           }
          ],
          "table": [
           {
            "cells": {
             "fill": {
              "color": "#EBF0F8"
             },
             "line": {
              "color": "white"
             }
            },
            "header": {
             "fill": {
              "color": "#C8D4E3"
             },
             "line": {
              "color": "white"
             }
            },
            "type": "table"
           }
          ]
         },
         "layout": {
          "annotationdefaults": {
           "arrowcolor": "#2a3f5f",
           "arrowhead": 0,
           "arrowwidth": 1
          },
          "autotypenumbers": "strict",
          "coloraxis": {
           "colorbar": {
            "outlinewidth": 0,
            "ticks": ""
           }
          },
          "colorscale": {
           "diverging": [
            [
             0,
             "#8e0152"
            ],
            [
             0.1,
             "#c51b7d"
            ],
            [
             0.2,
             "#de77ae"
            ],
            [
             0.3,
             "#f1b6da"
            ],
            [
             0.4,
             "#fde0ef"
            ],
            [
             0.5,
             "#f7f7f7"
            ],
            [
             0.6,
             "#e6f5d0"
            ],
            [
             0.7,
             "#b8e186"
            ],
            [
             0.8,
             "#7fbc41"
            ],
            [
             0.9,
             "#4d9221"
            ],
            [
             1,
             "#276419"
            ]
           ],
           "sequential": [
            [
             0,
             "#0d0887"
            ],
            [
             0.1111111111111111,
             "#46039f"
            ],
            [
             0.2222222222222222,
             "#7201a8"
            ],
            [
             0.3333333333333333,
             "#9c179e"
            ],
            [
             0.4444444444444444,
             "#bd3786"
            ],
            [
             0.5555555555555556,
             "#d8576b"
            ],
            [
             0.6666666666666666,
             "#ed7953"
            ],
            [
             0.7777777777777778,
             "#fb9f3a"
            ],
            [
             0.8888888888888888,
             "#fdca26"
            ],
            [
             1,
             "#f0f921"
            ]
           ],
           "sequentialminus": [
            [
             0,
             "#0d0887"
            ],
            [
             0.1111111111111111,
             "#46039f"
            ],
            [
             0.2222222222222222,
             "#7201a8"
            ],
            [
             0.3333333333333333,
             "#9c179e"
            ],
            [
             0.4444444444444444,
             "#bd3786"
            ],
            [
             0.5555555555555556,
             "#d8576b"
            ],
            [
             0.6666666666666666,
             "#ed7953"
            ],
            [
             0.7777777777777778,
             "#fb9f3a"
            ],
            [
             0.8888888888888888,
             "#fdca26"
            ],
            [
             1,
             "#f0f921"
            ]
           ]
          },
          "colorway": [
           "#636efa",
           "#EF553B",
           "#00cc96",
           "#ab63fa",
           "#FFA15A",
           "#19d3f3",
           "#FF6692",
           "#B6E880",
           "#FF97FF",
           "#FECB52"
          ],
          "font": {
           "color": "#2a3f5f"
          },
          "geo": {
           "bgcolor": "white",
           "lakecolor": "white",
           "landcolor": "#E5ECF6",
           "showlakes": true,
           "showland": true,
           "subunitcolor": "white"
          },
          "hoverlabel": {
           "align": "left"
          },
          "hovermode": "closest",
          "mapbox": {
           "style": "light"
          },
          "paper_bgcolor": "white",
          "plot_bgcolor": "#E5ECF6",
          "polar": {
           "angularaxis": {
            "gridcolor": "white",
            "linecolor": "white",
            "ticks": ""
           },
           "bgcolor": "#E5ECF6",
           "radialaxis": {
            "gridcolor": "white",
            "linecolor": "white",
            "ticks": ""
           }
          },
          "scene": {
           "xaxis": {
            "backgroundcolor": "#E5ECF6",
            "gridcolor": "white",
            "gridwidth": 2,
            "linecolor": "white",
            "showbackground": true,
            "ticks": "",
            "zerolinecolor": "white"
           },
           "yaxis": {
            "backgroundcolor": "#E5ECF6",
            "gridcolor": "white",
            "gridwidth": 2,
            "linecolor": "white",
            "showbackground": true,
            "ticks": "",
            "zerolinecolor": "white"
           },
           "zaxis": {
            "backgroundcolor": "#E5ECF6",
            "gridcolor": "white",
            "gridwidth": 2,
            "linecolor": "white",
            "showbackground": true,
            "ticks": "",
            "zerolinecolor": "white"
           }
          },
          "shapedefaults": {
           "line": {
            "color": "#2a3f5f"
           }
          },
          "ternary": {
           "aaxis": {
            "gridcolor": "white",
            "linecolor": "white",
            "ticks": ""
           },
           "baxis": {
            "gridcolor": "white",
            "linecolor": "white",
            "ticks": ""
           },
           "bgcolor": "#E5ECF6",
           "caxis": {
            "gridcolor": "white",
            "linecolor": "white",
            "ticks": ""
           }
          },
          "title": {
           "x": 0.05
          },
          "xaxis": {
           "automargin": true,
           "gridcolor": "white",
           "linecolor": "white",
           "ticks": "",
           "title": {
            "standoff": 15
           },
           "zerolinecolor": "white",
           "zerolinewidth": 2
          },
          "yaxis": {
           "automargin": true,
           "gridcolor": "white",
           "linecolor": "white",
           "ticks": "",
           "title": {
            "standoff": 15
           },
           "zerolinecolor": "white",
           "zerolinewidth": 2
          }
         }
        },
        "title": {
         "text": "Percentage Use of Zip Codes by State"
        }
       }
      }
     },
     "metadata": {},
     "output_type": "display_data"
    }
   ],
   "source": [
    "available_returns = raw_tax_df.groupby(['STATE']).sum().reset_index()\n",
    "market_health_zips = market_health_df['RegionName'].tolist()\n",
    "\n",
    "\n",
    "used_returns = raw_tax_df[raw_tax_df['ZIPCODE'].isin(market_health_zips)]\n",
    "\n",
    "used_returns = used_returns.groupby(['STATE']).sum().reset_index()\n",
    "\n",
    "\n",
    "merged_df = pd.merge(available_returns, used_returns, on='STATE', how='inner')\n",
    "\n",
    "merged_df['Ratio'] = merged_df['N1_y'] / merged_df['N1_x']\n",
    "\n",
    "import plotly.express as px\n",
    "\n",
    "# May need pip install --upgrade nbformat\n",
    "\n",
    "fig = px.choropleth(merged_df, locations=\"STATE\", color=\"Ratio\", hover_name=\"STATE\", \n",
    "                    title='Percentage Use of Zip Codes by State', locationmode='USA-states', scope='usa', color_continuous_scale=\"Viridis\")\n",
    "fig.show()\n"
   ]
  },
  {
   "attachments": {},
   "cell_type": "markdown",
   "id": "7b720d78",
   "metadata": {},
   "source": [
    "## Model Selection"
   ]
  },
  {
   "attachments": {},
   "cell_type": "markdown",
   "id": "464efe89",
   "metadata": {},
   "source": [
    "### Final Data Preparation\n",
    "\n",
    "Split holdout into validation and train sets and perform same data cleaning as training values.\n",
    "Normalize all inputs. "
   ]
  },
  {
   "cell_type": "code",
   "execution_count": 10,
   "id": "77c6dd3c",
   "metadata": {
    "tags": []
   },
   "outputs": [
    {
     "data": {
      "text/html": [
       "<div>\n",
       "<style scoped>\n",
       "    .dataframe tbody tr th:only-of-type {\n",
       "        vertical-align: middle;\n",
       "    }\n",
       "\n",
       "    .dataframe tbody tr th {\n",
       "        vertical-align: top;\n",
       "    }\n",
       "\n",
       "    .dataframe thead th {\n",
       "        text-align: right;\n",
       "    }\n",
       "</style>\n",
       "<table border=\"1\" class=\"dataframe\">\n",
       "  <thead>\n",
       "    <tr style=\"text-align: right;\">\n",
       "      <th></th>\n",
       "      <th>Feature</th>\n",
       "      <th>Number Missing</th>\n",
       "      <th>Percent Missing</th>\n",
       "    </tr>\n",
       "  </thead>\n",
       "  <tbody>\n",
       "  </tbody>\n",
       "</table>\n",
       "</div>"
      ],
      "text/plain": [
       "Empty DataFrame\n",
       "Columns: [Feature, Number Missing, Percent Missing]\n",
       "Index: []"
      ]
     },
     "metadata": {},
     "output_type": "display_data"
    },
    {
     "name": "stderr",
     "output_type": "stream",
     "text": [
      "/Users/kdevoe/Documents/CS/Masters/AAI500/FInal_Project/aai-500-final-group-4/env/lib/python3.10/site-packages/sklearn/base.py:439: UserWarning:\n",
      "\n",
      "X does not have valid feature names, but StandardScaler was fitted with feature names\n",
      "\n",
      "/Users/kdevoe/Documents/CS/Masters/AAI500/FInal_Project/aai-500-final-group-4/env/lib/python3.10/site-packages/sklearn/base.py:439: UserWarning:\n",
      "\n",
      "X does not have valid feature names, but StandardScaler was fitted with feature names\n",
      "\n"
     ]
    }
   ],
   "source": [
    "# Remove rows missing the target variable of ZHVI\n",
    "df_holdout = df_holdout[df_holdout['ZHVI'].notna()]\n",
    "\n",
    "# Split holdout data into validation and test set\n",
    "val, test = train_test_split(df_holdout, test_size=0.50, random_state=22)\n",
    "\n",
    "# Split the data into input and target\n",
    "val_X = val.drop(columns=['ZHVI'])\n",
    "val_y = val['ZHVI']\n",
    "\n",
    "test_X = test.drop(columns=['ZHVI'])\n",
    "test_y = test['ZHVI']\n",
    "\n",
    "val_imputed_values = imputer.fit_transform(val_X)\n",
    "test_imputed_values = imputer.fit_transform(test_X)\n",
    "\n",
    "# Convert the numpy array back into a dataframe\n",
    "val_X = pd.DataFrame(val_imputed_values, columns=val_X.columns)\n",
    "test_X = pd.DataFrame(test_imputed_values, columns=test_X.columns)\n",
    "\n",
    "# Divide by N1 value\n",
    "n1_url = 'Columns_Used.csv'\n",
    "Columns_Used = pd.read_csv(n1_url)\n",
    "Columns_Used[Columns_Used['Description'].str.contains(\"Number of\")]\n",
    "column_list = list(Columns_Used.Code)\n",
    "column_list = [x.strip() for x in column_list]\n",
    "\n",
    "for column in column_list:\n",
    "    if column != \"N1\" and column in list(val_X.columns):\n",
    "        val_X[column] = val_X[column].div(val_X[\"N1\"])\n",
    "        test_X[column] = test_X[column].div(test_X[\"N1\"])\n",
    "\n",
    "# Calculating the missing values\n",
    "missing_values = test_X.isnull().sum()\n",
    "missing_values = missing_values[missing_values > 0]\n",
    "\n",
    "# Creating datafram to display missing data\n",
    "cols = ['Feature', 'Number Missing', 'Percent Missing']\n",
    "missing_df = pd.DataFrame(columns=cols)\n",
    "for col in missing_values.index:\n",
    "    missing_df.loc[len(missing_df.index)] = {'Feature': col,\n",
    "                                    'Number Missing': missing_values[col],\n",
    "                                    'Percent Missing': missing_values[col] / len(df_eda) * 100}\n",
    "\n",
    "pd.set_option('display.float_format', '{:.1f}'.format)\n",
    "display(missing_df)\n",
    "        \n",
    "# Scale with MinMaxScaler\n",
    "min_max_scaler = MinMaxScaler()\n",
    "min_max_scaler.fit(train_X)\n",
    "train_X_min_max = min_max_scaler.transform(train_X)\n",
    "val_X_min_max = min_max_scaler.transform(val_X)\n",
    "test_X_min_max = min_max_scaler.transform(test_X)\n",
    "\n",
    "\n",
    "# Normalize the train_X data\n",
    "scaler = StandardScaler()\n",
    "scaler.fit(train_X)\n",
    "train_X = scaler.transform(train_X)\n",
    "\n",
    "# Normalize the val_X and test_X data\n",
    "val_X = scaler.transform(val_X.to_numpy())\n",
    "test_X = scaler.transform(test_X.to_numpy())\n"
   ]
  },
  {
   "attachments": {},
   "cell_type": "markdown",
   "id": "3fa126b0",
   "metadata": {},
   "source": [
    "Function to analzye results of a given regression model for price prediction."
   ]
  },
  {
   "cell_type": "code",
   "execution_count": 11,
   "id": "9aa01645",
   "metadata": {},
   "outputs": [],
   "source": [
    "def analyze_results(actual, predictions, name=\"\"):\n",
    "\n",
    "    interval_size = 100\n",
    "    last_interval = 1000\n",
    "    num_intervals = int(last_interval / interval_size)\n",
    "\n",
    "    results_df = pd.DataFrame(columns=['Interval', 'Count', 'RMSE', 'Max_Difference'])\n",
    "\n",
    "    # Process each interval for value\n",
    "    for i in range(0, num_intervals):\n",
    "\n",
    "        filtered_actual = []\n",
    "        filtered_predictions = []\n",
    "        \n",
    "        # Filter the actual and predictions to the current interval\n",
    "        lower_bound = interval_size * i * 1000\n",
    "\n",
    "        if i == num_intervals - 1:\n",
    "            upper_bound = np.inf\n",
    "        else:\n",
    "            upper_bound = interval_size * (i + 1) * 1000\n",
    "\n",
    "        for j in range(len(actual)):\n",
    "            if actual[j] >= lower_bound and actual[j] < upper_bound:\n",
    "                filtered_actual.append(actual[j])\n",
    "                filtered_predictions.append(predictions[j])\n",
    "\n",
    "        # Calculate the metrics for the interval\n",
    "        rmse = np.sqrt(mean_squared_error(filtered_actual, filtered_predictions))\n",
    "        max_diff = 0\n",
    "        for j in range(len(filtered_actual)):\n",
    "            max_diff = max(abs(filtered_actual[j] - filtered_predictions[j]), max_diff)\n",
    "\n",
    "        lower = f'${lower_bound / 1000}k'\n",
    "        if upper_bound == np.inf:\n",
    "            upper = 'Maximum'\n",
    "        else:\n",
    "            upper = f'${upper_bound / 1000}k'\n",
    "        # Store interval results\n",
    "        results_df.loc[len(results_df.index)] = {'Interval': f'{lower} to {upper}',\n",
    "                                                  'Count': len(filtered_actual),\n",
    "                                                  'RMSE': rmse, \n",
    "                                                  'Max_Difference': max_diff}\n",
    "\n",
    "    # Add the final row for all data\n",
    "    rmse = np.sqrt(mean_squared_error(actual, predictions))\n",
    "    max_diff = 0\n",
    "    for j in range(len(actual)):\n",
    "        max_diff = max(abs(actual[j] - predictions[j]), max_diff)\n",
    "    results_df.loc[len(results_df.index)] = {'Interval': 'All Data',\n",
    "                                                'Count': len(actual),\n",
    "                                                'RMSE': rmse,\n",
    "                                                'Max_Difference': max_diff}\n",
    "        \n",
    "    # Plot the results\n",
    "    plt.scatter(actual, predictions, color='blue')\n",
    "    plt.title(f'{name} Results')\n",
    "    plt.xlabel('Actual')\n",
    "    plt.ylabel('Predicted')\n",
    "\n",
    "    # Add a line for perfect correlation\n",
    "    min_value = min(min(actual), min(predictions))\n",
    "    max_value = max(max(actual), max(predictions))\n",
    "    plt.plot([min_value, max_value], [min_value, max_value], color='red')\n",
    "    # Add legend\n",
    "    plt.legend(['Model Results', 'Perfect Correlation'])\n",
    "\n",
    "    plt.show()\n",
    "\n",
    "    return results_df"
   ]
  },
  {
   "attachments": {},
   "cell_type": "markdown",
   "id": "0292c8c9",
   "metadata": {},
   "source": [
    "### Linear Regression"
   ]
  },
  {
   "cell_type": "code",
   "execution_count": 12,
   "id": "9bb5211e",
   "metadata": {
    "tags": []
   },
   "outputs": [
    {
     "data": {
      "image/png": "[encoded data removed]",
      "text/plain": [
       "<Figure size 640x480 with 1 Axes>"
      ]
     },
     "metadata": {},
     "output_type": "display_data"
    },
    {
     "data": {
      "text/html": [
       "<div>\n",
       "<style scoped>\n",
       "    .dataframe tbody tr th:only-of-type {\n",
       "        vertical-align: middle;\n",
       "    }\n",
       "\n",
       "    .dataframe tbody tr th {\n",
       "        vertical-align: top;\n",
       "    }\n",
       "\n",
       "    .dataframe thead th {\n",
       "        text-align: right;\n",
       "    }\n",
       "</style>\n",
       "<table border=\"1\" class=\"dataframe\">\n",
       "  <thead>\n",
       "    <tr style=\"text-align: right;\">\n",
       "      <th></th>\n",
       "      <th>Interval</th>\n",
       "      <th>Count</th>\n",
       "      <th>RMSE</th>\n",
       "      <th>Max_Difference</th>\n",
       "    </tr>\n",
       "  </thead>\n",
       "  <tbody>\n",
       "    <tr>\n",
       "      <th>0</th>\n",
       "      <td>$0.0k to $100.0k</td>\n",
       "      <td>169</td>\n",
       "      <td>271913.5</td>\n",
       "      <td>412205.5</td>\n",
       "    </tr>\n",
       "    <tr>\n",
       "      <th>1</th>\n",
       "      <td>$100.0k to $200.0k</td>\n",
       "      <td>575</td>\n",
       "      <td>261567.2</td>\n",
       "      <td>553146.8</td>\n",
       "    </tr>\n",
       "    <tr>\n",
       "      <th>2</th>\n",
       "      <td>$200.0k to $300.0k</td>\n",
       "      <td>315</td>\n",
       "      <td>250781.2</td>\n",
       "      <td>486521.1</td>\n",
       "    </tr>\n",
       "    <tr>\n",
       "      <th>3</th>\n",
       "      <td>$300.0k to $400.0k</td>\n",
       "      <td>131</td>\n",
       "      <td>247165.8</td>\n",
       "      <td>409475.7</td>\n",
       "    </tr>\n",
       "    <tr>\n",
       "      <th>4</th>\n",
       "      <td>$400.0k to $500.0k</td>\n",
       "      <td>73</td>\n",
       "      <td>249220.0</td>\n",
       "      <td>436186.6</td>\n",
       "    </tr>\n",
       "    <tr>\n",
       "      <th>5</th>\n",
       "      <td>$500.0k to $600.0k</td>\n",
       "      <td>38</td>\n",
       "      <td>311030.6</td>\n",
       "      <td>632751.2</td>\n",
       "    </tr>\n",
       "    <tr>\n",
       "      <th>6</th>\n",
       "      <td>$600.0k to $700.0k</td>\n",
       "      <td>30</td>\n",
       "      <td>318626.7</td>\n",
       "      <td>792107.6</td>\n",
       "    </tr>\n",
       "    <tr>\n",
       "      <th>7</th>\n",
       "      <td>$700.0k to $800.0k</td>\n",
       "      <td>22</td>\n",
       "      <td>362389.2</td>\n",
       "      <td>609121.6</td>\n",
       "    </tr>\n",
       "    <tr>\n",
       "      <th>8</th>\n",
       "      <td>$800.0k to $900.0k</td>\n",
       "      <td>14</td>\n",
       "      <td>414237.8</td>\n",
       "      <td>659050.4</td>\n",
       "    </tr>\n",
       "    <tr>\n",
       "      <th>9</th>\n",
       "      <td>$900.0k to Maximum</td>\n",
       "      <td>25</td>\n",
       "      <td>532037.2</td>\n",
       "      <td>1025326.9</td>\n",
       "    </tr>\n",
       "    <tr>\n",
       "      <th>10</th>\n",
       "      <td>All Data</td>\n",
       "      <td>1392</td>\n",
       "      <td>272379.0</td>\n",
       "      <td>1025326.9</td>\n",
       "    </tr>\n",
       "  </tbody>\n",
       "</table>\n",
       "</div>"
      ],
      "text/plain": [
       "              Interval  Count     RMSE  Max_Difference\n",
       "0     $0.0k to $100.0k    169 271913.5        412205.5\n",
       "1   $100.0k to $200.0k    575 261567.2        553146.8\n",
       "2   $200.0k to $300.0k    315 250781.2        486521.1\n",
       "3   $300.0k to $400.0k    131 247165.8        409475.7\n",
       "4   $400.0k to $500.0k     73 249220.0        436186.6\n",
       "5   $500.0k to $600.0k     38 311030.6        632751.2\n",
       "6   $600.0k to $700.0k     30 318626.7        792107.6\n",
       "7   $700.0k to $800.0k     22 362389.2        609121.6\n",
       "8   $800.0k to $900.0k     14 414237.8        659050.4\n",
       "9   $900.0k to Maximum     25 532037.2       1025326.9\n",
       "10            All Data   1392 272379.0       1025326.9"
      ]
     },
     "metadata": {},
     "output_type": "display_data"
    }
   ],
   "source": [
    "# Running linear regression with a constant on test set\n",
    "model = sm.OLS(train_y.values, train_X)\n",
    "results = model.fit()\n",
    "\n",
    "# Using model to predict on our validation set and to compare predict values\n",
    "predict_val = results.predict(val_X)\n",
    "\n",
    "display(analyze_results(val_y.values, predict_val, \"Linear Regression\"))"
   ]
  },
  {
   "attachments": {},
   "cell_type": "markdown",
   "id": "b915d622-f714-4709-a09d-373e5a62c200",
   "metadata": {},
   "source": [
    "## Generalized Linear Models"
   ]
  },
  {
   "cell_type": "code",
   "execution_count": 13,
   "id": "4f2796d1-a70e-46cc-a922-567a4c28b0bf",
   "metadata": {
    "tags": []
   },
   "outputs": [
    {
     "data": {
      "image/png": "[encoded data removed]",
      "text/plain": [
       "<Figure size 640x480 with 1 Axes>"
      ]
     },
     "metadata": {},
     "output_type": "display_data"
    },
    {
     "data": {
      "text/html": [
       "<div>\n",
       "<style scoped>\n",
       "    .dataframe tbody tr th:only-of-type {\n",
       "        vertical-align: middle;\n",
       "    }\n",
       "\n",
       "    .dataframe tbody tr th {\n",
       "        vertical-align: top;\n",
       "    }\n",
       "\n",
       "    .dataframe thead th {\n",
       "        text-align: right;\n",
       "    }\n",
       "</style>\n",
       "<table border=\"1\" class=\"dataframe\">\n",
       "  <thead>\n",
       "    <tr style=\"text-align: right;\">\n",
       "      <th></th>\n",
       "      <th>Interval</th>\n",
       "      <th>Count</th>\n",
       "      <th>RMSE</th>\n",
       "      <th>Max_Difference</th>\n",
       "    </tr>\n",
       "  </thead>\n",
       "  <tbody>\n",
       "    <tr>\n",
       "      <th>0</th>\n",
       "      <td>$0.0k to $100.0k</td>\n",
       "      <td>169</td>\n",
       "      <td>54761.1</td>\n",
       "      <td>157885.7</td>\n",
       "    </tr>\n",
       "    <tr>\n",
       "      <th>1</th>\n",
       "      <td>$100.0k to $200.0k</td>\n",
       "      <td>575</td>\n",
       "      <td>53979.2</td>\n",
       "      <td>289414.0</td>\n",
       "    </tr>\n",
       "    <tr>\n",
       "      <th>2</th>\n",
       "      <td>$200.0k to $300.0k</td>\n",
       "      <td>315</td>\n",
       "      <td>67431.4</td>\n",
       "      <td>239589.4</td>\n",
       "    </tr>\n",
       "    <tr>\n",
       "      <th>3</th>\n",
       "      <td>$300.0k to $400.0k</td>\n",
       "      <td>131</td>\n",
       "      <td>80433.1</td>\n",
       "      <td>302077.6</td>\n",
       "    </tr>\n",
       "    <tr>\n",
       "      <th>4</th>\n",
       "      <td>$400.0k to $500.0k</td>\n",
       "      <td>73</td>\n",
       "      <td>108900.2</td>\n",
       "      <td>419389.7</td>\n",
       "    </tr>\n",
       "    <tr>\n",
       "      <th>5</th>\n",
       "      <td>$500.0k to $600.0k</td>\n",
       "      <td>38</td>\n",
       "      <td>134325.1</td>\n",
       "      <td>369244.4</td>\n",
       "    </tr>\n",
       "    <tr>\n",
       "      <th>6</th>\n",
       "      <td>$600.0k to $700.0k</td>\n",
       "      <td>30</td>\n",
       "      <td>140095.5</td>\n",
       "      <td>531644.1</td>\n",
       "    </tr>\n",
       "    <tr>\n",
       "      <th>7</th>\n",
       "      <td>$700.0k to $800.0k</td>\n",
       "      <td>22</td>\n",
       "      <td>140717.5</td>\n",
       "      <td>348224.7</td>\n",
       "    </tr>\n",
       "    <tr>\n",
       "      <th>8</th>\n",
       "      <td>$800.0k to $900.0k</td>\n",
       "      <td>14</td>\n",
       "      <td>223111.5</td>\n",
       "      <td>400643.2</td>\n",
       "    </tr>\n",
       "    <tr>\n",
       "      <th>9</th>\n",
       "      <td>$900.0k to Maximum</td>\n",
       "      <td>25</td>\n",
       "      <td>352097.7</td>\n",
       "      <td>763736.8</td>\n",
       "    </tr>\n",
       "    <tr>\n",
       "      <th>10</th>\n",
       "      <td>All Data</td>\n",
       "      <td>1392</td>\n",
       "      <td>88221.7</td>\n",
       "      <td>763736.8</td>\n",
       "    </tr>\n",
       "  </tbody>\n",
       "</table>\n",
       "</div>"
      ],
      "text/plain": [
       "              Interval  Count     RMSE  Max_Difference\n",
       "0     $0.0k to $100.0k    169  54761.1        157885.7\n",
       "1   $100.0k to $200.0k    575  53979.2        289414.0\n",
       "2   $200.0k to $300.0k    315  67431.4        239589.4\n",
       "3   $300.0k to $400.0k    131  80433.1        302077.6\n",
       "4   $400.0k to $500.0k     73 108900.2        419389.7\n",
       "5   $500.0k to $600.0k     38 134325.1        369244.4\n",
       "6   $600.0k to $700.0k     30 140095.5        531644.1\n",
       "7   $700.0k to $800.0k     22 140717.5        348224.7\n",
       "8   $800.0k to $900.0k     14 223111.5        400643.2\n",
       "9   $900.0k to Maximum     25 352097.7        763736.8\n",
       "10            All Data   1392  88221.7        763736.8"
      ]
     },
     "metadata": {},
     "output_type": "display_data"
    },
    {
     "name": "stderr",
     "output_type": "stream",
     "text": [
      "/Users/kdevoe/Documents/CS/Masters/AAI500/FInal_Project/aai-500-final-group-4/env/lib/python3.10/site-packages/statsmodels/genmod/families/links.py:13: FutureWarning:\n",
      "\n",
      "The identity link alias is deprecated. Use Identity instead. The identity link alias will be removed after the 0.15.0 release.\n",
      "\n",
      "/Users/kdevoe/Documents/CS/Masters/AAI500/FInal_Project/aai-500-final-group-4/env/lib/python3.10/site-packages/statsmodels/genmod/generalized_linear_model.py:307: DomainWarning:\n",
      "\n",
      "The identity link function does not respect the domain of the Gamma family.\n",
      "\n"
     ]
    },
    {
     "data": {
      "image/png": "[encoded data removed]",
      "text/plain": [
       "<Figure size 640x480 with 1 Axes>"
      ]
     },
     "metadata": {},
     "output_type": "display_data"
    },
    {
     "data": {
      "text/html": [
       "<div>\n",
       "<style scoped>\n",
       "    .dataframe tbody tr th:only-of-type {\n",
       "        vertical-align: middle;\n",
       "    }\n",
       "\n",
       "    .dataframe tbody tr th {\n",
       "        vertical-align: top;\n",
       "    }\n",
       "\n",
       "    .dataframe thead th {\n",
       "        text-align: right;\n",
       "    }\n",
       "</style>\n",
       "<table border=\"1\" class=\"dataframe\">\n",
       "  <thead>\n",
       "    <tr style=\"text-align: right;\">\n",
       "      <th></th>\n",
       "      <th>Interval</th>\n",
       "      <th>Count</th>\n",
       "      <th>RMSE</th>\n",
       "      <th>Max_Difference</th>\n",
       "    </tr>\n",
       "  </thead>\n",
       "  <tbody>\n",
       "    <tr>\n",
       "      <th>0</th>\n",
       "      <td>$0.0k to $100.0k</td>\n",
       "      <td>169</td>\n",
       "      <td>30192.7</td>\n",
       "      <td>109049.2</td>\n",
       "    </tr>\n",
       "    <tr>\n",
       "      <th>1</th>\n",
       "      <td>$100.0k to $200.0k</td>\n",
       "      <td>575</td>\n",
       "      <td>33874.8</td>\n",
       "      <td>143844.9</td>\n",
       "    </tr>\n",
       "    <tr>\n",
       "      <th>2</th>\n",
       "      <td>$200.0k to $300.0k</td>\n",
       "      <td>315</td>\n",
       "      <td>50028.7</td>\n",
       "      <td>242136.8</td>\n",
       "    </tr>\n",
       "    <tr>\n",
       "      <th>3</th>\n",
       "      <td>$300.0k to $400.0k</td>\n",
       "      <td>131</td>\n",
       "      <td>93307.8</td>\n",
       "      <td>406866.1</td>\n",
       "    </tr>\n",
       "    <tr>\n",
       "      <th>4</th>\n",
       "      <td>$400.0k to $500.0k</td>\n",
       "      <td>73</td>\n",
       "      <td>105710.6</td>\n",
       "      <td>349132.3</td>\n",
       "    </tr>\n",
       "    <tr>\n",
       "      <th>5</th>\n",
       "      <td>$500.0k to $600.0k</td>\n",
       "      <td>38</td>\n",
       "      <td>150158.6</td>\n",
       "      <td>385822.1</td>\n",
       "    </tr>\n",
       "    <tr>\n",
       "      <th>6</th>\n",
       "      <td>$600.0k to $700.0k</td>\n",
       "      <td>30</td>\n",
       "      <td>144080.8</td>\n",
       "      <td>302136.0</td>\n",
       "    </tr>\n",
       "    <tr>\n",
       "      <th>7</th>\n",
       "      <td>$700.0k to $800.0k</td>\n",
       "      <td>22</td>\n",
       "      <td>197070.5</td>\n",
       "      <td>352957.2</td>\n",
       "    </tr>\n",
       "    <tr>\n",
       "      <th>8</th>\n",
       "      <td>$800.0k to $900.0k</td>\n",
       "      <td>14</td>\n",
       "      <td>278715.3</td>\n",
       "      <td>477259.7</td>\n",
       "    </tr>\n",
       "    <tr>\n",
       "      <th>9</th>\n",
       "      <td>$900.0k to Maximum</td>\n",
       "      <td>25</td>\n",
       "      <td>493915.6</td>\n",
       "      <td>983295.3</td>\n",
       "    </tr>\n",
       "    <tr>\n",
       "      <th>10</th>\n",
       "      <td>All Data</td>\n",
       "      <td>1392</td>\n",
       "      <td>96931.8</td>\n",
       "      <td>983295.3</td>\n",
       "    </tr>\n",
       "  </tbody>\n",
       "</table>\n",
       "</div>"
      ],
      "text/plain": [
       "              Interval  Count     RMSE  Max_Difference\n",
       "0     $0.0k to $100.0k    169  30192.7        109049.2\n",
       "1   $100.0k to $200.0k    575  33874.8        143844.9\n",
       "2   $200.0k to $300.0k    315  50028.7        242136.8\n",
       "3   $300.0k to $400.0k    131  93307.8        406866.1\n",
       "4   $400.0k to $500.0k     73 105710.6        349132.3\n",
       "5   $500.0k to $600.0k     38 150158.6        385822.1\n",
       "6   $600.0k to $700.0k     30 144080.8        302136.0\n",
       "7   $700.0k to $800.0k     22 197070.5        352957.2\n",
       "8   $800.0k to $900.0k     14 278715.3        477259.7\n",
       "9   $900.0k to Maximum     25 493915.6        983295.3\n",
       "10            All Data   1392  96931.8        983295.3"
      ]
     },
     "metadata": {},
     "output_type": "display_data"
    }
   ],
   "source": [
    "# Instantiate a Gaussian family model with the default link function.\n",
    "# Testing test set\n",
    "glm_gaus = sm.GLM(train_y.values, train_X_min_max, family=sm.families.Gaussian())\n",
    "res_gaus = glm_gaus.fit()\n",
    "predict_glm_train = res_gaus.predict()\n",
    "MSE = mean_squared_error(train_y, predict_glm_train)\n",
    "sMSE_gaus_train = np.sqrt(MSE)\n",
    "\n",
    "\n",
    "# Testing on Validation set\n",
    "predict_glm_val = res_gaus.predict(val_X_min_max)\n",
    "MSE = mean_squared_error(val_y, predict_glm_val)\n",
    "sMSE_gaus_val = np.sqrt(MSE)\n",
    "\n",
    "display(analyze_results(val_y.values, predict_glm_val, \"GLM Gaussian\"))\n",
    "\n",
    "# Instantiate a gamma family model with the default link function.\n",
    "# Test set\n",
    "glm_gamma = sm.GLM(train_y.values, train_X_min_max , family=sm.families.Gamma(link=sm.genmod.families.links.identity()))\n",
    "res_gamma = glm_gamma.fit()\n",
    "predict_glm_gamma_train = res_gamma.predict()\n",
    "MSE = mean_squared_error(train_y, predict_glm_gamma_train)\n",
    "sMSE_gamma_train = np.sqrt(MSE)\n",
    "\n",
    "# For validation set\n",
    "predict_glm_gamma_val = res_gamma.predict(val_X_min_max)\n",
    "MSE = mean_squared_error(val_y, predict_glm_gamma_val)\n",
    "sMSE_gamma_val = np.sqrt(MSE)\n",
    "\n",
    "display(analyze_results(val_y.values, predict_glm_gamma_val, \"GLM Gamma\"))"
   ]
  },
  {
   "attachments": {},
   "cell_type": "markdown",
   "id": "e7336b9f",
   "metadata": {},
   "source": [
    "### XGBoost Evaluation"
   ]
  },
  {
   "cell_type": "code",
   "execution_count": 14,
   "id": "5712435b",
   "metadata": {},
   "outputs": [
    {
     "data": {
      "image/png": "[encoded data removed]",
      "text/plain": [
       "<Figure size 640x480 with 1 Axes>"
      ]
     },
     "metadata": {},
     "output_type": "display_data"
    },
    {
     "data": {
      "text/html": [
       "<div>\n",
       "<style scoped>\n",
       "    .dataframe tbody tr th:only-of-type {\n",
       "        vertical-align: middle;\n",
       "    }\n",
       "\n",
       "    .dataframe tbody tr th {\n",
       "        vertical-align: top;\n",
       "    }\n",
       "\n",
       "    .dataframe thead th {\n",
       "        text-align: right;\n",
       "    }\n",
       "</style>\n",
       "<table border=\"1\" class=\"dataframe\">\n",
       "  <thead>\n",
       "    <tr style=\"text-align: right;\">\n",
       "      <th></th>\n",
       "      <th>Interval</th>\n",
       "      <th>Count</th>\n",
       "      <th>RMSE</th>\n",
       "      <th>Max_Difference</th>\n",
       "    </tr>\n",
       "  </thead>\n",
       "  <tbody>\n",
       "    <tr>\n",
       "      <th>0</th>\n",
       "      <td>$0.0k to $100.0k</td>\n",
       "      <td>169</td>\n",
       "      <td>21462.3</td>\n",
       "      <td>106746.7</td>\n",
       "    </tr>\n",
       "    <tr>\n",
       "      <th>1</th>\n",
       "      <td>$100.0k to $200.0k</td>\n",
       "      <td>575</td>\n",
       "      <td>24365.9</td>\n",
       "      <td>127943.8</td>\n",
       "    </tr>\n",
       "    <tr>\n",
       "      <th>2</th>\n",
       "      <td>$200.0k to $300.0k</td>\n",
       "      <td>315</td>\n",
       "      <td>42257.2</td>\n",
       "      <td>365805.9</td>\n",
       "    </tr>\n",
       "    <tr>\n",
       "      <th>3</th>\n",
       "      <td>$300.0k to $400.0k</td>\n",
       "      <td>131</td>\n",
       "      <td>54280.0</td>\n",
       "      <td>160963.2</td>\n",
       "    </tr>\n",
       "    <tr>\n",
       "      <th>4</th>\n",
       "      <td>$400.0k to $500.0k</td>\n",
       "      <td>73</td>\n",
       "      <td>91172.6</td>\n",
       "      <td>321746.4</td>\n",
       "    </tr>\n",
       "    <tr>\n",
       "      <th>5</th>\n",
       "      <td>$500.0k to $600.0k</td>\n",
       "      <td>38</td>\n",
       "      <td>113522.7</td>\n",
       "      <td>380006.2</td>\n",
       "    </tr>\n",
       "    <tr>\n",
       "      <th>6</th>\n",
       "      <td>$600.0k to $700.0k</td>\n",
       "      <td>30</td>\n",
       "      <td>100812.1</td>\n",
       "      <td>327768.2</td>\n",
       "    </tr>\n",
       "    <tr>\n",
       "      <th>7</th>\n",
       "      <td>$700.0k to $800.0k</td>\n",
       "      <td>22</td>\n",
       "      <td>146740.0</td>\n",
       "      <td>295872.4</td>\n",
       "    </tr>\n",
       "    <tr>\n",
       "      <th>8</th>\n",
       "      <td>$800.0k to $900.0k</td>\n",
       "      <td>14</td>\n",
       "      <td>178449.7</td>\n",
       "      <td>370654.9</td>\n",
       "    </tr>\n",
       "    <tr>\n",
       "      <th>9</th>\n",
       "      <td>$900.0k to Maximum</td>\n",
       "      <td>25</td>\n",
       "      <td>259402.3</td>\n",
       "      <td>648382.9</td>\n",
       "    </tr>\n",
       "    <tr>\n",
       "      <th>10</th>\n",
       "      <td>All Data</td>\n",
       "      <td>1392</td>\n",
       "      <td>62115.9</td>\n",
       "      <td>648382.9</td>\n",
       "    </tr>\n",
       "  </tbody>\n",
       "</table>\n",
       "</div>"
      ],
      "text/plain": [
       "              Interval  Count     RMSE  Max_Difference\n",
       "0     $0.0k to $100.0k    169  21462.3        106746.7\n",
       "1   $100.0k to $200.0k    575  24365.9        127943.8\n",
       "2   $200.0k to $300.0k    315  42257.2        365805.9\n",
       "3   $300.0k to $400.0k    131  54280.0        160963.2\n",
       "4   $400.0k to $500.0k     73  91172.6        321746.4\n",
       "5   $500.0k to $600.0k     38 113522.7        380006.2\n",
       "6   $600.0k to $700.0k     30 100812.1        327768.2\n",
       "7   $700.0k to $800.0k     22 146740.0        295872.4\n",
       "8   $800.0k to $900.0k     14 178449.7        370654.9\n",
       "9   $900.0k to Maximum     25 259402.3        648382.9\n",
       "10            All Data   1392  62115.9        648382.9"
      ]
     },
     "metadata": {},
     "output_type": "display_data"
    }
   ],
   "source": [
    "from xgboost import XGBRegressor\n",
    "\n",
    "model = XGBRegressor()\n",
    "\n",
    "# fit the model on the whole dataset\n",
    "model.fit(train_X, train_y.values)\n",
    "\n",
    "# make a single prediction\n",
    "predict_xgboost_val = model.predict(val_X)\n",
    "\n",
    "display(analyze_results(val_y.values, predict_xgboost_val, 'XGBoost'))"
   ]
  },
  {
   "attachments": {},
   "cell_type": "markdown",
   "id": "e4ee6cd2",
   "metadata": {},
   "source": [
    "### Sequential Neural Network Evaluation"
   ]
  },
  {
   "cell_type": "code",
   "execution_count": 15,
   "id": "f8256047",
   "metadata": {
    "tags": []
   },
   "outputs": [],
   "source": [
    "# Constants\n",
    "\n",
    "BATCH_SIZE = 1\n",
    "EPOCHS = 10\n",
    "LR = 0.01"
   ]
  },
  {
   "cell_type": "code",
   "execution_count": 16,
   "id": "d2158bf0",
   "metadata": {
    "tags": []
   },
   "outputs": [
    {
     "name": "stdout",
     "output_type": "stream",
     "text": [
      "Model(\n",
      "  (fc_1): Linear(in_features=51, out_features=26, bias=True)\n",
      "  (fc_2): Linear(in_features=26, out_features=1, bias=True)\n",
      ")\n"
     ]
    }
   ],
   "source": [
    "# Model definition\n",
    "class Model(nn.Module):\n",
    "    def __init__(self, input_size, output_size=1):\n",
    "        super().__init__()\n",
    "\n",
    "        self.hidden_dim = output_size + (input_size - output_size) // 2\n",
    "\n",
    "        self.fc_1 = nn.Linear(input_size, self.hidden_dim)\n",
    "        self.fc_2 = nn.Linear(self.hidden_dim, output_size)\n",
    "\n",
    "    def forward(self, x):\n",
    "\n",
    "        out = self.fc_1(x)\n",
    "        out = F.relu(out)\n",
    "        out = self.fc_2(out)\n",
    "\n",
    "        return out\n",
    "\n",
    "neural_model = Model(train_X.shape[1])\n",
    "print(neural_model)"
   ]
  },
  {
   "attachments": {},
   "cell_type": "markdown",
   "id": "a07ef837",
   "metadata": {},
   "source": [
    "Run on GPU if available"
   ]
  },
  {
   "cell_type": "code",
   "execution_count": 17,
   "id": "824de712",
   "metadata": {
    "tags": []
   },
   "outputs": [
    {
     "name": "stdout",
     "output_type": "stream",
     "text": [
      "GPU not available, CPU used\n"
     ]
    },
    {
     "data": {
      "text/plain": [
       "Model(\n",
       "  (fc_1): Linear(in_features=51, out_features=26, bias=True)\n",
       "  (fc_2): Linear(in_features=26, out_features=1, bias=True)\n",
       ")"
      ]
     },
     "execution_count": 17,
     "metadata": {},
     "output_type": "execute_result"
    }
   ],
   "source": [
    "is_cuda = torch.cuda.is_available()\n",
    "\n",
    "if is_cuda:\n",
    "    device = torch.device(\"cuda\")\n",
    "    print(\"GPU is available\")\n",
    "\n",
    "else:\n",
    "    device = torch.device(\"cpu\")\n",
    "    print(\"GPU not available, CPU used\")\n",
    "\n",
    "neural_model.to(device)"
   ]
  },
  {
   "cell_type": "code",
   "execution_count": 18,
   "id": "adfd5ee0",
   "metadata": {
    "tags": []
   },
   "outputs": [],
   "source": [
    "# Define the loss function and the optimizer\n",
    "criterion = nn.MSELoss()\n",
    "optimizer = torch.optim.Adam(neural_model.parameters(), lr=LR)\n"
   ]
  },
  {
   "cell_type": "code",
   "execution_count": 19,
   "id": "37565033",
   "metadata": {
    "tags": []
   },
   "outputs": [],
   "source": [
    "# Training loop\n",
    "\n",
    "def training_loop(model, train_X, train_y, val_X, val_y, num_epochs = 1, batch_size = 1):\n",
    "\n",
    "    num_batches = len(train_X) // batch_size\n",
    "\n",
    "    train_losses = []\n",
    "    val_losses = []\n",
    "    total_loss = 0\n",
    "\n",
    "    for epoch in tqdm(range(num_epochs)):  # loop over the dataset for each epoch\n",
    "        for batch in range(num_batches):\n",
    "            # get the inputs; data is a list of [inputs, labels]\n",
    "            start_index = batch * batch_size\n",
    "            end_index = start_index + batch_size\n",
    "            inputs = torch.from_numpy(train_X[start_index: end_index]).float().reshape(batch_size, -1)\n",
    "            inputs.requires_grad = True\n",
    "            labels = torch.from_numpy(np.asarray(train_y[start_index: end_index])).float().reshape(batch_size, -1)\n",
    "            labels.requires_grad = True\n",
    "\n",
    "            # zero the parameter gradients\n",
    "            optimizer.zero_grad()\n",
    "\n",
    "            # forward + backward + optimize\n",
    "            outputs = model(inputs)\n",
    "            loss = torch.sqrt(criterion(outputs, labels))\n",
    "            loss.backward()\n",
    "            optimizer.step()\n",
    "\n",
    "            total_loss += np.mean(loss.item())\n",
    "\n",
    "        # Get the validation losses\n",
    "        val_outputs = model(torch.from_numpy(val_X).float().reshape(len(val_X), -1))\n",
    "        val_loss = torch.sqrt(criterion(val_outputs, torch.from_numpy(np.asarray(val_y)).float().reshape(len(val_y), -1)))\n",
    "\n",
    "        average_loss = total_loss / num_batches\n",
    "        train_losses.append(average_loss)\n",
    "        val_losses.append(val_loss.detach().numpy())\n",
    "        total_loss = 0  # Reset the total loss for the next epoch\n",
    "        \n",
    "    return train_losses, val_losses"
   ]
  },
  {
   "cell_type": "code",
   "execution_count": 20,
   "id": "59d1b920",
   "metadata": {
    "tags": []
   },
   "outputs": [
    {
     "name": "stderr",
     "output_type": "stream",
     "text": [
      "100%|██████████| 10/10 [00:27<00:00,  2.78s/it]\n"
     ]
    },
    {
     "data": {
      "image/png": "[encoded data removed]",
      "text/plain": [
       "<Figure size 640x480 with 1 Axes>"
      ]
     },
     "metadata": {},
     "output_type": "display_data"
    },
    {
     "data": {
      "image/png": "[encoded data removed]",
      "text/plain": [
       "<Figure size 640x480 with 1 Axes>"
      ]
     },
     "metadata": {},
     "output_type": "display_data"
    },
    {
     "data": {
      "text/html": [
       "<div>\n",
       "<style scoped>\n",
       "    .dataframe tbody tr th:only-of-type {\n",
       "        vertical-align: middle;\n",
       "    }\n",
       "\n",
       "    .dataframe tbody tr th {\n",
       "        vertical-align: top;\n",
       "    }\n",
       "\n",
       "    .dataframe thead th {\n",
       "        text-align: right;\n",
       "    }\n",
       "</style>\n",
       "<table border=\"1\" class=\"dataframe\">\n",
       "  <thead>\n",
       "    <tr style=\"text-align: right;\">\n",
       "      <th></th>\n",
       "      <th>Interval</th>\n",
       "      <th>Count</th>\n",
       "      <th>RMSE</th>\n",
       "      <th>Max_Difference</th>\n",
       "    </tr>\n",
       "  </thead>\n",
       "  <tbody>\n",
       "    <tr>\n",
       "      <th>0</th>\n",
       "      <td>$0.0k to $100.0k</td>\n",
       "      <td>169</td>\n",
       "      <td>24437.9</td>\n",
       "      <td>80186.8</td>\n",
       "    </tr>\n",
       "    <tr>\n",
       "      <th>1</th>\n",
       "      <td>$100.0k to $200.0k</td>\n",
       "      <td>575</td>\n",
       "      <td>28113.2</td>\n",
       "      <td>139668.3</td>\n",
       "    </tr>\n",
       "    <tr>\n",
       "      <th>2</th>\n",
       "      <td>$200.0k to $300.0k</td>\n",
       "      <td>315</td>\n",
       "      <td>49869.0</td>\n",
       "      <td>235489.3</td>\n",
       "    </tr>\n",
       "    <tr>\n",
       "      <th>3</th>\n",
       "      <td>$300.0k to $400.0k</td>\n",
       "      <td>131</td>\n",
       "      <td>74722.0</td>\n",
       "      <td>301257.3</td>\n",
       "    </tr>\n",
       "    <tr>\n",
       "      <th>4</th>\n",
       "      <td>$400.0k to $500.0k</td>\n",
       "      <td>73</td>\n",
       "      <td>76979.6</td>\n",
       "      <td>227074.2</td>\n",
       "    </tr>\n",
       "    <tr>\n",
       "      <th>5</th>\n",
       "      <td>$500.0k to $600.0k</td>\n",
       "      <td>38</td>\n",
       "      <td>128501.1</td>\n",
       "      <td>408861.0</td>\n",
       "    </tr>\n",
       "    <tr>\n",
       "      <th>6</th>\n",
       "      <td>$600.0k to $700.0k</td>\n",
       "      <td>30</td>\n",
       "      <td>107937.5</td>\n",
       "      <td>240224.3</td>\n",
       "    </tr>\n",
       "    <tr>\n",
       "      <th>7</th>\n",
       "      <td>$700.0k to $800.0k</td>\n",
       "      <td>22</td>\n",
       "      <td>117832.5</td>\n",
       "      <td>271034.2</td>\n",
       "    </tr>\n",
       "    <tr>\n",
       "      <th>8</th>\n",
       "      <td>$800.0k to $900.0k</td>\n",
       "      <td>14</td>\n",
       "      <td>215711.3</td>\n",
       "      <td>424131.9</td>\n",
       "    </tr>\n",
       "    <tr>\n",
       "      <th>9</th>\n",
       "      <td>$900.0k to Maximum</td>\n",
       "      <td>25</td>\n",
       "      <td>422006.1</td>\n",
       "      <td>912800.9</td>\n",
       "    </tr>\n",
       "    <tr>\n",
       "      <th>10</th>\n",
       "      <td>All Data</td>\n",
       "      <td>1392</td>\n",
       "      <td>79910.5</td>\n",
       "      <td>912800.9</td>\n",
       "    </tr>\n",
       "  </tbody>\n",
       "</table>\n",
       "</div>"
      ],
      "text/plain": [
       "              Interval  Count     RMSE  Max_Difference\n",
       "0     $0.0k to $100.0k    169  24437.9         80186.8\n",
       "1   $100.0k to $200.0k    575  28113.2        139668.3\n",
       "2   $200.0k to $300.0k    315  49869.0        235489.3\n",
       "3   $300.0k to $400.0k    131  74722.0        301257.3\n",
       "4   $400.0k to $500.0k     73  76979.6        227074.2\n",
       "5   $500.0k to $600.0k     38 128501.1        408861.0\n",
       "6   $600.0k to $700.0k     30 107937.5        240224.3\n",
       "7   $700.0k to $800.0k     22 117832.5        271034.2\n",
       "8   $800.0k to $900.0k     14 215711.3        424131.9\n",
       "9   $900.0k to Maximum     25 422006.1        912800.9\n",
       "10            All Data   1392  79910.5        912800.9"
      ]
     },
     "metadata": {},
     "output_type": "display_data"
    }
   ],
   "source": [
    "train_losses, val_losses = training_loop(neural_model, train_X, train_y, val_X, val_y, num_epochs=EPOCHS, batch_size=BATCH_SIZE)\n",
    "\n",
    "# Get predictions on the validation set\n",
    "val_outputs = neural_model(torch.from_numpy(val_X).float().reshape(len(val_X), -1))\n",
    "val_outputs = val_outputs.detach().numpy()\n",
    "\n",
    "plt.plot(train_losses, label='Training Loss')\n",
    "plt.plot(val_losses, label='Validation Loss')\n",
    "plt.title('Loss vs Epochs')\n",
    "plt.xlabel('Training Epochs')\n",
    "plt.ylabel('Loss in Dollars')\n",
    "plt.legend()\n",
    "\n",
    "plt.show()\n",
    "\n",
    "# Convert numpy ndarray to list\n",
    "val_outputs = val_outputs.tolist()\n",
    "val_outputs = [item for sublist in val_outputs for item in sublist]\n",
    "\n",
    "display(analyze_results(val_y.values, val_outputs, \"Neural Network Validation\"))\n"
   ]
  }
 ],
 "metadata": {
  "kernelspec": {
   "display_name": "Python 3 (ipykernel)",
   "language": "python",
   "name": "python3"
  },
  "language_info": {
   "codemirror_mode": {
    "name": "ipython",
    "version": 3
   },
   "file_extension": ".py",
   "mimetype": "text/x-python",
   "name": "python",
   "nbconvert_exporter": "python",
   "pygments_lexer": "ipython3",
   "version": "3.11.3"
  }
 },
 "nbformat": 4,
 "nbformat_minor": 5
}
