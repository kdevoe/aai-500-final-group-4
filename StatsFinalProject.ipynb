{
 "cells": [
  {
   "attachments": {},
   "cell_type": "markdown",
   "id": "b7b3dc06",
   "metadata": {},
   "source": [
    "## Library and Data Imports"
   ]
  },
  {
   "cell_type": "code",
   "execution_count": 1,
   "id": "6078e54c-5d52-4a95-8107-713f9650843c",
   "metadata": {
    "tags": []
   },
   "outputs": [],
   "source": [
    "import scipy.stats as stats\n",
    "import pandas as pd\n",
    "import numpy as np\n",
    "import seaborn as sns\n",
    "import matplotlib.pyplot as plt\n",
    "from sklearn.model_selection import train_test_split\n",
    "from sklearn.impute import KNNImputer\n",
    "from sklearn.preprocessing import StandardScaler, MinMaxScaler\n",
    "from sklearn.metrics import mean_squared_error, r2_score\n",
    "import statsmodels.api as sm\n",
    "\n",
    "import torch\n",
    "import torch.nn as nn\n",
    "import torch.nn.functional as F\n",
    "from tqdm import tqdm"
   ]
  },
  {
   "cell_type": "code",
   "execution_count": 2,
   "id": "323eea3b-6cc5-4153-9889-1cead84ff4e8",
   "metadata": {
    "tags": []
   },
   "outputs": [],
   "source": [
    "# read local csv files and put into data frames\n",
    "data_url = '17zpallnoagi.csv'\n",
    "zpallnoagi_csv = pd.read_csv(data_url)\n",
    "raw_tax_df = pd.DataFrame(zpallnoagi_csv)\n",
    "mhi_data_url = 'MarketHealthIndex_Zip.csv'\n",
    "market_health_csv = pd.read_csv(mhi_data_url, on_bad_lines='skip', encoding = \"ISO-8859-1\")\n",
    "market_health_df = pd.DataFrame(market_health_csv)"
   ]
  },
  {
   "attachments": {},
   "cell_type": "markdown",
   "id": "ea28262b",
   "metadata": {},
   "source": [
    "## Data Cleaning and Imputation"
   ]
  },
  {
   "attachments": {},
   "cell_type": "markdown",
   "id": "af5d1378",
   "metadata": {},
   "source": [
    "### Downselection of Features"
   ]
  },
  {
   "cell_type": "code",
   "execution_count": 3,
   "id": "b4bbfbca-ead7-4153-a762-fb468edd2d7c",
   "metadata": {
    "tags": []
   },
   "outputs": [
    {
     "name": "stdout",
     "output_type": "stream",
     "text": [
      "Length of tax_zip_df:  27760\n",
      "Length of mh_df:  14089\n",
      "Length of merged_df:  14003\n"
     ]
    },
    {
     "data": {
      "text/html": [
       "<div>\n",
       "<style scoped>\n",
       "    .dataframe tbody tr th:only-of-type {\n",
       "        vertical-align: middle;\n",
       "    }\n",
       "\n",
       "    .dataframe tbody tr th {\n",
       "        vertical-align: top;\n",
       "    }\n",
       "\n",
       "    .dataframe thead th {\n",
       "        text-align: right;\n",
       "    }\n",
       "</style>\n",
       "<table border=\"1\" class=\"dataframe\">\n",
       "  <thead>\n",
       "    <tr style=\"text-align: right;\">\n",
       "      <th></th>\n",
       "      <th>N1</th>\n",
       "      <th>ZIPCODE</th>\n",
       "      <th>MARS1</th>\n",
       "      <th>MARS2</th>\n",
       "      <th>MARS4</th>\n",
       "      <th>NUMDEP</th>\n",
       "      <th>A00100</th>\n",
       "      <th>N02650</th>\n",
       "      <th>A02650</th>\n",
       "      <th>A00200</th>\n",
       "      <th>...</th>\n",
       "      <th>N06500</th>\n",
       "      <th>A06500</th>\n",
       "      <th>A85300</th>\n",
       "      <th>MarketHealthIndex</th>\n",
       "      <th>SellForGain</th>\n",
       "      <th>ForeclosureRatio</th>\n",
       "      <th>NegativeEquity</th>\n",
       "      <th>Delinquency</th>\n",
       "      <th>DaysOnMarket</th>\n",
       "      <th>ZHVI</th>\n",
       "    </tr>\n",
       "  </thead>\n",
       "  <tbody>\n",
       "    <tr>\n",
       "      <th>0</th>\n",
       "      <td>5130.0</td>\n",
       "      <td>35004</td>\n",
       "      <td>2140.0</td>\n",
       "      <td>2120.0</td>\n",
       "      <td>780.0</td>\n",
       "      <td>3350.0</td>\n",
       "      <td>289966.0</td>\n",
       "      <td>5130.0</td>\n",
       "      <td>292671.0</td>\n",
       "      <td>236776.0</td>\n",
       "      <td>...</td>\n",
       "      <td>3870.0</td>\n",
       "      <td>27796.0</td>\n",
       "      <td>32.0</td>\n",
       "      <td>4.893179</td>\n",
       "      <td>NaN</td>\n",
       "      <td>NaN</td>\n",
       "      <td>0.092712</td>\n",
       "      <td>0.026738</td>\n",
       "      <td>76.0</td>\n",
       "      <td>147100.0</td>\n",
       "    </tr>\n",
       "    <tr>\n",
       "      <th>1</th>\n",
       "      <td>3170.0</td>\n",
       "      <td>35005</td>\n",
       "      <td>1350.0</td>\n",
       "      <td>870.0</td>\n",
       "      <td>900.0</td>\n",
       "      <td>2230.0</td>\n",
       "      <td>124916.0</td>\n",
       "      <td>3170.0</td>\n",
       "      <td>125810.0</td>\n",
       "      <td>102620.0</td>\n",
       "      <td>...</td>\n",
       "      <td>2010.0</td>\n",
       "      <td>9187.0</td>\n",
       "      <td>0.0</td>\n",
       "      <td>0.887927</td>\n",
       "      <td>40.00</td>\n",
       "      <td>2.9443</td>\n",
       "      <td>0.250780</td>\n",
       "      <td>0.082988</td>\n",
       "      <td>80.0</td>\n",
       "      <td>75000.0</td>\n",
       "    </tr>\n",
       "    <tr>\n",
       "      <th>2</th>\n",
       "      <td>1210.0</td>\n",
       "      <td>35006</td>\n",
       "      <td>440.0</td>\n",
       "      <td>580.0</td>\n",
       "      <td>170.0</td>\n",
       "      <td>820.0</td>\n",
       "      <td>59411.0</td>\n",
       "      <td>1210.0</td>\n",
       "      <td>59725.0</td>\n",
       "      <td>46012.0</td>\n",
       "      <td>...</td>\n",
       "      <td>870.0</td>\n",
       "      <td>5089.0</td>\n",
       "      <td>0.0</td>\n",
       "      <td>6.796082</td>\n",
       "      <td>NaN</td>\n",
       "      <td>NaN</td>\n",
       "      <td>0.221277</td>\n",
       "      <td>0.019231</td>\n",
       "      <td>84.0</td>\n",
       "      <td>78500.0</td>\n",
       "    </tr>\n",
       "    <tr>\n",
       "      <th>3</th>\n",
       "      <td>11930.0</td>\n",
       "      <td>35007</td>\n",
       "      <td>4720.0</td>\n",
       "      <td>5180.0</td>\n",
       "      <td>1790.0</td>\n",
       "      <td>8840.0</td>\n",
       "      <td>706211.0</td>\n",
       "      <td>11930.0</td>\n",
       "      <td>714402.0</td>\n",
       "      <td>555765.0</td>\n",
       "      <td>...</td>\n",
       "      <td>8520.0</td>\n",
       "      <td>72973.0</td>\n",
       "      <td>90.0</td>\n",
       "      <td>5.600114</td>\n",
       "      <td>84.62</td>\n",
       "      <td>0.6175</td>\n",
       "      <td>0.066375</td>\n",
       "      <td>0.037618</td>\n",
       "      <td>55.0</td>\n",
       "      <td>157700.0</td>\n",
       "    </tr>\n",
       "    <tr>\n",
       "      <th>4</th>\n",
       "      <td>7890.0</td>\n",
       "      <td>35010</td>\n",
       "      <td>3000.0</td>\n",
       "      <td>2710.0</td>\n",
       "      <td>2060.0</td>\n",
       "      <td>5850.0</td>\n",
       "      <td>387333.0</td>\n",
       "      <td>7890.0</td>\n",
       "      <td>391523.0</td>\n",
       "      <td>262452.0</td>\n",
       "      <td>...</td>\n",
       "      <td>4740.0</td>\n",
       "      <td>37697.0</td>\n",
       "      <td>688.0</td>\n",
       "      <td>6.150898</td>\n",
       "      <td>NaN</td>\n",
       "      <td>NaN</td>\n",
       "      <td>0.192933</td>\n",
       "      <td>0.017442</td>\n",
       "      <td>147.0</td>\n",
       "      <td>105300.0</td>\n",
       "    </tr>\n",
       "  </tbody>\n",
       "</table>\n",
       "<p>5 rows × 52 columns</p>\n",
       "</div>"
      ],
      "text/plain": [
       "        N1  ZIPCODE   MARS1   MARS2   MARS4  NUMDEP    A00100   N02650  \\\n",
       "0   5130.0    35004  2140.0  2120.0   780.0  3350.0  289966.0   5130.0   \n",
       "1   3170.0    35005  1350.0   870.0   900.0  2230.0  124916.0   3170.0   \n",
       "2   1210.0    35006   440.0   580.0   170.0   820.0   59411.0   1210.0   \n",
       "3  11930.0    35007  4720.0  5180.0  1790.0  8840.0  706211.0  11930.0   \n",
       "4   7890.0    35010  3000.0  2710.0  2060.0  5850.0  387333.0   7890.0   \n",
       "\n",
       "     A02650    A00200  ...  N06500   A06500  A85300  MarketHealthIndex  \\\n",
       "0  292671.0  236776.0  ...  3870.0  27796.0    32.0           4.893179   \n",
       "1  125810.0  102620.0  ...  2010.0   9187.0     0.0           0.887927   \n",
       "2   59725.0   46012.0  ...   870.0   5089.0     0.0           6.796082   \n",
       "3  714402.0  555765.0  ...  8520.0  72973.0    90.0           5.600114   \n",
       "4  391523.0  262452.0  ...  4740.0  37697.0   688.0           6.150898   \n",
       "\n",
       "   SellForGain  ForeclosureRatio  NegativeEquity  Delinquency  DaysOnMarket  \\\n",
       "0          NaN               NaN        0.092712     0.026738          76.0   \n",
       "1        40.00            2.9443        0.250780     0.082988          80.0   \n",
       "2          NaN               NaN        0.221277     0.019231          84.0   \n",
       "3        84.62            0.6175        0.066375     0.037618          55.0   \n",
       "4          NaN               NaN        0.192933     0.017442         147.0   \n",
       "\n",
       "       ZHVI  \n",
       "0  147100.0  \n",
       "1   75000.0  \n",
       "2   78500.0  \n",
       "3  157700.0  \n",
       "4  105300.0  \n",
       "\n",
       "[5 rows x 52 columns]"
      ]
     },
     "metadata": {},
     "output_type": "display_data"
    }
   ],
   "source": [
    "# Columns used for both data sets\n",
    "market_health_cols = ['RegionName','MarketHealthIndex','SellForGain','ForeclosureRatio','NegativeEquity','Delinquency',\n",
    "                      'DaysOnMarket','ZHVI']\n",
    "\n",
    "zip_tax_cols = ['N1','ZIPCODE','MARS1','MARS2','MARS4','NUMDEP','A00100','N02650', 'A02650','A00200','A00300', 'A00900',\n",
    "                'A01000','A01700','SCHF','A02300','A02500','N26270','N03220','A03300','N03150','N03210','N03230',\n",
    "                'A17000','A18425','A18500','A19300','N19570','A19700','A20950','N04800','A04800','A07300','N07180',\n",
    "                'A07180','N07220','A07220','N09400','A09400','A10600','N11070','A11070','N06500','A06500','A85300']\n",
    "\n",
    "# filtered and merged together raw data sets \n",
    "tax_zip_df = raw_tax_df.filter(zip_tax_cols)\n",
    "mh_df = market_health_df.filter(market_health_cols, axis=1)\n",
    "merged_df = pd.merge(tax_zip_df, mh_df, left_on=\"ZIPCODE\", right_on=\"RegionName\")\n",
    "grouped_df = merged_df.drop(columns=['RegionName'])\n",
    "\n",
    "# Print the length of the tax_zip_df and mh_df\n",
    "print(\"Length of tax_zip_df: \", len(tax_zip_df))\n",
    "print(\"Length of mh_df: \", len(mh_df))\n",
    "print(\"Length of merged_df: \", len(merged_df))\n",
    "\n",
    "# most simpliest data frame with zipcode as the key and all other columns as features\n",
    "display(grouped_df.head())"
   ]
  },
  {
   "attachments": {},
   "cell_type": "markdown",
   "id": "b6e38088",
   "metadata": {},
   "source": [
    "### Splitting Training and Holdout Data\n",
    "\n",
    "Only training data will be used for Exploratory Data Analysis"
   ]
  },
  {
   "cell_type": "code",
   "execution_count": 4,
   "id": "3346859d-f195-48e1-8418-2778ae9b7cfd",
   "metadata": {
    "tags": []
   },
   "outputs": [
    {
     "data": {
      "text/html": [
       "<div>\n",
       "<style scoped>\n",
       "    .dataframe tbody tr th:only-of-type {\n",
       "        vertical-align: middle;\n",
       "    }\n",
       "\n",
       "    .dataframe tbody tr th {\n",
       "        vertical-align: top;\n",
       "    }\n",
       "\n",
       "    .dataframe thead th {\n",
       "        text-align: right;\n",
       "    }\n",
       "</style>\n",
       "<table border=\"1\" class=\"dataframe\">\n",
       "  <thead>\n",
       "    <tr style=\"text-align: right;\">\n",
       "      <th></th>\n",
       "      <th>N1</th>\n",
       "      <th>ZIPCODE</th>\n",
       "      <th>MARS1</th>\n",
       "      <th>MARS2</th>\n",
       "      <th>MARS4</th>\n",
       "      <th>NUMDEP</th>\n",
       "      <th>A00100</th>\n",
       "      <th>N02650</th>\n",
       "      <th>A02650</th>\n",
       "      <th>A00200</th>\n",
       "      <th>...</th>\n",
       "      <th>N06500</th>\n",
       "      <th>A06500</th>\n",
       "      <th>A85300</th>\n",
       "      <th>MarketHealthIndex</th>\n",
       "      <th>SellForGain</th>\n",
       "      <th>ForeclosureRatio</th>\n",
       "      <th>NegativeEquity</th>\n",
       "      <th>Delinquency</th>\n",
       "      <th>DaysOnMarket</th>\n",
       "      <th>ZHVI</th>\n",
       "    </tr>\n",
       "  </thead>\n",
       "  <tbody>\n",
       "    <tr>\n",
       "      <th>9140</th>\n",
       "      <td>9940.0</td>\n",
       "      <td>13850</td>\n",
       "      <td>4710.0</td>\n",
       "      <td>4340.0</td>\n",
       "      <td>710.0</td>\n",
       "      <td>5100.0</td>\n",
       "      <td>806571.0</td>\n",
       "      <td>9940.0</td>\n",
       "      <td>818461.0</td>\n",
       "      <td>517408.0</td>\n",
       "      <td>...</td>\n",
       "      <td>7780.0</td>\n",
       "      <td>113416.0</td>\n",
       "      <td>916.0</td>\n",
       "      <td>2.586415</td>\n",
       "      <td>81.82</td>\n",
       "      <td>NaN</td>\n",
       "      <td>0.101289</td>\n",
       "      <td>0.066667</td>\n",
       "      <td>92.0</td>\n",
       "      <td>128500.0</td>\n",
       "    </tr>\n",
       "    <tr>\n",
       "      <th>5412</th>\n",
       "      <td>3550.0</td>\n",
       "      <td>20616</td>\n",
       "      <td>1690.0</td>\n",
       "      <td>920.0</td>\n",
       "      <td>800.0</td>\n",
       "      <td>2500.0</td>\n",
       "      <td>238866.0</td>\n",
       "      <td>3550.0</td>\n",
       "      <td>239927.0</td>\n",
       "      <td>202262.0</td>\n",
       "      <td>...</td>\n",
       "      <td>2740.0</td>\n",
       "      <td>23869.0</td>\n",
       "      <td>15.0</td>\n",
       "      <td>5.138051</td>\n",
       "      <td>100.00</td>\n",
       "      <td>NaN</td>\n",
       "      <td>0.244229</td>\n",
       "      <td>0.097561</td>\n",
       "      <td>93.5</td>\n",
       "      <td>263200.0</td>\n",
       "    </tr>\n",
       "    <tr>\n",
       "      <th>5885</th>\n",
       "      <td>3480.0</td>\n",
       "      <td>1566</td>\n",
       "      <td>1640.0</td>\n",
       "      <td>1540.0</td>\n",
       "      <td>240.0</td>\n",
       "      <td>1790.0</td>\n",
       "      <td>315416.0</td>\n",
       "      <td>3480.0</td>\n",
       "      <td>318920.0</td>\n",
       "      <td>233627.0</td>\n",
       "      <td>...</td>\n",
       "      <td>2880.0</td>\n",
       "      <td>46088.0</td>\n",
       "      <td>189.0</td>\n",
       "      <td>6.323373</td>\n",
       "      <td>100.00</td>\n",
       "      <td>NaN</td>\n",
       "      <td>0.085440</td>\n",
       "      <td>0.081633</td>\n",
       "      <td>76.0</td>\n",
       "      <td>274200.0</td>\n",
       "    </tr>\n",
       "    <tr>\n",
       "      <th>4476</th>\n",
       "      <td>13410.0</td>\n",
       "      <td>46815</td>\n",
       "      <td>6620.0</td>\n",
       "      <td>4850.0</td>\n",
       "      <td>1710.0</td>\n",
       "      <td>7980.0</td>\n",
       "      <td>659101.0</td>\n",
       "      <td>13410.0</td>\n",
       "      <td>666299.0</td>\n",
       "      <td>489028.0</td>\n",
       "      <td>...</td>\n",
       "      <td>9400.0</td>\n",
       "      <td>61711.0</td>\n",
       "      <td>161.0</td>\n",
       "      <td>2.110867</td>\n",
       "      <td>NaN</td>\n",
       "      <td>NaN</td>\n",
       "      <td>0.057726</td>\n",
       "      <td>0.047138</td>\n",
       "      <td>49.0</td>\n",
       "      <td>117400.0</td>\n",
       "    </tr>\n",
       "    <tr>\n",
       "      <th>12991</th>\n",
       "      <td>24430.0</td>\n",
       "      <td>23223</td>\n",
       "      <td>13650.0</td>\n",
       "      <td>3550.0</td>\n",
       "      <td>6570.0</td>\n",
       "      <td>14020.0</td>\n",
       "      <td>1010689.0</td>\n",
       "      <td>24430.0</td>\n",
       "      <td>1021980.0</td>\n",
       "      <td>844452.0</td>\n",
       "      <td>...</td>\n",
       "      <td>15710.0</td>\n",
       "      <td>99345.0</td>\n",
       "      <td>183.0</td>\n",
       "      <td>2.631840</td>\n",
       "      <td>76.47</td>\n",
       "      <td>6.3815</td>\n",
       "      <td>0.163589</td>\n",
       "      <td>0.034208</td>\n",
       "      <td>63.0</td>\n",
       "      <td>140900.0</td>\n",
       "    </tr>\n",
       "  </tbody>\n",
       "</table>\n",
       "<p>5 rows × 52 columns</p>\n",
       "</div>"
      ],
      "text/plain": [
       "            N1  ZIPCODE    MARS1   MARS2   MARS4   NUMDEP     A00100   N02650  \\\n",
       "9140    9940.0    13850   4710.0  4340.0   710.0   5100.0   806571.0   9940.0   \n",
       "5412    3550.0    20616   1690.0   920.0   800.0   2500.0   238866.0   3550.0   \n",
       "5885    3480.0     1566   1640.0  1540.0   240.0   1790.0   315416.0   3480.0   \n",
       "4476   13410.0    46815   6620.0  4850.0  1710.0   7980.0   659101.0  13410.0   \n",
       "12991  24430.0    23223  13650.0  3550.0  6570.0  14020.0  1010689.0  24430.0   \n",
       "\n",
       "          A02650    A00200  ...   N06500    A06500  A85300  MarketHealthIndex  \\\n",
       "9140    818461.0  517408.0  ...   7780.0  113416.0   916.0           2.586415   \n",
       "5412    239927.0  202262.0  ...   2740.0   23869.0    15.0           5.138051   \n",
       "5885    318920.0  233627.0  ...   2880.0   46088.0   189.0           6.323373   \n",
       "4476    666299.0  489028.0  ...   9400.0   61711.0   161.0           2.110867   \n",
       "12991  1021980.0  844452.0  ...  15710.0   99345.0   183.0           2.631840   \n",
       "\n",
       "       SellForGain  ForeclosureRatio  NegativeEquity  Delinquency  \\\n",
       "9140         81.82               NaN        0.101289     0.066667   \n",
       "5412        100.00               NaN        0.244229     0.097561   \n",
       "5885        100.00               NaN        0.085440     0.081633   \n",
       "4476           NaN               NaN        0.057726     0.047138   \n",
       "12991        76.47            6.3815        0.163589     0.034208   \n",
       "\n",
       "       DaysOnMarket      ZHVI  \n",
       "9140           92.0  128500.0  \n",
       "5412           93.5  263200.0  \n",
       "5885           76.0  274200.0  \n",
       "4476           49.0  117400.0  \n",
       "12991          63.0  140900.0  \n",
       "\n",
       "[5 rows x 52 columns]"
      ]
     },
     "metadata": {},
     "output_type": "display_data"
    }
   ],
   "source": [
    "# splitting data \n",
    "# df_eda is 80% of random data, df_holdout is 20% of the remaining data\n",
    "df_eda, df_holdout = train_test_split(grouped_df, test_size=0.20, random_state=22)\n",
    "display(df_eda.head())"
   ]
  },
  {
   "attachments": {},
   "cell_type": "markdown",
   "id": "05603b93",
   "metadata": {},
   "source": [
    "### Normalizing by Count"
   ]
  },
  {
   "cell_type": "code",
   "execution_count": 5,
   "id": "d2452326",
   "metadata": {},
   "outputs": [],
   "source": [
    "n1_url = 'Columns_Used.csv'\n",
    "Columns_Used = pd.read_csv(n1_url)\n",
    "Columns_Used[Columns_Used['Description'].str.contains(\"Number of\")]\n",
    "column_list = list(Columns_Used.Code)\n",
    "column_list = [x.strip() for x in column_list]\n",
    "\n",
    "for column in column_list:\n",
    "    if column != \"N1\" and column in list(df_eda.columns):\n",
    "        df_eda[column] = df_eda[column].div(df_eda[\"N1\"])\n",
    "        "
   ]
  },
  {
   "attachments": {},
   "cell_type": "markdown",
   "id": "5e528f54",
   "metadata": {},
   "source": [
    "### Imputation of Missing Values"
   ]
  },
  {
   "cell_type": "code",
   "execution_count": 6,
   "id": "e9e85643",
   "metadata": {
    "tags": []
   },
   "outputs": [
    {
     "data": {
      "text/html": [
       "<div>\n",
       "<style scoped>\n",
       "    .dataframe tbody tr th:only-of-type {\n",
       "        vertical-align: middle;\n",
       "    }\n",
       "\n",
       "    .dataframe tbody tr th {\n",
       "        vertical-align: top;\n",
       "    }\n",
       "\n",
       "    .dataframe thead th {\n",
       "        text-align: right;\n",
       "    }\n",
       "</style>\n",
       "<table border=\"1\" class=\"dataframe\">\n",
       "  <thead>\n",
       "    <tr style=\"text-align: right;\">\n",
       "      <th></th>\n",
       "      <th>Feature</th>\n",
       "      <th>Number Missing</th>\n",
       "      <th>Percent Missing</th>\n",
       "    </tr>\n",
       "  </thead>\n",
       "  <tbody>\n",
       "    <tr>\n",
       "      <th>0</th>\n",
       "      <td>SellForGain</td>\n",
       "      <td>3645</td>\n",
       "      <td>32.9</td>\n",
       "    </tr>\n",
       "    <tr>\n",
       "      <th>1</th>\n",
       "      <td>ForeclosureRatio</td>\n",
       "      <td>8581</td>\n",
       "      <td>77.4</td>\n",
       "    </tr>\n",
       "    <tr>\n",
       "      <th>2</th>\n",
       "      <td>NegativeEquity</td>\n",
       "      <td>295</td>\n",
       "      <td>2.7</td>\n",
       "    </tr>\n",
       "    <tr>\n",
       "      <th>3</th>\n",
       "      <td>Delinquency</td>\n",
       "      <td>295</td>\n",
       "      <td>2.7</td>\n",
       "    </tr>\n",
       "    <tr>\n",
       "      <th>4</th>\n",
       "      <td>DaysOnMarket</td>\n",
       "      <td>107</td>\n",
       "      <td>1.0</td>\n",
       "    </tr>\n",
       "  </tbody>\n",
       "</table>\n",
       "</div>"
      ],
      "text/plain": [
       "            Feature  Number Missing  Percent Missing\n",
       "0       SellForGain            3645             32.9\n",
       "1  ForeclosureRatio            8581             77.4\n",
       "2    NegativeEquity             295              2.7\n",
       "3       Delinquency             295              2.7\n",
       "4      DaysOnMarket             107              1.0"
      ]
     },
     "metadata": {},
     "output_type": "display_data"
    },
    {
     "name": "stdout",
     "output_type": "stream",
     "text": [
      "\n",
      "Total missing values after imputation:\n",
      "0\n"
     ]
    }
   ],
   "source": [
    "# First remove rows missing the target variable of ZHVI\n",
    "df_eda = df_eda[df_eda['ZHVI'].notna()]\n",
    "\n",
    "# Split the data into input and target\n",
    "train_X = df_eda.drop(columns=['ZHVI'])\n",
    "train_y = df_eda['ZHVI']\n",
    "\n",
    "# Calculating the missing values\n",
    "missing_values = train_X.isnull().sum()\n",
    "missing_values = missing_values[missing_values > 0]\n",
    "\n",
    "# Creating datafram to display missing data\n",
    "cols = ['Feature', 'Number Missing', 'Percent Missing']\n",
    "missing_df = pd.DataFrame(columns=cols)\n",
    "for col in missing_values.index:\n",
    "    missing_df.loc[len(missing_df.index)] = {'Feature': col,\n",
    "                                    'Number Missing': missing_values[col],\n",
    "                                    'Percent Missing': missing_values[col] / len(df_eda) * 100}\n",
    "\n",
    "pd.set_option('display.float_format', '{:.1f}'.format)\n",
    "display(missing_df)\n",
    "\n",
    "# Remove SellForGain, ForeclosureRatio columns\n",
    "#train_X = train_X.drop(columns=['SellForGain', 'ForeclosureRatio'])\n",
    "\n",
    "# Impute missing values using KNN\n",
    "imputer = KNNImputer(n_neighbors=5)\n",
    "imputed_values = imputer.fit_transform(train_X)\n",
    "\n",
    "# Convert the numpy array back into a dataframe\n",
    "train_X = pd.DataFrame(imputed_values, columns=train_X.columns)\n",
    "\n",
    "missing_values_after = train_X.isnull().sum()\n",
    "print('\\nTotal missing values after imputation:')\n",
    "print(len(missing_values_after[missing_values_after > 0]))"
   ]
  },
  {
   "attachments": {},
   "cell_type": "markdown",
   "id": "f17a6562",
   "metadata": {},
   "source": [
    "## Exploratory Data Analysis"
   ]
  },
  {
   "attachments": {},
   "cell_type": "markdown",
   "id": "474e428e",
   "metadata": {},
   "source": [
    "### Distribution of Key Features and Target Variable"
   ]
  },
  {
   "cell_type": "code",
   "execution_count": 7,
   "id": "b5955572-1114-483f-91ca-9a24fe3523d8",
   "metadata": {
    "tags": []
   },
   "outputs": [
    {
     "name": "stdout",
     "output_type": "stream",
     "text": [
      "Range of total tax income $20.35 - $1730.42\n",
      "Range of total Zillow's Housing Value Index $32700.00 - $6421400.00\n"
     ]
    },
    {
     "data": {
      "image/png": "[encoded data removed]",
      "text/plain": [
       "<Figure size 1400x400 with 3 Axes>"
      ]
     },
     "metadata": {},
     "output_type": "display_data"
    }
   ],
   "source": [
    "fig, axs = plt.subplots(1,3, figsize=(14,4))\n",
    "\n",
    "axs[0].ticklabel_format(axis='both')\n",
    "\n",
    "print(f\"Range of total tax income ${min(df_eda['A02650']):.2f} - ${max(df_eda['A02650']):.2f}\")\n",
    "# Create a histogram for 'income'\n",
    "axs[0].hist(df_eda['A02650'], bins=100, color='blue', alpha=0.7, rwidth=0.85)\n",
    "axs[0].grid(axis='y', alpha=0.9)\n",
    "axs[0].set_title('Average total tax incomes')\n",
    "axs[0].set_xlabel('Dollars (value * 1e^7)')\n",
    "axs[0].set_ylabel('Count')\n",
    "\n",
    "# Create a histogram for 'market_health_index'\n",
    "axs[1].hist(df_eda['MarketHealthIndex'], bins=20, color='green', alpha=0.7, rwidth=0.85)\n",
    "axs[1].set_title('Housing Market Health Index')\n",
    "axs[1].set_xlabel('Score (0-10)')\n",
    "axs[1].set_ylabel('Count')\n",
    "\n",
    "print(f\"Range of total Zillow's Housing Value Index ${min(df_eda['ZHVI']):.2f} - ${max(df_eda['ZHVI']):.2f}\")\n",
    "# Create a histogram for 'zillow_housing_value_index'\n",
    "axs[2].hist(df_eda['ZHVI'], bins=100, color='red', alpha=0.7)\n",
    "axs[2].set_title('Zillow Housing Value Index')\n",
    "axs[2].set_xlabel(\"Dollars (value * 1e^6)\")\n",
    "axs[2].set_ylabel(\"Count\")\n",
    "\n",
    "fig.suptitle('Key Features and Target Variable for Zipcodes', fontsize=20)\n",
    "\n",
    "plt.tight_layout()"
   ]
  },
  {
   "attachments": {},
   "cell_type": "markdown",
   "id": "df18c44c",
   "metadata": {},
   "source": [
    "### Viewing Boxplots"
   ]
  },
  {
   "cell_type": "code",
   "execution_count": 8,
   "id": "310c40e2",
   "metadata": {},
   "outputs": [
    {
     "data": {
      "image/png": "[encoded data removed]",
      "text/plain": [
       "<Figure size 800x300 with 3 Axes>"
      ]
     },
     "metadata": {},
     "output_type": "display_data"
    }
   ],
   "source": [
    "# Showing quartile ranges on total tax income\n",
    "fig, (ax1,ax2, ax3) = plt.subplots(1, 3, figsize=(8,3))\n",
    "income_mean = np.mean(df_eda['A02650'].values)\n",
    "ax1.boxplot(df_eda['A02650'], sym='.', patch_artist=True)\n",
    "# ax1.axhline(y = income_mean, color = 'r', linestyle = '-')\n",
    "ax1.grid(True)\n",
    "ax1.set_title(\"Total Tax Income\")\n",
    "ax1.set_xlabel(\"Total Tax income\")\n",
    "ax1.set_ylabel(\"Dollars (1.0 = 1 Million)\")\n",
    "\n",
    "# Plotting and labeling MarketHealthIndex boxplot graph \n",
    "ax2.boxplot(df_eda['MarketHealthIndex'], sym='.', patch_artist=True)\n",
    "ax2.grid(True)\n",
    "ax2.set_title(\"Market Health Index Ratings\")\n",
    "ax2.set_xlabel(\"Market Health Index Rating\")\n",
    "ax2.set_ylabel(\"Rating Value\")\n",
    "\n",
    "# Plotting and labeling Zillow Housing Value Index boxplot\n",
    "ax3.boxplot(df_eda['ZHVI'], sym='.', patch_artist=True)\n",
    "ax3.grid(True)\n",
    "ax3.set_title(\"Zillow Housing Value Index\", fontsize=\"11\")\n",
    "ax3.set_xlabel(\"Zillow Housing Value Index\")\n",
    "ax3.set_ylabel(\"Dollars (Hundred Thousands)\")\n",
    "\n",
    "plt.tight_layout()"
   ]
  },
  {
   "attachments": {},
   "cell_type": "markdown",
   "id": "30276978",
   "metadata": {},
   "source": [
    "### Data Loss from Dataset Merge"
   ]
  },
  {
   "cell_type": "code",
   "execution_count": 9,
   "id": "9055d1fe",
   "metadata": {
    "tags": []
   },
   "outputs": [
    {
     "data": {
      "application/vnd.plotly.v1+json": {
       "config": {
        "plotlyServerURL": "https://plot.ly"
       },
       "data": [
        {
         "coloraxis": "coloraxis",
         "geo": "geo",
         "hovertemplate": "<b>%{hovertext}</b><br><br>STATE=%{location}<br>Ratio=%{z}<extra></extra>",
         "hovertext": [
          "AK",
          "AL",
          "AR",
          "AZ",
          "CA",
          "CO",
          "CT",
          "DC",
          "DE",
          "FL",
          "GA",
          "HI",
          "IA",
          "ID",
          "IL",
          "IN",
          "KS",
          "KY",
          "LA",
          "MA",
          "MD",
          "ME",
          "MI",
          "MN",
          "MO",
          "MS",
          "MT",
          "NC",
          "ND",
          "NE",
          "NH",
          "NJ",
          "NM",
          "NV",
          "NY",
          "OH",
          "OK",
          "OR",
          "PA",
          "RI",
          "SC",
          "SD",
          "TN",
          "TX",
          "UT",
          "VA",
          "WA",
          "WI",
          "WV"
         ],
         "locationmode": "USA-states",
         "locations": [
          "AK",
          "AL",
          "AR",
          "AZ",
          "CA",
          "CO",
          "CT",
          "DC",
          "DE",
          "FL",
          "GA",
          "HI",
          "IA",
          "ID",
          "IL",
          "IN",
          "KS",
          "KY",
          "LA",
          "MA",
          "MD",
          "ME",
          "MI",
          "MN",
          "MO",
          "MS",
          "MT",
          "NC",
          "ND",
          "NE",
          "NH",
          "NJ",
          "NM",
          "NV",
          "NY",
          "OH",
          "OK",
          "OR",
          "PA",
          "RI",
          "SC",
          "SD",
          "TN",
          "TX",
          "UT",
          "VA",
          "WA",
          "WI",
          "WV"
         ],
         "name": "",
         "type": "choropleth",
         "z": [
          0.29449327406206105,
          0.33243212686365403,
          0.3247221684653488,
          0.4628453599938207,
          0.48005257985698996,
          0.46322416724269994,
          0.49308874526435154,
          0.4961078192169165,
          0.3982653361047328,
          0.4795218350869416,
          0.4154514510628186,
          0.4527522060226989,
          0.31270336791167225,
          0.4090173056034971,
          0.4494643381515954,
          0.4103118340925283,
          0.35111738539807685,
          0.32527086568911556,
          0.3545434421123621,
          0.48774867579908676,
          0.4918132057727048,
          0.30458922729576554,
          0.42197367791846213,
          0.38955304155993326,
          0.35157530652249575,
          0.24852097709873555,
          0.22092612943228448,
          0.4213458046451139,
          0.2733760600039182,
          0.2451950293987411,
          0.46376780519879646,
          0.49153517385301665,
          0.3387697040872025,
          0.4674554092886268,
          0.3820189131241302,
          0.45410500906117596,
          0.40494718595283524,
          0.451734763065372,
          0.45915468305071283,
          0.4936588578417537,
          0.4216604752478827,
          0.17492254419537087,
          0.46547304340574575,
          0.09557789400685708,
          0.38542839584868066,
          0.43672052009552775,
          0.47304724074336785,
          0.4108799790939413,
          0.23740845813815398
         ]
        }
       ],
       "layout": {
        "coloraxis": {
         "colorbar": {
          "title": {
           "text": "Ratio"
          }
         },
         "colorscale": [
          [
           0,
           "#440154"
          ],
          [
           0.1111111111111111,
           "#482878"
          ],
          [
           0.2222222222222222,
           "#3e4989"
          ],
          [
           0.3333333333333333,
           "#31688e"
          ],
          [
           0.4444444444444444,
           "#26828e"
          ],
          [
           0.5555555555555556,
           "#1f9e89"
          ],
          [
           0.6666666666666666,
           "#35b779"
          ],
          [
           0.7777777777777778,
           "#6ece58"
          ],
          [
           0.8888888888888888,
           "#b5de2b"
          ],
          [
           1,
           "#fde725"
          ]
         ]
        },
        "geo": {
         "center": {},
         "domain": {
          "x": [
           0,
           1
          ],
          "y": [
           0,
           1
          ]
         },
         "scope": "usa"
        },
        "legend": {
         "tracegroupgap": 0
        },
        "template": {
         "data": {
          "bar": [
           {
            "error_x": {
             "color": "#2a3f5f"
            },
            "error_y": {
             "color": "#2a3f5f"
            },
            "marker": {
             "line": {
              "color": "#E5ECF6",
              "width": 0.5
             },
             "pattern": {
              "fillmode": "overlay",
              "size": 10,
              "solidity": 0.2
             }
            },
            "type": "bar"
           }
          ],
          "barpolar": [
           {
            "marker": {
             "line": {
              "color": "#E5ECF6",
              "width": 0.5
             },
             "pattern": {
              "fillmode": "overlay",
              "size": 10,
              "solidity": 0.2
             }
            },
            "type": "barpolar"
           }
          ],
          "carpet": [
           {
            "aaxis": {
             "endlinecolor": "#2a3f5f",
             "gridcolor": "white",
             "linecolor": "white",
             "minorgridcolor": "white",
             "startlinecolor": "#2a3f5f"
            },
            "baxis": {
             "endlinecolor": "#2a3f5f",
             "gridcolor": "white",
             "linecolor": "white",
             "minorgridcolor": "white",
             "startlinecolor": "#2a3f5f"
            },
            "type": "carpet"
           }
          ],
          "choropleth": [
           {
            "colorbar": {
             "outlinewidth": 0,
             "ticks": ""
            },
            "type": "choropleth"
           }
          ],
          "contour": [
           {
            "colorbar": {
             "outlinewidth": 0,
             "ticks": ""
            },
            "colorscale": [
             [
              0,
              "#0d0887"
             ],
             [
              0.1111111111111111,
              "#46039f"
             ],
             [
              0.2222222222222222,
              "#7201a8"
             ],
             [
              0.3333333333333333,
              "#9c179e"
             ],
             [
              0.4444444444444444,
              "#bd3786"
             ],
             [
              0.5555555555555556,
              "#d8576b"
             ],
             [
              0.6666666666666666,
              "#ed7953"
             ],
             [
              0.7777777777777778,
              "#fb9f3a"
             ],
             [
              0.8888888888888888,
              "#fdca26"
             ],
             [
              1,
              "#f0f921"
             ]
            ],
            "type": "contour"
           }
          ],
          "contourcarpet": [
           {
            "colorbar": {
             "outlinewidth": 0,
             "ticks": ""
            },
            "type": "contourcarpet"
           }
          ],
          "heatmap": [
           {
            "colorbar": {
             "outlinewidth": 0,
             "ticks": ""
            },
            "colorscale": [
             [
              0,
              "#0d0887"
             ],
             [
              0.1111111111111111,
              "#46039f"
             ],
             [
              0.2222222222222222,
              "#7201a8"
             ],
             [
              0.3333333333333333,
              "#9c179e"
             ],
             [
              0.4444444444444444,
              "#bd3786"
             ],
             [
              0.5555555555555556,
              "#d8576b"
             ],
             [
              0.6666666666666666,
              "#ed7953"
             ],
             [
              0.7777777777777778,
              "#fb9f3a"
             ],
             [
              0.8888888888888888,
              "#fdca26"
             ],
             [
              1,
              "#f0f921"
             ]
            ],
            "type": "heatmap"
           }
          ],
          "heatmapgl": [
           {
            "colorbar": {
             "outlinewidth": 0,
             "ticks": ""
            },
            "colorscale": [
             [
              0,
              "#0d0887"
             ],
             [
              0.1111111111111111,
              "#46039f"
             ],
             [
              0.2222222222222222,
              "#7201a8"
             ],
             [
              0.3333333333333333,
              "#9c179e"
             ],
             [
              0.4444444444444444,
              "#bd3786"
             ],
             [
              0.5555555555555556,
              "#d8576b"
             ],
             [
              0.6666666666666666,
              "#ed7953"
             ],
             [
              0.7777777777777778,
              "#fb9f3a"
             ],
             [
              0.8888888888888888,
              "#fdca26"
             ],
             [
              1,
              "#f0f921"
             ]
            ],
            "type": "heatmapgl"
           }
          ],
          "histogram": [
           {
            "marker": {
             "pattern": {
              "fillmode": "overlay",
              "size": 10,
              "solidity": 0.2
             }
            },
            "type": "histogram"
           }
          ],
          "histogram2d": [
           {
            "colorbar": {
             "outlinewidth": 0,
             "ticks": ""
            },
            "colorscale": [
             [
              0,
              "#0d0887"
             ],
             [
              0.1111111111111111,
              "#46039f"
             ],
             [
              0.2222222222222222,
              "#7201a8"
             ],
             [
              0.3333333333333333,
              "#9c179e"
             ],
             [
              0.4444444444444444,
              "#bd3786"
             ],
             [
              0.5555555555555556,
              "#d8576b"
             ],
             [
              0.6666666666666666,
              "#ed7953"
             ],
             [
              0.7777777777777778,
              "#fb9f3a"
             ],
             [
              0.8888888888888888,
              "#fdca26"
             ],
             [
              1,
              "#f0f921"
             ]
            ],
            "type": "histogram2d"
           }
          ],
          "histogram2dcontour": [
           {
            "colorbar": {
             "outlinewidth": 0,
             "ticks": ""
            },
            "colorscale": [
             [
              0,
              "#0d0887"
             ],
             [
              0.1111111111111111,
              "#46039f"
             ],
             [
              0.2222222222222222,
              "#7201a8"
             ],
             [
              0.3333333333333333,
              "#9c179e"
             ],
             [
              0.4444444444444444,
              "#bd3786"
             ],
             [
              0.5555555555555556,
              "#d8576b"
             ],
             [
              0.6666666666666666,
              "#ed7953"
             ],
             [
              0.7777777777777778,
              "#fb9f3a"
             ],
             [
              0.8888888888888888,
              "#fdca26"
             ],
             [
              1,
              "#f0f921"
             ]
            ],
            "type": "histogram2dcontour"
           }
          ],
          "mesh3d": [
           {
            "colorbar": {
             "outlinewidth": 0,
             "ticks": ""
            },
            "type": "mesh3d"
           }
          ],
          "parcoords": [
           {
            "line": {
             "colorbar": {
              "outlinewidth": 0,
              "ticks": ""
             }
            },
            "type": "parcoords"
           }
          ],
          "pie": [
           {
            "automargin": true,
            "type": "pie"
           }
          ],
          "scatter": [
           {
            "fillpattern": {
             "fillmode": "overlay",
             "size": 10,
             "solidity": 0.2
            },
            "type": "scatter"
           }
          ],
          "scatter3d": [
           {
            "line": {
             "colorbar": {
              "outlinewidth": 0,
              "ticks": ""
             }
            },
            "marker": {
             "colorbar": {
              "outlinewidth": 0,
              "ticks": ""
             }
            },
            "type": "scatter3d"
           }
          ],
          "scattercarpet": [
           {
            "marker": {
             "colorbar": {
              "outlinewidth": 0,
              "ticks": ""
             }
            },
            "type": "scattercarpet"
           }
          ],
          "scattergeo": [
           {
            "marker": {
             "colorbar": {
              "outlinewidth": 0,
              "ticks": ""
             }
            },
            "type": "scattergeo"
           }
          ],
          "scattergl": [
           {
            "marker": {
             "colorbar": {
              "outlinewidth": 0,
              "ticks": ""
             }
            },
            "type": "scattergl"
           }
          ],
          "scattermapbox": [
           {
            "marker": {
             "colorbar": {
              "outlinewidth": 0,
              "ticks": ""
             }
            },
            "type": "scattermapbox"
           }
          ],
          "scatterpolar": [
           {
            "marker": {
             "colorbar": {
              "outlinewidth": 0,
              "ticks": ""
             }
            },
            "type": "scatterpolar"
           }
          ],
          "scatterpolargl": [
           {
            "marker": {
             "colorbar": {
              "outlinewidth": 0,
              "ticks": ""
             }
            },
            "type": "scatterpolargl"
           }
          ],
          "scatterternary": [
           {
            "marker": {
             "colorbar": {
              "outlinewidth": 0,
              "ticks": ""
             }
            },
            "type": "scatterternary"
           }
          ],
          "surface": [
           {
            "colorbar": {
             "outlinewidth": 0,
             "ticks": ""
            },
            "colorscale": [
             [
              0,
              "#0d0887"
             ],
             [
              0.1111111111111111,
              "#46039f"
             ],
             [
              0.2222222222222222,
              "#7201a8"
             ],
             [
              0.3333333333333333,
              "#9c179e"
             ],
             [
              0.4444444444444444,
              "#bd3786"
             ],
             [
              0.5555555555555556,
              "#d8576b"
             ],
             [
              0.6666666666666666,
              "#ed7953"
             ],
             [
              0.7777777777777778,
              "#fb9f3a"
             ],
             [
              0.8888888888888888,
              "#fdca26"
             ],
             [
              1,
              "#f0f921"
             ]
            ],
            "type": "surface"
           }
          ],
          "table": [
           {
            "cells": {
             "fill": {
              "color": "#EBF0F8"
             },
             "line": {
              "color": "white"
             }
            },
            "header": {
             "fill": {
              "color": "#C8D4E3"
             },
             "line": {
              "color": "white"
             }
            },
            "type": "table"
           }
          ]
         },
         "layout": {
          "annotationdefaults": {
           "arrowcolor": "#2a3f5f",
           "arrowhead": 0,
           "arrowwidth": 1
          },
          "autotypenumbers": "strict",
          "coloraxis": {
           "colorbar": {
            "outlinewidth": 0,
            "ticks": ""
           }
          },
          "colorscale": {
           "diverging": [
            [
             0,
             "#8e0152"
            ],
            [
             0.1,
             "#c51b7d"
            ],
            [
             0.2,
             "#de77ae"
            ],
            [
             0.3,
             "#f1b6da"
            ],
            [
             0.4,
             "#fde0ef"
            ],
            [
             0.5,
             "#f7f7f7"
            ],
            [
             0.6,
             "#e6f5d0"
            ],
            [
             0.7,
             "#b8e186"
            ],
            [
             0.8,
             "#7fbc41"
            ],
            [
             0.9,
             "#4d9221"
            ],
            [
             1,
             "#276419"
            ]
           ],
           "sequential": [
            [
             0,
             "#0d0887"
            ],
            [
             0.1111111111111111,
             "#46039f"
            ],
            [
             0.2222222222222222,
             "#7201a8"
            ],
            [
             0.3333333333333333,
             "#9c179e"
            ],
            [
             0.4444444444444444,
             "#bd3786"
            ],
            [
             0.5555555555555556,
             "#d8576b"
            ],
            [
             0.6666666666666666,
             "#ed7953"
            ],
            [
             0.7777777777777778,
             "#fb9f3a"
            ],
            [
             0.8888888888888888,
             "#fdca26"
            ],
            [
             1,
             "#f0f921"
            ]
           ],
           "sequentialminus": [
            [
             0,
             "#0d0887"
            ],
            [
             0.1111111111111111,
             "#46039f"
            ],
            [
             0.2222222222222222,
             "#7201a8"
            ],
            [
             0.3333333333333333,
             "#9c179e"
            ],
            [
             0.4444444444444444,
             "#bd3786"
            ],
            [
             0.5555555555555556,
             "#d8576b"
            ],
            [
             0.6666666666666666,
             "#ed7953"
            ],
            [
             0.7777777777777778,
             "#fb9f3a"
            ],
            [
             0.8888888888888888,
             "#fdca26"
            ],
            [
             1,
             "#f0f921"
            ]
           ]
          },
          "colorway": [
           "#636efa",
           "#EF553B",
           "#00cc96",
           "#ab63fa",
           "#FFA15A",
           "#19d3f3",
           "#FF6692",
           "#B6E880",
           "#FF97FF",
           "#FECB52"
          ],
          "font": {
           "color": "#2a3f5f"
          },
          "geo": {
           "bgcolor": "white",
           "lakecolor": "white",
           "landcolor": "#E5ECF6",
           "showlakes": true,
           "showland": true,
           "subunitcolor": "white"
          },
          "hoverlabel": {
           "align": "left"
          },
          "hovermode": "closest",
          "mapbox": {
           "style": "light"
          },
          "paper_bgcolor": "white",
          "plot_bgcolor": "#E5ECF6",
          "polar": {
           "angularaxis": {
            "gridcolor": "white",
            "linecolor": "white",
            "ticks": ""
           },
           "bgcolor": "#E5ECF6",
           "radialaxis": {
            "gridcolor": "white",
            "linecolor": "white",
            "ticks": ""
           }
          },
          "scene": {
           "xaxis": {
            "backgroundcolor": "#E5ECF6",
            "gridcolor": "white",
            "gridwidth": 2,
            "linecolor": "white",
            "showbackground": true,
            "ticks": "",
            "zerolinecolor": "white"
           },
           "yaxis": {
            "backgroundcolor": "#E5ECF6",
            "gridcolor": "white",
            "gridwidth": 2,
            "linecolor": "white",
            "showbackground": true,
            "ticks": "",
            "zerolinecolor": "white"
           },
           "zaxis": {
            "backgroundcolor": "#E5ECF6",
            "gridcolor": "white",
            "gridwidth": 2,
            "linecolor": "white",
            "showbackground": true,
            "ticks": "",
            "zerolinecolor": "white"
           }
          },
          "shapedefaults": {
           "line": {
            "color": "#2a3f5f"
           }
          },
          "ternary": {
           "aaxis": {
            "gridcolor": "white",
            "linecolor": "white",
            "ticks": ""
           },
           "baxis": {
            "gridcolor": "white",
            "linecolor": "white",
            "ticks": ""
           },
           "bgcolor": "#E5ECF6",
           "caxis": {
            "gridcolor": "white",
            "linecolor": "white",
            "ticks": ""
           }
          },
          "title": {
           "x": 0.05
          },
          "xaxis": {
           "automargin": true,
           "gridcolor": "white",
           "linecolor": "white",
           "ticks": "",
           "title": {
            "standoff": 15
           },
           "zerolinecolor": "white",
           "zerolinewidth": 2
          },
          "yaxis": {
           "automargin": true,
           "gridcolor": "white",
           "linecolor": "white",
           "ticks": "",
           "title": {
            "standoff": 15
           },
           "zerolinecolor": "white",
           "zerolinewidth": 2
          }
         }
        },
        "title": {
         "text": "Percentage Use of Zip Codes by State"
        }
       }
      }
     },
     "metadata": {},
     "output_type": "display_data"
    }
   ],
   "source": [
    "available_returns = raw_tax_df.groupby(['STATE']).sum().reset_index()\n",
    "market_health_zips = market_health_df['RegionName'].tolist()\n",
    "\n",
    "\n",
    "used_returns = raw_tax_df[raw_tax_df['ZIPCODE'].isin(market_health_zips)]\n",
    "\n",
    "used_returns = used_returns.groupby(['STATE']).sum().reset_index()\n",
    "\n",
    "\n",
    "merged_df = pd.merge(available_returns, used_returns, on='STATE', how='inner')\n",
    "\n",
    "merged_df['Ratio'] = merged_df['N1_y'] / merged_df['N1_x']\n",
    "\n",
    "import plotly.express as px\n",
    "\n",
    "# May need pip install --upgrade nbformat\n",
    "\n",
    "fig = px.choropleth(merged_df, locations=\"STATE\", color=\"Ratio\", hover_name=\"STATE\", \n",
    "                    title='Percentage Use of Zip Codes by State', locationmode='USA-states', scope='usa', color_continuous_scale=\"Viridis\")\n",
    "fig.show()\n"
   ]
  },
  {
   "attachments": {},
   "cell_type": "markdown",
   "id": "7b720d78",
   "metadata": {},
   "source": [
    "## Model Selection"
   ]
  },
  {
   "attachments": {},
   "cell_type": "markdown",
   "id": "464efe89",
   "metadata": {},
   "source": [
    "### Final Data Preparation\n",
    "\n",
    "Split holdout into validation and train sets and perform same data cleaning as training values.\n",
    "Normalize all inputs. "
   ]
  },
  {
   "cell_type": "code",
   "execution_count": 10,
   "id": "77c6dd3c",
   "metadata": {
    "tags": []
   },
   "outputs": [
    {
     "data": {
      "text/html": [
       "<div>\n",
       "<style scoped>\n",
       "    .dataframe tbody tr th:only-of-type {\n",
       "        vertical-align: middle;\n",
       "    }\n",
       "\n",
       "    .dataframe tbody tr th {\n",
       "        vertical-align: top;\n",
       "    }\n",
       "\n",
       "    .dataframe thead th {\n",
       "        text-align: right;\n",
       "    }\n",
       "</style>\n",
       "<table border=\"1\" class=\"dataframe\">\n",
       "  <thead>\n",
       "    <tr style=\"text-align: right;\">\n",
       "      <th></th>\n",
       "      <th>Feature</th>\n",
       "      <th>Number Missing</th>\n",
       "      <th>Percent Missing</th>\n",
       "    </tr>\n",
       "  </thead>\n",
       "  <tbody>\n",
       "  </tbody>\n",
       "</table>\n",
       "</div>"
      ],
      "text/plain": [
       "Empty DataFrame\n",
       "Columns: [Feature, Number Missing, Percent Missing]\n",
       "Index: []"
      ]
     },
     "metadata": {},
     "output_type": "display_data"
    },
    {
     "name": "stderr",
     "output_type": "stream",
     "text": [
      "/Users/kdevoe/Documents/CS/Masters/AAI500/FInal_Project/aai-500-final-group-4/env/lib/python3.10/site-packages/sklearn/base.py:439: UserWarning:\n",
      "\n",
      "X does not have valid feature names, but StandardScaler was fitted with feature names\n",
      "\n",
      "/Users/kdevoe/Documents/CS/Masters/AAI500/FInal_Project/aai-500-final-group-4/env/lib/python3.10/site-packages/sklearn/base.py:439: UserWarning:\n",
      "\n",
      "X does not have valid feature names, but StandardScaler was fitted with feature names\n",
      "\n"
     ]
    }
   ],
   "source": [
    "# Remove rows missing the target variable of ZHVI\n",
    "df_holdout = df_holdout[df_holdout['ZHVI'].notna()]\n",
    "\n",
    "# Split holdout data into validation and test set\n",
    "val, test = train_test_split(df_holdout, test_size=0.50, random_state=22)\n",
    "\n",
    "# Split the data into input and target\n",
    "val_X = val.drop(columns=['ZHVI'])\n",
    "val_y = val['ZHVI']\n",
    "\n",
    "test_X = test.drop(columns=['ZHVI'])\n",
    "test_y = test['ZHVI']\n",
    "\n",
    "val_imputed_values = imputer.fit_transform(val_X)\n",
    "test_imputed_values = imputer.fit_transform(test_X)\n",
    "\n",
    "# Convert the numpy array back into a dataframe\n",
    "val_X = pd.DataFrame(val_imputed_values, columns=val_X.columns)\n",
    "test_X = pd.DataFrame(test_imputed_values, columns=test_X.columns)\n",
    "\n",
    "# Divide by N1 value\n",
    "n1_url = 'Columns_Used.csv'\n",
    "Columns_Used = pd.read_csv(n1_url)\n",
    "Columns_Used[Columns_Used['Description'].str.contains(\"Number of\")]\n",
    "column_list = list(Columns_Used.Code)\n",
    "column_list = [x.strip() for x in column_list]\n",
    "\n",
    "for column in column_list:\n",
    "    if column != \"N1\" and column in list(val_X.columns):\n",
    "        val_X[column] = val_X[column].div(val_X[\"N1\"])\n",
    "        test_X[column] = test_X[column].div(test_X[\"N1\"])\n",
    "\n",
    "# Calculating the missing values\n",
    "missing_values = test_X.isnull().sum()\n",
    "missing_values = missing_values[missing_values > 0]\n",
    "\n",
    "# Creating datafram to display missing data\n",
    "cols = ['Feature', 'Number Missing', 'Percent Missing']\n",
    "missing_df = pd.DataFrame(columns=cols)\n",
    "for col in missing_values.index:\n",
    "    missing_df.loc[len(missing_df.index)] = {'Feature': col,\n",
    "                                    'Number Missing': missing_values[col],\n",
    "                                    'Percent Missing': missing_values[col] / len(df_eda) * 100}\n",
    "\n",
    "pd.set_option('display.float_format', '{:.1f}'.format)\n",
    "display(missing_df)\n",
    "        \n",
    "# Scale with MinMaxScaler\n",
    "min_max_scaler = MinMaxScaler()\n",
    "min_max_scaler.fit(train_X)\n",
    "train_X_min_max = min_max_scaler.transform(train_X)\n",
    "val_X_min_max = min_max_scaler.transform(val_X)\n",
    "test_X_min_max = min_max_scaler.transform(test_X)\n",
    "\n",
    "\n",
    "# Normalize the train_X data\n",
    "scaler = StandardScaler()\n",
    "scaler.fit(train_X)\n",
    "train_X = scaler.transform(train_X)\n",
    "\n",
    "# Normalize the val_X and test_X data\n",
    "val_X = scaler.transform(val_X.to_numpy())\n",
    "test_X = scaler.transform(test_X.to_numpy())\n"
   ]
  },
  {
   "attachments": {},
   "cell_type": "markdown",
   "id": "3fa126b0",
   "metadata": {},
   "source": [
    "Function to analzye results of a given regression model for price prediction."
   ]
  },
  {
   "cell_type": "code",
   "execution_count": 11,
   "id": "9aa01645",
   "metadata": {},
   "outputs": [],
   "source": [
    "def analyze_results(actual, predictions, name=\"\"):\n",
    "\n",
    "    print(actual)\n",
    "    interval_size = 100\n",
    "    last_interval = 1000\n",
    "    num_intervals = int(last_interval / interval_size)\n",
    "\n",
    "    results_df = pd.DataFrame(columns=['Interval', 'Count', 'RMSE', 'Max_Difference'])\n",
    "\n",
    "    # Process each interval for value\n",
    "    for i in range(0, num_intervals):\n",
    "\n",
    "        filtered_actual = []\n",
    "        filtered_predictions = []\n",
    "        \n",
    "        # Filter the actual and predictions to the current interval\n",
    "        lower_bound = interval_size * i * 1000\n",
    "\n",
    "        if i == num_intervals - 1:\n",
    "            upper_bound = np.inf\n",
    "        else:\n",
    "            upper_bound = interval_size * (i + 1) * 1000\n",
    "\n",
    "        for j in range(len(actual)):\n",
    "            if actual[j] >= lower_bound and actual[j] < upper_bound:\n",
    "                filtered_actual.append(actual[j])\n",
    "                filtered_predictions.append(predictions[j])\n",
    "\n",
    "        # Calculate the metrics for the interval\n",
    "        rmse = np.sqrt(mean_squared_error(filtered_actual, filtered_predictions))\n",
    "        max_diff = 0\n",
    "        for j in range(len(filtered_actual)):\n",
    "            max_diff = max(abs(filtered_actual[j] - filtered_predictions[j]), max_diff)\n",
    "\n",
    "        lower = f'${lower_bound / 1000}k'\n",
    "        if upper_bound == np.inf:\n",
    "            upper = 'Maximum'\n",
    "        else:\n",
    "            upper = f'${upper_bound / 1000}k'\n",
    "        # Store interval results\n",
    "        results_df.loc[len(results_df.index)] = {'Interval': f'{lower} to {upper}',\n",
    "                                                  'Count': len(filtered_actual),\n",
    "                                                  'RMSE': rmse, \n",
    "                                                  'Max_Difference': max_diff}\n",
    "\n",
    "    # Add the final row for all data\n",
    "    rmse = np.sqrt(mean_squared_error(actual, predictions))\n",
    "    max_diff = 0\n",
    "    for j in range(len(actual)):\n",
    "        max_diff = max(abs(actual[j] - predictions[j]), max_diff)\n",
    "    results_df.loc[len(results_df.index)] = {'Interval': 'All Data',\n",
    "                                                'Count': len(actual),\n",
    "                                                'RMSE': rmse,\n",
    "                                                'Max_Difference': max_diff}\n",
    "        \n",
    "    # Plot the results\n",
    "    plt.scatter(actual, predictions, color='blue')\n",
    "    plt.title(f'{name} Results')\n",
    "    plt.xlabel('Actual')\n",
    "    plt.ylabel('Predicted')\n",
    "\n",
    "    # Add a line for perfect correlation\n",
    "    min_value = min(min(actual), min(predictions))\n",
    "    max_value = max(max(actual), max(predictions))\n",
    "    plt.plot([min_value, max_value], [min_value, max_value], color='red')\n",
    "    # Add legend\n",
    "    plt.legend(['Model Results', 'Perfect Correlation'])\n",
    "\n",
    "    plt.show()\n",
    "\n",
    "    return results_df"
   ]
  },
  {
   "attachments": {},
   "cell_type": "markdown",
   "id": "0292c8c9",
   "metadata": {},
   "source": [
    "### Linear Regression"
   ]
  },
  {
   "cell_type": "code",
   "execution_count": 12,
   "id": "9bb5211e",
   "metadata": {
    "tags": []
   },
   "outputs": [
    {
     "name": "stdout",
     "output_type": "stream",
     "text": [
      "Validation results:\n",
      "[ 89700. 552800. 176300. ... 127300. 306400. 133100.]\n"
     ]
    },
    {
     "data": {
      "image/png": "[encoded data removed]",
      "text/plain": [
       "<Figure size 640x480 with 1 Axes>"
      ]
     },
     "metadata": {},
     "output_type": "display_data"
    },
    {
     "data": {
      "text/html": [
       "<div>\n",
       "<style scoped>\n",
       "    .dataframe tbody tr th:only-of-type {\n",
       "        vertical-align: middle;\n",
       "    }\n",
       "\n",
       "    .dataframe tbody tr th {\n",
       "        vertical-align: top;\n",
       "    }\n",
       "\n",
       "    .dataframe thead th {\n",
       "        text-align: right;\n",
       "    }\n",
       "</style>\n",
       "<table border=\"1\" class=\"dataframe\">\n",
       "  <thead>\n",
       "    <tr style=\"text-align: right;\">\n",
       "      <th></th>\n",
       "      <th>Interval</th>\n",
       "      <th>Count</th>\n",
       "      <th>RMSE</th>\n",
       "      <th>Max_Difference</th>\n",
       "    </tr>\n",
       "  </thead>\n",
       "  <tbody>\n",
       "    <tr>\n",
       "      <th>0</th>\n",
       "      <td>$0.0k to $100.0k</td>\n",
       "      <td>169</td>\n",
       "      <td>271913.5</td>\n",
       "      <td>412205.5</td>\n",
       "    </tr>\n",
       "    <tr>\n",
       "      <th>1</th>\n",
       "      <td>$100.0k to $200.0k</td>\n",
       "      <td>575</td>\n",
       "      <td>261567.2</td>\n",
       "      <td>553146.8</td>\n",
       "    </tr>\n",
       "    <tr>\n",
       "      <th>2</th>\n",
       "      <td>$200.0k to $300.0k</td>\n",
       "      <td>315</td>\n",
       "      <td>250781.2</td>\n",
       "      <td>486521.1</td>\n",
       "    </tr>\n",
       "    <tr>\n",
       "      <th>3</th>\n",
       "      <td>$300.0k to $400.0k</td>\n",
       "      <td>131</td>\n",
       "      <td>247165.8</td>\n",
       "      <td>409475.7</td>\n",
       "    </tr>\n",
       "    <tr>\n",
       "      <th>4</th>\n",
       "      <td>$400.0k to $500.0k</td>\n",
       "      <td>73</td>\n",
       "      <td>249220.0</td>\n",
       "      <td>436186.6</td>\n",
       "    </tr>\n",
       "    <tr>\n",
       "      <th>5</th>\n",
       "      <td>$500.0k to $600.0k</td>\n",
       "      <td>38</td>\n",
       "      <td>311030.6</td>\n",
       "      <td>632751.2</td>\n",
       "    </tr>\n",
       "    <tr>\n",
       "      <th>6</th>\n",
       "      <td>$600.0k to $700.0k</td>\n",
       "      <td>30</td>\n",
       "      <td>318626.7</td>\n",
       "      <td>792107.6</td>\n",
       "    </tr>\n",
       "    <tr>\n",
       "      <th>7</th>\n",
       "      <td>$700.0k to $800.0k</td>\n",
       "      <td>22</td>\n",
       "      <td>362389.2</td>\n",
       "      <td>609121.6</td>\n",
       "    </tr>\n",
       "    <tr>\n",
       "      <th>8</th>\n",
       "      <td>$800.0k to $900.0k</td>\n",
       "      <td>14</td>\n",
       "      <td>414237.8</td>\n",
       "      <td>659050.4</td>\n",
       "    </tr>\n",
       "    <tr>\n",
       "      <th>9</th>\n",
       "      <td>$900.0k to Maximum</td>\n",
       "      <td>25</td>\n",
       "      <td>532037.2</td>\n",
       "      <td>1025326.9</td>\n",
       "    </tr>\n",
       "    <tr>\n",
       "      <th>10</th>\n",
       "      <td>All Data</td>\n",
       "      <td>1392</td>\n",
       "      <td>272379.0</td>\n",
       "      <td>1025326.9</td>\n",
       "    </tr>\n",
       "  </tbody>\n",
       "</table>\n",
       "</div>"
      ],
      "text/plain": [
       "              Interval  Count     RMSE  Max_Difference\n",
       "0     $0.0k to $100.0k    169 271913.5        412205.5\n",
       "1   $100.0k to $200.0k    575 261567.2        553146.8\n",
       "2   $200.0k to $300.0k    315 250781.2        486521.1\n",
       "3   $300.0k to $400.0k    131 247165.8        409475.7\n",
       "4   $400.0k to $500.0k     73 249220.0        436186.6\n",
       "5   $500.0k to $600.0k     38 311030.6        632751.2\n",
       "6   $600.0k to $700.0k     30 318626.7        792107.6\n",
       "7   $700.0k to $800.0k     22 362389.2        609121.6\n",
       "8   $800.0k to $900.0k     14 414237.8        659050.4\n",
       "9   $900.0k to Maximum     25 532037.2       1025326.9\n",
       "10            All Data   1392 272379.0       1025326.9"
      ]
     },
     "metadata": {},
     "output_type": "display_data"
    }
   ],
   "source": [
    "# Running linear regression with a constant on test set\n",
    "model = sm.OLS(train_y.values, train_X)\n",
    "results = model.fit()\n",
    "\n",
    "# Using model to predict on our validation set and to compare predict values\n",
    "predict_val = results.predict(val_X)\n",
    "\n",
    "print('Validation results:')\n",
    "display(analyze_results(val_y.values, predict_val, \"Linear Regression\"))"
   ]
  },
  {
   "attachments": {},
   "cell_type": "markdown",
   "id": "b915d622-f714-4709-a09d-373e5a62c200",
   "metadata": {},
   "source": [
    "## Generalized Linear Models"
   ]
  },
  {
   "cell_type": "code",
   "execution_count": 13,
   "id": "4f2796d1-a70e-46cc-a922-567a4c28b0bf",
   "metadata": {
    "tags": []
   },
   "outputs": [
    {
     "name": "stdout",
     "output_type": "stream",
     "text": [
      "[ 89700. 552800. 176300. ... 127300. 306400. 133100.]\n"
     ]
    },
    {
     "data": {
      "image/png": "[encoded data removed]",
      "text/plain": [
       "<Figure size 640x480 with 1 Axes>"
      ]
     },
     "metadata": {},
     "output_type": "display_data"
    },
    {
     "data": {
      "text/html": [
       "<div>\n",
       "<style scoped>\n",
       "    .dataframe tbody tr th:only-of-type {\n",
       "        vertical-align: middle;\n",
       "    }\n",
       "\n",
       "    .dataframe tbody tr th {\n",
       "        vertical-align: top;\n",
       "    }\n",
       "\n",
       "    .dataframe thead th {\n",
       "        text-align: right;\n",
       "    }\n",
       "</style>\n",
       "<table border=\"1\" class=\"dataframe\">\n",
       "  <thead>\n",
       "    <tr style=\"text-align: right;\">\n",
       "      <th></th>\n",
       "      <th>Interval</th>\n",
       "      <th>Count</th>\n",
       "      <th>RMSE</th>\n",
       "      <th>Max_Difference</th>\n",
       "    </tr>\n",
       "  </thead>\n",
       "  <tbody>\n",
       "    <tr>\n",
       "      <th>0</th>\n",
       "      <td>$0.0k to $100.0k</td>\n",
       "      <td>169</td>\n",
       "      <td>54761.1</td>\n",
       "      <td>157885.7</td>\n",
       "    </tr>\n",
       "    <tr>\n",
       "      <th>1</th>\n",
       "      <td>$100.0k to $200.0k</td>\n",
       "      <td>575</td>\n",
       "      <td>53979.2</td>\n",
       "      <td>289414.0</td>\n",
       "    </tr>\n",
       "    <tr>\n",
       "      <th>2</th>\n",
       "      <td>$200.0k to $300.0k</td>\n",
       "      <td>315</td>\n",
       "      <td>67431.4</td>\n",
       "      <td>239589.4</td>\n",
       "    </tr>\n",
       "    <tr>\n",
       "      <th>3</th>\n",
       "      <td>$300.0k to $400.0k</td>\n",
       "      <td>131</td>\n",
       "      <td>80433.1</td>\n",
       "      <td>302077.6</td>\n",
       "    </tr>\n",
       "    <tr>\n",
       "      <th>4</th>\n",
       "      <td>$400.0k to $500.0k</td>\n",
       "      <td>73</td>\n",
       "      <td>108900.2</td>\n",
       "      <td>419389.7</td>\n",
       "    </tr>\n",
       "    <tr>\n",
       "      <th>5</th>\n",
       "      <td>$500.0k to $600.0k</td>\n",
       "      <td>38</td>\n",
       "      <td>134325.1</td>\n",
       "      <td>369244.4</td>\n",
       "    </tr>\n",
       "    <tr>\n",
       "      <th>6</th>\n",
       "      <td>$600.0k to $700.0k</td>\n",
       "      <td>30</td>\n",
       "      <td>140095.5</td>\n",
       "      <td>531644.1</td>\n",
       "    </tr>\n",
       "    <tr>\n",
       "      <th>7</th>\n",
       "      <td>$700.0k to $800.0k</td>\n",
       "      <td>22</td>\n",
       "      <td>140717.5</td>\n",
       "      <td>348224.7</td>\n",
       "    </tr>\n",
       "    <tr>\n",
       "      <th>8</th>\n",
       "      <td>$800.0k to $900.0k</td>\n",
       "      <td>14</td>\n",
       "      <td>223111.5</td>\n",
       "      <td>400643.2</td>\n",
       "    </tr>\n",
       "    <tr>\n",
       "      <th>9</th>\n",
       "      <td>$900.0k to Maximum</td>\n",
       "      <td>25</td>\n",
       "      <td>352097.7</td>\n",
       "      <td>763736.8</td>\n",
       "    </tr>\n",
       "    <tr>\n",
       "      <th>10</th>\n",
       "      <td>All Data</td>\n",
       "      <td>1392</td>\n",
       "      <td>88221.7</td>\n",
       "      <td>763736.8</td>\n",
       "    </tr>\n",
       "  </tbody>\n",
       "</table>\n",
       "</div>"
      ],
      "text/plain": [
       "              Interval  Count     RMSE  Max_Difference\n",
       "0     $0.0k to $100.0k    169  54761.1        157885.7\n",
       "1   $100.0k to $200.0k    575  53979.2        289414.0\n",
       "2   $200.0k to $300.0k    315  67431.4        239589.4\n",
       "3   $300.0k to $400.0k    131  80433.1        302077.6\n",
       "4   $400.0k to $500.0k     73 108900.2        419389.7\n",
       "5   $500.0k to $600.0k     38 134325.1        369244.4\n",
       "6   $600.0k to $700.0k     30 140095.5        531644.1\n",
       "7   $700.0k to $800.0k     22 140717.5        348224.7\n",
       "8   $800.0k to $900.0k     14 223111.5        400643.2\n",
       "9   $900.0k to Maximum     25 352097.7        763736.8\n",
       "10            All Data   1392  88221.7        763736.8"
      ]
     },
     "metadata": {},
     "output_type": "display_data"
    },
    {
     "name": "stderr",
     "output_type": "stream",
     "text": [
      "/Users/kdevoe/Documents/CS/Masters/AAI500/FInal_Project/aai-500-final-group-4/env/lib/python3.10/site-packages/statsmodels/genmod/families/links.py:13: FutureWarning:\n",
      "\n",
      "The identity link alias is deprecated. Use Identity instead. The identity link alias will be removed after the 0.15.0 release.\n",
      "\n",
      "/Users/kdevoe/Documents/CS/Masters/AAI500/FInal_Project/aai-500-final-group-4/env/lib/python3.10/site-packages/statsmodels/genmod/generalized_linear_model.py:307: DomainWarning:\n",
      "\n",
      "The identity link function does not respect the domain of the Gamma family.\n",
      "\n"
     ]
    },
    {
     "name": "stdout",
     "output_type": "stream",
     "text": [
      "[ 89700. 552800. 176300. ... 127300. 306400. 133100.]\n"
     ]
    },
    {
     "data": {
      "image/png": "[encoded data removed]",
      "text/plain": [
       "<Figure size 640x480 with 1 Axes>"
      ]
     },
     "metadata": {},
     "output_type": "display_data"
    },
    {
     "data": {
      "text/html": [
       "<div>\n",
       "<style scoped>\n",
       "    .dataframe tbody tr th:only-of-type {\n",
       "        vertical-align: middle;\n",
       "    }\n",
       "\n",
       "    .dataframe tbody tr th {\n",
       "        vertical-align: top;\n",
       "    }\n",
       "\n",
       "    .dataframe thead th {\n",
       "        text-align: right;\n",
       "    }\n",
       "</style>\n",
       "<table border=\"1\" class=\"dataframe\">\n",
       "  <thead>\n",
       "    <tr style=\"text-align: right;\">\n",
       "      <th></th>\n",
       "      <th>Interval</th>\n",
       "      <th>Count</th>\n",
       "      <th>RMSE</th>\n",
       "      <th>Max_Difference</th>\n",
       "    </tr>\n",
       "  </thead>\n",
       "  <tbody>\n",
       "    <tr>\n",
       "      <th>0</th>\n",
       "      <td>$0.0k to $100.0k</td>\n",
       "      <td>169</td>\n",
       "      <td>30192.7</td>\n",
       "      <td>109049.2</td>\n",
       "    </tr>\n",
       "    <tr>\n",
       "      <th>1</th>\n",
       "      <td>$100.0k to $200.0k</td>\n",
       "      <td>575</td>\n",
       "      <td>33874.8</td>\n",
       "      <td>143844.9</td>\n",
       "    </tr>\n",
       "    <tr>\n",
       "      <th>2</th>\n",
       "      <td>$200.0k to $300.0k</td>\n",
       "      <td>315</td>\n",
       "      <td>50028.7</td>\n",
       "      <td>242136.8</td>\n",
       "    </tr>\n",
       "    <tr>\n",
       "      <th>3</th>\n",
       "      <td>$300.0k to $400.0k</td>\n",
       "      <td>131</td>\n",
       "      <td>93307.8</td>\n",
       "      <td>406866.1</td>\n",
       "    </tr>\n",
       "    <tr>\n",
       "      <th>4</th>\n",
       "      <td>$400.0k to $500.0k</td>\n",
       "      <td>73</td>\n",
       "      <td>105710.6</td>\n",
       "      <td>349132.3</td>\n",
       "    </tr>\n",
       "    <tr>\n",
       "      <th>5</th>\n",
       "      <td>$500.0k to $600.0k</td>\n",
       "      <td>38</td>\n",
       "      <td>150158.6</td>\n",
       "      <td>385822.1</td>\n",
       "    </tr>\n",
       "    <tr>\n",
       "      <th>6</th>\n",
       "      <td>$600.0k to $700.0k</td>\n",
       "      <td>30</td>\n",
       "      <td>144080.8</td>\n",
       "      <td>302136.0</td>\n",
       "    </tr>\n",
       "    <tr>\n",
       "      <th>7</th>\n",
       "      <td>$700.0k to $800.0k</td>\n",
       "      <td>22</td>\n",
       "      <td>197070.5</td>\n",
       "      <td>352957.2</td>\n",
       "    </tr>\n",
       "    <tr>\n",
       "      <th>8</th>\n",
       "      <td>$800.0k to $900.0k</td>\n",
       "      <td>14</td>\n",
       "      <td>278715.3</td>\n",
       "      <td>477259.7</td>\n",
       "    </tr>\n",
       "    <tr>\n",
       "      <th>9</th>\n",
       "      <td>$900.0k to Maximum</td>\n",
       "      <td>25</td>\n",
       "      <td>493915.6</td>\n",
       "      <td>983295.3</td>\n",
       "    </tr>\n",
       "    <tr>\n",
       "      <th>10</th>\n",
       "      <td>All Data</td>\n",
       "      <td>1392</td>\n",
       "      <td>96931.8</td>\n",
       "      <td>983295.3</td>\n",
       "    </tr>\n",
       "  </tbody>\n",
       "</table>\n",
       "</div>"
      ],
      "text/plain": [
       "              Interval  Count     RMSE  Max_Difference\n",
       "0     $0.0k to $100.0k    169  30192.7        109049.2\n",
       "1   $100.0k to $200.0k    575  33874.8        143844.9\n",
       "2   $200.0k to $300.0k    315  50028.7        242136.8\n",
       "3   $300.0k to $400.0k    131  93307.8        406866.1\n",
       "4   $400.0k to $500.0k     73 105710.6        349132.3\n",
       "5   $500.0k to $600.0k     38 150158.6        385822.1\n",
       "6   $600.0k to $700.0k     30 144080.8        302136.0\n",
       "7   $700.0k to $800.0k     22 197070.5        352957.2\n",
       "8   $800.0k to $900.0k     14 278715.3        477259.7\n",
       "9   $900.0k to Maximum     25 493915.6        983295.3\n",
       "10            All Data   1392  96931.8        983295.3"
      ]
     },
     "metadata": {},
     "output_type": "display_data"
    }
   ],
   "source": [
    "# Instantiate a Gaussian family model with the default link function.\n",
    "# Testing test set\n",
    "glm_gaus = sm.GLM(train_y.values, train_X_min_max, family=sm.families.Gaussian())\n",
    "res_gaus = glm_gaus.fit()\n",
    "predict_glm_train = res_gaus.predict()\n",
    "MSE = mean_squared_error(train_y, predict_glm_train)\n",
    "sMSE_gaus_train = np.sqrt(MSE)\n",
    "\n",
    "\n",
    "# Testing on Validation set\n",
    "predict_glm_val = res_gaus.predict(val_X_min_max)\n",
    "MSE = mean_squared_error(val_y, predict_glm_val)\n",
    "sMSE_gaus_val = np.sqrt(MSE)\n",
    "\n",
    "display(analyze_results(val_y.values, predict_glm_val, \"GLM Gaussian\"))\n",
    "\n",
    "# Instantiate a gamma family model with the default link function.\n",
    "# Test set\n",
    "glm_gamma = sm.GLM(train_y.values, train_X_min_max , family=sm.families.Gamma(link=sm.genmod.families.links.identity()))\n",
    "res_gamma = glm_gamma.fit()\n",
    "predict_glm_gamma_train = res_gamma.predict()\n",
    "MSE = mean_squared_error(train_y, predict_glm_gamma_train)\n",
    "sMSE_gamma_train = np.sqrt(MSE)\n",
    "\n",
    "# For validation set\n",
    "predict_glm_gamma_val = res_gamma.predict(val_X_min_max)\n",
    "MSE = mean_squared_error(val_y, predict_glm_gamma_val)\n",
    "sMSE_gamma_val = np.sqrt(MSE)\n",
    "\n",
    "display(analyze_results(val_y.values, predict_glm_gamma_val, \"GLM Gamma\"))"
   ]
  },
  {
   "attachments": {},
   "cell_type": "markdown",
   "id": "e7336b9f",
   "metadata": {},
   "source": [
    "### XGBoost Evaluation"
   ]
  },
  {
   "cell_type": "code",
   "execution_count": 14,
   "id": "5712435b",
   "metadata": {},
   "outputs": [
    {
     "name": "stdout",
     "output_type": "stream",
     "text": [
      "Val y  [ 89700. 552800. 176300. ... 127300. 306400. 133100.]\n",
      "Predicted  [ 84024.26 588563.2  164197.73 ... 163721.89 297872.88 138215.77]\n",
      "[ 89700. 552800. 176300. ... 127300. 306400. 133100.]\n"
     ]
    },
    {
     "data": {
      "image/png": "[encoded data removed]",
      "text/plain": [
       "<Figure size 640x480 with 1 Axes>"
      ]
     },
     "metadata": {},
     "output_type": "display_data"
    },
    {
     "data": {
      "text/html": [
       "<div>\n",
       "<style scoped>\n",
       "    .dataframe tbody tr th:only-of-type {\n",
       "        vertical-align: middle;\n",
       "    }\n",
       "\n",
       "    .dataframe tbody tr th {\n",
       "        vertical-align: top;\n",
       "    }\n",
       "\n",
       "    .dataframe thead th {\n",
       "        text-align: right;\n",
       "    }\n",
       "</style>\n",
       "<table border=\"1\" class=\"dataframe\">\n",
       "  <thead>\n",
       "    <tr style=\"text-align: right;\">\n",
       "      <th></th>\n",
       "      <th>Interval</th>\n",
       "      <th>Count</th>\n",
       "      <th>RMSE</th>\n",
       "      <th>Max_Difference</th>\n",
       "    </tr>\n",
       "  </thead>\n",
       "  <tbody>\n",
       "    <tr>\n",
       "      <th>0</th>\n",
       "      <td>$0.0k to $100.0k</td>\n",
       "      <td>169</td>\n",
       "      <td>21462.3</td>\n",
       "      <td>106746.7</td>\n",
       "    </tr>\n",
       "    <tr>\n",
       "      <th>1</th>\n",
       "      <td>$100.0k to $200.0k</td>\n",
       "      <td>575</td>\n",
       "      <td>24365.9</td>\n",
       "      <td>127943.8</td>\n",
       "    </tr>\n",
       "    <tr>\n",
       "      <th>2</th>\n",
       "      <td>$200.0k to $300.0k</td>\n",
       "      <td>315</td>\n",
       "      <td>42257.2</td>\n",
       "      <td>365805.9</td>\n",
       "    </tr>\n",
       "    <tr>\n",
       "      <th>3</th>\n",
       "      <td>$300.0k to $400.0k</td>\n",
       "      <td>131</td>\n",
       "      <td>54280.0</td>\n",
       "      <td>160963.2</td>\n",
       "    </tr>\n",
       "    <tr>\n",
       "      <th>4</th>\n",
       "      <td>$400.0k to $500.0k</td>\n",
       "      <td>73</td>\n",
       "      <td>91172.6</td>\n",
       "      <td>321746.4</td>\n",
       "    </tr>\n",
       "    <tr>\n",
       "      <th>5</th>\n",
       "      <td>$500.0k to $600.0k</td>\n",
       "      <td>38</td>\n",
       "      <td>113522.7</td>\n",
       "      <td>380006.2</td>\n",
       "    </tr>\n",
       "    <tr>\n",
       "      <th>6</th>\n",
       "      <td>$600.0k to $700.0k</td>\n",
       "      <td>30</td>\n",
       "      <td>100812.1</td>\n",
       "      <td>327768.2</td>\n",
       "    </tr>\n",
       "    <tr>\n",
       "      <th>7</th>\n",
       "      <td>$700.0k to $800.0k</td>\n",
       "      <td>22</td>\n",
       "      <td>146740.0</td>\n",
       "      <td>295872.4</td>\n",
       "    </tr>\n",
       "    <tr>\n",
       "      <th>8</th>\n",
       "      <td>$800.0k to $900.0k</td>\n",
       "      <td>14</td>\n",
       "      <td>178449.7</td>\n",
       "      <td>370654.9</td>\n",
       "    </tr>\n",
       "    <tr>\n",
       "      <th>9</th>\n",
       "      <td>$900.0k to Maximum</td>\n",
       "      <td>25</td>\n",
       "      <td>259402.3</td>\n",
       "      <td>648382.9</td>\n",
       "    </tr>\n",
       "    <tr>\n",
       "      <th>10</th>\n",
       "      <td>All Data</td>\n",
       "      <td>1392</td>\n",
       "      <td>62115.9</td>\n",
       "      <td>648382.9</td>\n",
       "    </tr>\n",
       "  </tbody>\n",
       "</table>\n",
       "</div>"
      ],
      "text/plain": [
       "              Interval  Count     RMSE  Max_Difference\n",
       "0     $0.0k to $100.0k    169  21462.3        106746.7\n",
       "1   $100.0k to $200.0k    575  24365.9        127943.8\n",
       "2   $200.0k to $300.0k    315  42257.2        365805.9\n",
       "3   $300.0k to $400.0k    131  54280.0        160963.2\n",
       "4   $400.0k to $500.0k     73  91172.6        321746.4\n",
       "5   $500.0k to $600.0k     38 113522.7        380006.2\n",
       "6   $600.0k to $700.0k     30 100812.1        327768.2\n",
       "7   $700.0k to $800.0k     22 146740.0        295872.4\n",
       "8   $800.0k to $900.0k     14 178449.7        370654.9\n",
       "9   $900.0k to Maximum     25 259402.3        648382.9\n",
       "10            All Data   1392  62115.9        648382.9"
      ]
     },
     "metadata": {},
     "output_type": "display_data"
    }
   ],
   "source": [
    "from xgboost import XGBRegressor\n",
    "\n",
    "model = XGBRegressor()\n",
    "\n",
    "# fit the model on the whole dataset\n",
    "model.fit(train_X, train_y.values)\n",
    "\n",
    "# make a single prediction\n",
    "predict_xgboost_val = model.predict(val_X)\n",
    "\n",
    "print('Val y ', val_y.values)\n",
    "print('Predicted ', predict_xgboost_val)\n",
    "\n",
    "display(analyze_results(val_y.values, predict_xgboost_val, 'XGBoost'))"
   ]
  },
  {
   "attachments": {},
   "cell_type": "markdown",
   "id": "e4ee6cd2",
   "metadata": {},
   "source": [
    "### Sequential Neural Network Evaluation"
   ]
  },
  {
   "cell_type": "code",
   "execution_count": 15,
   "id": "f8256047",
   "metadata": {
    "tags": []
   },
   "outputs": [],
   "source": [
    "# Constants\n",
    "\n",
    "BATCH_SIZE = 1\n",
    "EPOCHS = 10\n",
    "LR = 0.01"
   ]
  },
  {
   "cell_type": "code",
   "execution_count": 16,
   "id": "d2158bf0",
   "metadata": {
    "tags": []
   },
   "outputs": [
    {
     "name": "stdout",
     "output_type": "stream",
     "text": [
      "Model(\n",
      "  (fc_1): Linear(in_features=51, out_features=26, bias=True)\n",
      "  (fc_2): Linear(in_features=26, out_features=1, bias=True)\n",
      ")\n"
     ]
    }
   ],
   "source": [
    "# Model definition\n",
    "class Model(nn.Module):\n",
    "    def __init__(self, input_size, output_size=1):\n",
    "        super().__init__()\n",
    "\n",
    "        self.hidden_dim = output_size + (input_size - output_size) // 2\n",
    "\n",
    "        self.fc_1 = nn.Linear(input_size, self.hidden_dim)\n",
    "        self.fc_2 = nn.Linear(self.hidden_dim, output_size)\n",
    "\n",
    "    def forward(self, x):\n",
    "\n",
    "        out = self.fc_1(x)\n",
    "        out = F.relu(out)\n",
    "        out = self.fc_2(out)\n",
    "\n",
    "        return out\n",
    "\n",
    "neural_model = Model(train_X.shape[1])\n",
    "print(neural_model)"
   ]
  },
  {
   "attachments": {},
   "cell_type": "markdown",
   "id": "a07ef837",
   "metadata": {},
   "source": [
    "Run on GPU if available"
   ]
  },
  {
   "cell_type": "code",
   "execution_count": 17,
   "id": "824de712",
   "metadata": {
    "tags": []
   },
   "outputs": [
    {
     "name": "stdout",
     "output_type": "stream",
     "text": [
      "GPU not available, CPU used\n"
     ]
    },
    {
     "data": {
      "text/plain": [
       "Model(\n",
       "  (fc_1): Linear(in_features=51, out_features=26, bias=True)\n",
       "  (fc_2): Linear(in_features=26, out_features=1, bias=True)\n",
       ")"
      ]
     },
     "execution_count": 17,
     "metadata": {},
     "output_type": "execute_result"
    }
   ],
   "source": [
    "is_cuda = torch.cuda.is_available()\n",
    "\n",
    "if is_cuda:\n",
    "    device = torch.device(\"cuda\")\n",
    "    print(\"GPU is available\")\n",
    "\n",
    "else:\n",
    "    device = torch.device(\"cpu\")\n",
    "    print(\"GPU not available, CPU used\")\n",
    "\n",
    "neural_model.to(device)"
   ]
  },
  {
   "cell_type": "code",
   "execution_count": 18,
   "id": "adfd5ee0",
   "metadata": {
    "tags": []
   },
   "outputs": [],
   "source": [
    "# Define the loss function and the optimizer\n",
    "criterion = nn.MSELoss()\n",
    "optimizer = torch.optim.Adam(neural_model.parameters(), lr=LR)\n"
   ]
  },
  {
   "cell_type": "code",
   "execution_count": 19,
   "id": "37565033",
   "metadata": {
    "tags": []
   },
   "outputs": [],
   "source": [
    "# Training loop\n",
    "\n",
    "def training_loop(model, train_X, train_y, val_X, val_y, num_epochs = 1, batch_size = 1):\n",
    "\n",
    "    num_batches = len(train_X) // batch_size\n",
    "\n",
    "    train_losses = []\n",
    "    val_losses = []\n",
    "    total_loss = 0\n",
    "\n",
    "    for epoch in tqdm(range(num_epochs)):  # loop over the dataset for each epoch\n",
    "        for batch in range(num_batches):\n",
    "            # get the inputs; data is a list of [inputs, labels]\n",
    "            start_index = batch * batch_size\n",
    "            end_index = start_index + batch_size\n",
    "            inputs = torch.from_numpy(train_X[start_index: end_index]).float().reshape(batch_size, -1)\n",
    "            inputs.requires_grad = True\n",
    "            labels = torch.from_numpy(np.asarray(train_y[start_index: end_index])).float().reshape(batch_size, -1)\n",
    "            labels.requires_grad = True\n",
    "\n",
    "            # zero the parameter gradients\n",
    "            optimizer.zero_grad()\n",
    "\n",
    "            # forward + backward + optimize\n",
    "            outputs = model(inputs)\n",
    "            loss = torch.sqrt(criterion(outputs, labels))\n",
    "            loss.backward()\n",
    "            optimizer.step()\n",
    "\n",
    "            total_loss += np.mean(loss.item())\n",
    "\n",
    "        # Get the validation losses\n",
    "        val_outputs = model(torch.from_numpy(val_X).float().reshape(len(val_X), -1))\n",
    "        val_loss = torch.sqrt(criterion(val_outputs, torch.from_numpy(np.asarray(val_y)).float().reshape(len(val_y), -1)))\n",
    "\n",
    "        average_loss = total_loss / num_batches\n",
    "        train_losses.append(average_loss)\n",
    "        val_losses.append(val_loss.detach().numpy())\n",
    "        total_loss = 0  # Reset the total loss for the next epoch\n",
    "        \n",
    "    return train_losses, val_losses"
   ]
  },
  {
   "cell_type": "code",
   "execution_count": 20,
   "id": "59d1b920",
   "metadata": {
    "tags": []
   },
   "outputs": [
    {
     "name": "stderr",
     "output_type": "stream",
     "text": [
      "100%|██████████| 10/10 [00:29<00:00,  2.96s/it]\n"
     ]
    },
    {
     "data": {
      "image/png": "[encoded data removed]",
      "text/plain": [
       "<Figure size 640x480 with 1 Axes>"
      ]
     },
     "metadata": {},
     "output_type": "display_data"
    },
    {
     "name": "stdout",
     "output_type": "stream",
     "text": [
      "y values [ 89700. 552800. 176300. ... 127300. 306400. 133100.]\n",
      "outputs [[113968.68]\n",
      " [619216.25]\n",
      " [120232.84]\n",
      " ...\n",
      " [132472.34]\n",
      " [308739.2 ]\n",
      " [198712.12]]\n",
      "val_outputs [113968.6796875, 619216.25, 120232.84375, 337901.6875, 119932.8359375, 601780.625, 216929.53125, 196923.09375, 144779.234375, 311493.375, 406011.0625, 105059.0703125, 301473.375, 73860.3046875, 85539.7578125, 295671.59375, 140042.9375, 103608.53125, 440280.78125, 98542.3359375, 91891.8359375, 339249.5625, 205010.734375, 180753.65625, 219797.6875, 320692.3125, 380963.8125, 289932.21875, 113575.8359375, 152448.921875, 501435.9375, 246408.046875, 191649.421875, 566707.375, 152081.0, 60127.25, 106306.1328125, 78120.5390625, 298471.28125, 311927.5, 194156.375, 116444.40625, 120945.4609375, 99976.5703125, 113834.6640625, 186400.96875, 67869.0234375, 208546.4375, 123651.671875, 152007.875, 108730.2890625, 286078.4375, 491390.6875, 158590.28125, 489745.90625, 132502.75, 353589.1875, 665010.1875, 103088.203125, 139179.03125, 705479.75, 599449.5, 270255.28125, 53304.9140625, 124629.5859375, 433747.875, 174454.96875, 168929.734375, 182199.578125, 439215.125, 188198.09375, 363377.0625, 297695.125, 175617.84375, 90552.4140625, 670330.4375, 277111.4375, 345518.1875, 397904.5625, 145420.859375, 431308.53125, 611559.0625, 829349.5, 323874.5625, 188025.765625, 227943.59375, 122836.1171875, 393014.1875, 176867.40625, 370477.84375, 138045.625, 327239.8125, 242348.265625, 58001.59375, 140881.28125, 171591.703125, 156082.78125, 107339.3359375, 117761.109375, 180799.84375, 107666.2734375, 127433.3828125, 127894.625, 119409.8828125, 673935.8125, 747303.5, 182143.453125, 134323.5, 105095.7890625, 150772.34375, 220658.4375, 377958.75, 123833.6015625, 147391.25, 139134.75, 199250.359375, 121792.96875, 316638.0, 142921.421875, 250726.703125, 212114.390625, 540808.625, 62339.61328125, 161849.109375, 281072.46875, 147941.78125, 88883.3046875, 1420587.5, 295465.625, 282900.375, 241057.484375, 211241.0625, 126706.953125, 110247.1875, 318621.1875, 186166.8125, 684149.0625, 189148.796875, 135538.6875, 90916.2734375, 128786.96875, 299424.46875, 121711.6171875, 98975.0859375, 449056.09375, 306077.4375, 184002.359375, 121271.0078125, 425187.40625, 119927.640625, 130068.8671875, 172424.484375, 365733.3125, 221820.140625, 131155.828125, 454466.1875, 199296.953125, 175063.03125, 175608.0, 249516.9375, 198585.96875, 176349.28125, 102719.1328125, 291687.9375, 198542.21875, 165665.90625, 91092.0859375, 114455.3359375, 406020.15625, 195233.125, 290968.3125, 99753.8828125, 404924.09375, 166315.09375, 233491.953125, 151970.1875, 97812.4921875, 494186.625, 290426.75, 337284.8125, 619342.5625, 326355.84375, 134844.734375, 138276.75, 121673.6875, 283198.46875, 417895.625, 128019.4921875, 150944.59375, 575159.6875, 84735.375, 98085.8984375, 717145.4375, 85361.3046875, 199191.328125, 420039.0625, 248478.578125, 588077.5625, 135738.625, 487566.375, 312979.375, 145599.078125, 456302.6875, 112636.5546875, 554190.75, 520865.6875, 301058.4375, 199281.875, 179864.796875, 170686.65625, 107431.8203125, 687012.25, 144014.953125, 204523.5, 104072.1171875, 110996.71875, 189204.625, 156578.078125, 374653.9375, 268718.3125, 104681.3515625, 246243.375, 221013.96875, 130707.2421875, 177791.71875, 158001.0625, 235549.609375, 166158.21875, 164740.90625, 157129.15625, 150280.90625, 245796.609375, 175897.21875, 106157.5703125, 305150.03125, 431035.5625, 350128.6875, 349985.53125, 137424.53125, 601029.0, 90331.6953125, 92330.2265625, 364335.625, 82619.6484375, 277070.5, 120014.40625, 614781.5625, 472104.625, 237683.1875, 103499.3046875, 168230.46875, 291922.3125, 81693.0234375, 286500.0, 118608.9375, 194842.546875, 134115.375, 66885.5390625, 420416.5625, 337515.28125, 97582.6484375, 440139.84375, 932312.875, 433164.3125, 200320.390625, 187546.125, 114912.7890625, 154873.21875, 314039.375, 88876.5625, 1229072.0, 127360.703125, 150212.21875, 127533.4296875, 175573.28125, 859844.625, 195083.90625, 128368.6640625, 246331.40625, 271765.03125, 297753.4375, 389631.5625, 532536.25, 176359.109375, 208848.65625, 121524.4375, 160202.1875, 93689.2265625, 117461.2890625, 211361.125, 130886.4296875, 84893.8359375, 271447.9375, 282772.03125, 559970.875, 73036.7265625, 548178.125, 393518.625, 110577.7578125, 382268.625, 255333.96875, 190400.03125, 168250.046875, 377007.8125, 165455.515625, 157423.96875, 333858.6875, 195648.90625, 212935.234375, 156466.8125, 211271.90625, 251504.796875, 375225.5, 182990.875, 72927.3828125, 115513.921875, 337940.375, 206951.78125, 268259.84375, 83106.8515625, 292282.625, 232159.78125, 55705.66796875, 228281.171875, 92459.0234375, 232209.4375, 151502.28125, 316975.0, 135809.75, 202785.515625, 408681.8125, 122374.1328125, 95731.59375, 95934.7734375, 129409.0703125, 381993.8125, 173154.078125, 83902.4609375, 134298.75, 225482.734375, 308844.0, 687775.25, 69899.28125, 491839.46875, 210822.734375, 263679.1875, 626921.125, 233772.15625, 328006.5625, 75205.0703125, 536027.125, 121201.296875, 192142.125, 136751.953125, 171662.9375, 108875.2734375, 374322.375, 270454.8125, 133803.53125, 75481.7109375, 102029.6484375, 458323.4375, 127137.453125, 189947.515625, 69135.71875, 157194.6875, 117181.5390625, 1429442.25, 119775.5859375, 373928.9375, 105754.5859375, 161088.875, 297424.09375, 342804.375, 84576.9609375, 125829.5390625, 135120.0, 141880.15625, 243881.59375, 383221.6875, 464820.0, 205172.71875, 429321.78125, 387220.15625, 140181.4375, 170100.828125, 145661.5, 88853.5, 330044.75, 110034.7109375, 623711.4375, 255705.109375, 105456.5546875, 150168.75, 222692.65625, 347042.0625, 156589.625, 174308.375, 154555.28125, 202559.90625, 204039.53125, 165371.90625, 274749.3125, 258481.921875, 125714.3203125, 141988.671875, 61694.52734375, 147576.953125, 93524.2890625, 154889.8125, 102207.3203125, 583017.0, 88818.4765625, 165603.65625, 104264.6640625, 108789.7734375, 235993.53125, 218673.6875, 496147.84375, 488976.5, 123380.1796875, 157965.90625, 29058.109375, 167467.0, 93049.6796875, 120690.5859375, 174906.984375, 532706.0625, 100419.2265625, 151846.046875, 330284.53125, 143558.765625, 142402.71875, 86645.3359375, 116702.453125, 106462.4296875, 336098.5, 213677.9375, 224140.03125, 128320.328125, 308412.0, 158690.765625, 687207.5625, 75102.953125, 233614.921875, 518504.25, 247713.4375, 139524.0, 117708.078125, 184493.453125, 187054.34375, 140007.96875, 136618.96875, 1184476.375, 105598.8984375, 94755.9453125, 123193.4140625, 145296.4375, 132861.875, 149900.40625, 111528.3828125, 207786.140625, 190790.015625, 87969.8671875, 179296.921875, 125339.9375, 154229.953125, 82175.609375, 374301.9375, 141472.859375, 164634.65625, 78822.703125, 149123.53125, 414372.40625, 108605.65625, 136640.125, 306672.65625, 538636.1875, 131861.90625, 74268.8515625, 301479.9375, 228159.21875, 203262.4375, 319726.375, 139941.125, 78362.3671875, 75571.1796875, 131886.234375, 102480.3203125, 139278.734375, 83538.3046875, 707931.0, 147409.15625, 137885.515625, 634297.9375, 198902.921875, 74700.9453125, 188282.8125, 107433.828125, 91197.7421875, 89341.53125, 190984.140625, 286051.8125, 342219.75, 114806.9921875, 453562.34375, 138945.484375, 283329.625, 124452.6796875, 154786.859375, 759774.0, 168946.3125, 334515.15625, 63348.78515625, 426101.125, 195969.59375, 244075.84375, 94371.703125, 120458.1953125, 142864.265625, 232681.84375, 435237.1875, 385641.875, 339401.625, 430773.4375, 73940.1796875, 569763.0, 80417.03125, 328422.0, 501843.25, 326988.875, 55814.72265625, 117340.4609375, 97607.5390625, 342317.4375, 77198.4765625, 160934.078125, 356750.1875, 139273.1875, 94285.9921875, 334918.1875, 195266.46875, 208286.234375, 303486.75, 224420.296875, 480432.34375, 84647.8984375, 202203.859375, 207590.375, 130119.421875, 111707.90625, 173917.875, 233698.328125, 201120.96875, 188141.546875, 360116.8125, 216264.375, 577940.375, 109417.9296875, 705644.1875, 109489.671875, 484771.34375, 106427.3828125, 419665.5625, 154203.609375, 242553.890625, 119602.84375, 745690.125, 89561.4609375, 322214.96875, 297698.0625, 171424.5, 125110.359375, 157755.75, 641094.6875, 232443.796875, 104678.453125, 619552.25, 83862.2421875, 514906.25, 172097.0, 186360.34375, 106994.578125, 627056.25, 100610.8359375, 248372.328125, 173715.140625, 283557.0, 769369.125, 188441.53125, 92403.1171875, 720320.625, 300456.6875, 403638.84375, 159368.0, 130068.7890625, 189238.375, 119471.0859375, 134794.65625, 215560.328125, 559209.875, 128982.3828125, 463400.625, 117082.4921875, 119923.171875, 179406.59375, 146915.625, 138415.90625, 585570.9375, 198181.640625, 102664.640625, 218132.53125, 511688.5, 129717.75, 232289.765625, 98652.1953125, 120595.7890625, 209687.15625, 142037.9375, 138126.09375, 110039.7265625, 600909.6875, 140360.265625, 648730.375, 463943.375, 346742.375, 195376.90625, 164405.78125, 111377.8671875, 190374.8125, 111515.8671875, 216571.96875, 95407.3046875, 202179.671875, 149227.84375, 185864.484375, 193440.25, 249957.40625, 85795.5625, 129334.5, 579574.625, 167049.9375, 291480.375, 60461.875, 201583.140625, 365054.3125, 104389.703125, 164978.59375, 242561.09375, 82489.9296875, 434763.53125, 100255.1875, 394952.6875, 233978.203125, 140819.71875, 218196.109375, 228943.765625, 230865.0, 307962.4375, 470306.15625, 118481.484375, 187862.34375, 176959.734375, 757524.375, 439830.15625, 87037.1953125, 158554.125, 104476.28125, 195083.3125, 481875.21875, 111755.0703125, 116655.3125, 71249.015625, 176001.859375, 422959.8125, 181637.546875, 176755.453125, 87547.8515625, 302026.625, 89226.0703125, 308365.5625, 387101.90625, 276305.375, 231535.75, 202610.84375, 121144.6640625, 362250.1875, 520842.3125, 63743.7421875, 116371.6640625, 161521.015625, 167416.703125, 151991.609375, 115161.0390625, 141108.53125, 211346.6875, 97118.4453125, 84961.90625, 70267.0703125, 132212.71875, 203280.34375, 120084.109375, 190331.921875, 147099.8125, 751043.6875, 141715.5, 113945.1171875, 161474.84375, 249441.6875, 612955.0, 278008.375, 232305.34375, 372938.15625, 104934.890625, 54254.8203125, 350259.875, 367809.125, 157680.984375, 143497.15625, 157703.453125, 171511.375, 122334.6328125, 135579.25, 68517.3984375, 696021.875, 348662.625, 353439.0, 144188.5625, 122343.0546875, 333773.5625, 182049.8125, 112539.796875, 524272.15625, 112746.3515625, 61562.42578125, 170511.90625, 81391.5625, 82401.2890625, 476406.5, 106759.4296875, 133952.9375, 249257.734375, 132860.53125, 129374.3203125, 297024.0, 115970.109375, 285807.21875, 220897.015625, 20255.544921875, 186074.703125, 691619.125, 168195.484375, 274603.375, 578863.25, 784710.125, 174337.375, 465375.21875, 121267.96875, 215593.71875, 359625.84375, 486159.9375, 102209.1328125, 108376.3671875, 273748.3125, 200164.78125, 130020.5234375, 177958.390625, 73114.59375, 136435.6875, 240620.96875, 389059.875, 86518.921875, 139655.28125, 238827.0, 119220.9140625, 100778.6640625, 106576.2578125, 62605.95703125, 409034.125, 381316.9375, 139407.390625, 164514.671875, 117674.9609375, 118153.71875, 228989.375, 133355.21875, 207022.359375, 144204.53125, 195196.09375, 390844.1875, 428130.25, 450407.65625, 429587.625, 103917.8984375, 209701.578125, 61759.01953125, 96678.109375, 102633.9765625, 620723.0625, 236190.265625, 235251.296875, 82560.9921875, 282120.625, 139495.796875, 240303.5, 240404.25, 151378.15625, 379971.875, 102801.3515625, 191696.984375, 89794.4921875, 456919.65625, 491022.46875, 94679.1796875, 233594.34375, 158670.59375, 178469.21875, 154369.21875, 365953.4375, 168914.15625, 93325.8515625, 321204.125, 104529.6328125, 278691.6875, 95803.3125, 266682.625, 116286.0546875, 254076.875, 91245.6328125, 350345.375, 85830.3671875, 87055.1171875, 240899.921875, 319569.0625, 274267.75, 249813.9375, 164700.0625, 284152.25, 136145.53125, 230317.6875, 366065.03125, 894067.125, 438203.21875, 188858.0625, 148366.421875, 333207.375, 136212.390625, 563458.8125, 668046.875, 735237.0, 153317.09375, 368282.1875, 176547.09375, 90004.0078125, 186984.390625, 156809.578125, 79609.828125, 114479.4140625, 983979.375, 171225.921875, 508076.3125, 110151.0859375, 157113.1875, 167618.9375, 523929.875, 225606.71875, 261598.125, 304158.46875, 455907.34375, 170737.3125, 171764.5625, 95869.8359375, 216786.4375, 230250.4375, 99448.65625, 78672.6875, 371069.25, 104238.2578125, 159705.1875, 210254.46875, 176162.890625, 163406.125, 566616.875, 418485.625, 371850.34375, 125169.3515625, 113688.0703125, 129874.8984375, 234816.34375, 746263.875, 123524.9375, 158359.8125, 144126.015625, 211085.921875, 291673.34375, 178264.21875, 191335.84375, 142561.9375, 116449.3359375, 165761.375, 170845.59375, 131451.65625, 318309.6875, 66330.171875, 91496.1171875, 352087.75, 411273.21875, 326825.125, 218330.03125, 216741.671875, 237937.453125, 91070.5390625, 523010.375, 194847.71875, 112752.1484375, 119508.7578125, 55943.3515625, 206807.796875, 673749.9375, 1426523.125, 153442.953125, 104537.5859375, 106296.9921875, 143357.921875, 137124.625, 120430.6171875, 86568.1640625, 83230.8359375, 135861.125, 235605.34375, 97832.75, 168372.828125, 139790.171875, 122614.5546875, 212452.6875, 84854.7265625, 191563.53125, 158836.734375, 346304.4375, 278219.84375, 91846.0546875, 226016.015625, 340186.34375, 59989.6953125, 763499.3125, 408034.78125, 715046.625, 134519.375, 265400.5, 160344.109375, 588438.25, 201612.40625, 552543.25, 157888.125, 93793.5078125, 442466.0, 220274.6875, 417826.5, 159918.09375, 129805.234375, 739021.125, 118912.09375, 127819.9921875, 115485.484375, 353873.25, 402019.53125, 535400.25, 498431.40625, 523500.53125, 146740.03125, 72996.2109375, 167163.484375, 536529.75, 216273.90625, 213030.046875, 398454.34375, 223316.359375, 100002.3828125, 390083.96875, 178842.78125, 138510.859375, 93957.3671875, 174957.71875, 201052.125, 109804.3359375, 499213.1875, 244400.171875, 136488.4375, 125562.6953125, 195600.84375, 147577.296875, 610782.125, 139740.234375, 163970.6875, 537140.8125, 188868.296875, 645953.25, 230634.734375, 484367.0, 538844.375, 200323.75, 278019.375, 130067.203125, 174494.40625, 83296.3046875, 163844.40625, 267073.1875, 81286.703125, 111651.8515625, 244494.84375, 98171.640625, 174921.84375, 84062.953125, 520344.125, 308355.25, 134533.78125, 116094.1015625, 221849.28125, 172300.84375, 101579.9765625, 402729.4375, 674053.625, 243186.25, 332678.40625, 372256.8125, 491407.59375, 136347.015625, 545177.375, 127392.375, 139106.640625, 100157.1875, 109066.2109375, 498878.96875, 148206.515625, 178576.265625, 246106.015625, 678656.9375, 159406.171875, 100565.3984375, 196089.328125, 92480.0546875, 125879.2109375, 103733.234375, 214647.734375, 108433.6484375, 417880.4375, 86978.6484375, 435741.8125, 660502.125, 203164.28125, 552390.5, 159155.078125, 171716.25, 700061.0, 90167.3359375, 156849.71875, 201103.84375, 147282.65625, 114341.4609375, 301110.40625, 154664.203125, 212519.5, 434156.125, 217042.15625, 434077.375, 289477.4375, 123649.0703125, 250588.65625, 190799.09375, 211058.625, 255721.96875, 76987.9140625, 341916.875, 394884.9375, 99654.9609375, 160550.140625, 125482.25, 490460.0625, 149523.6875, 255556.09375, 200291.25, 147075.671875, 220874.609375, 101455.6015625, 216585.640625, 181057.421875, 153820.109375, 138738.484375, 206037.140625, 232583.59375, 111582.9453125, 131221.9375, 252463.96875, 176055.46875, 78850.171875, 256226.546875, 265939.0625, 314496.5625, 331588.8125, 645932.375, 146008.5625, 249773.09375, 118109.3828125, 159951.046875, 198670.828125, 625725.3125, 211329.78125, 95936.0703125, 103301.5859375, 246931.4375, 196166.8125, 291125.90625, 167912.703125, 116949.3359375, 347396.1875, 145883.5, 283682.8125, 184581.0625, 91541.421875, 67178.734375, 231552.34375, 260510.390625, 201913.578125, 104600.078125, 88141.7890625, 117515.1328125, 124442.2734375, 132397.125, 264625.03125, 300656.9375, 147118.90625, 130250.3359375, 227971.796875, 105710.0859375, 172790.875, 176319.140625, 141259.875, 105243.03125, 900127.125, 368638.59375, 177137.734375, 313393.34375, 164370.546875, 195587.03125, 115174.4609375, 140151.84375, 124446.6171875, 598410.0, 141415.40625, 101340.4921875, 54549.671875, 174483.6875, 129307.0703125, 78505.2890625, 94495.6484375, 315831.71875, 337361.75, 144062.375, 252574.71875, 188367.796875, 162920.46875, 103875.2421875, 258300.453125, 463119.4375, 183794.390625, 155959.125, 305591.6875, 219632.15625, 250557.453125, 128312.796875, 203261.84375, 78820.71875, 128616.828125, 211480.3125, 111757.8984375, 212576.34375, 189981.0625, 196603.25, 99558.1171875, 319802.125, 172643.53125, 216789.84375, 646737.25, 425265.96875, 107108.78125, 170142.390625, 558701.5625, 310432.375, 260943.984375, 549939.625, 96353.9140625, 117983.15625, 89573.09375, 334735.03125, 241400.75, 89189.2109375, 160031.625, 162017.75, 310369.5, 460351.75, 343262.53125, 126849.5078125, 206199.40625, 167673.375, 180727.5, 79944.2578125, 94488.1171875, 273484.75, 194607.09375, 317324.5, 70991.796875, 211031.984375, 352900.0625, 143432.75, 169581.171875, 293346.5625, 102068.7578125, 125076.59375, 181238.09375, 115388.2109375, 132655.453125, 622733.0, 552735.0625, 156010.78125, 111669.1796875, 137068.9375, 289632.625, 280662.9375, 177489.5, 299674.75, 265153.78125, 284327.6875, 193010.734375, 133647.890625, 439936.34375, 129289.0234375, 57464.46875, 253160.53125, 311402.03125, 402316.5, 283099.8125, 135784.09375, 200893.4375, 135121.421875, 225909.34375, 388198.3125, 453328.125, 143332.15625, 997348.375, 118349.625, 536651.375, 184060.71875, 101410.09375, 156045.25, 166778.875, 131900.15625, 128919.5546875, 221454.65625, 364355.25, 62348.0625, 132662.171875, 109061.09375, 274337.9375, 115888.4765625, 117052.2890625, 274334.8125, 88858.6328125, 120704.2265625, 144331.9375, 460976.9375, 116451.7734375, 124284.4765625, 137505.8125, 193745.890625, 125244.0078125, 214315.3125, 211360.59375, 205029.59375, 423884.4375, 153202.296875, 87539.625, 56539.62890625, 202537.421875, 119408.625, 60011.2109375, 314854.46875, 128522.0390625, 1042981.0, 898493.3125, 389176.75, 565704.3125, 439901.0, 142174.359375, 180882.109375, 291392.28125, 329553.84375, 122217.5546875, 179616.84375, 280166.71875, 97184.8046875, 97904.0390625, 606316.6875, 125973.296875, 135412.6875, 105632.9140625, 166047.453125, 439700.125, 148309.296875, 172588.359375, 298895.4375, 378209.25, 270055.9375, 152930.890625, 146765.796875, 210936.96875, 146207.34375, 317503.0625, 150073.640625, 289960.375, 680731.875, 204493.375, 139990.546875, 335629.28125, 127417.7734375, 228464.90625, 200922.3125, 92310.828125, 186794.90625, 122889.9140625, 626459.875, 85265.7265625, 151947.46875, 309055.125, 110525.4609375, 170715.6875, 247140.84375, 388428.8125, 198925.4375, 132125.8125, 79740.171875, 160020.265625, 216905.21875, 254969.890625, 623986.0, 130344.6484375, 143228.703125, 95076.9921875, 111039.5703125, 95376.6015625, 219297.21875, 130494.4140625, 104723.1484375, 266453.78125, 612374.3125, 415730.25, 267433.6875, 150269.046875, 139221.8125, 116292.953125, 94319.4453125, 291350.0625, 153834.859375, 274034.375, 433748.53125, 164363.15625, 217926.65625, 266529.71875, 234443.59375, 57223.515625, 76725.140625, 194184.65625, 104589.6015625, 235634.90625, 84152.3828125, 178259.484375, 370714.09375, 437071.5625, 184295.8125, 306223.84375, 150138.5, 357193.65625, 222366.828125, 141062.625, 337809.8125, 136331.828125, 138474.390625, 87562.5859375, 150461.34375, 729026.9375, 132472.34375, 308739.1875, 198712.125]\n",
      "[ 89700. 552800. 176300. ... 127300. 306400. 133100.]\n"
     ]
    },
    {
     "data": {
      "image/png": "[encoded data removed]",
      "text/plain": [
       "<Figure size 640x480 with 1 Axes>"
      ]
     },
     "metadata": {},
     "output_type": "display_data"
    },
    {
     "name": "stdout",
     "output_type": "stream",
     "text": [
      "              Interval  Count     RMSE  Max_Difference\n",
      "0     $0.0k to $100.0k    169  23437.5         72597.2\n",
      "1   $100.0k to $200.0k    575  28270.8        145854.5\n",
      "2   $200.0k to $300.0k    315  49701.5        248244.5\n",
      "3   $300.0k to $400.0k    131  75745.5        297646.9\n",
      "4   $400.0k to $500.0k     73  78525.3        240925.4\n",
      "5   $500.0k to $600.0k     38 126204.5        406670.0\n",
      "6   $600.0k to $700.0k     30 108122.2        245983.1\n",
      "7   $700.0k to $800.0k     22 115854.1        278128.4\n",
      "8   $800.0k to $900.0k     14 217007.9        426706.2\n",
      "9   $900.0k to Maximum     25 429248.3        926255.8\n",
      "10            All Data   1392  80627.7        926255.8\n"
     ]
    }
   ],
   "source": [
    "train_losses, val_losses = training_loop(neural_model, train_X, train_y, val_X, val_y, num_epochs=EPOCHS, batch_size=BATCH_SIZE)\n",
    "\n",
    "# Get predictions on the validation set\n",
    "val_outputs = neural_model(torch.from_numpy(val_X).float().reshape(len(val_X), -1))\n",
    "val_outputs = val_outputs.detach().numpy()\n",
    "\n",
    "plt.plot(train_losses, label='Training Loss')\n",
    "plt.plot(val_losses, label='Validation Loss')\n",
    "plt.title('Loss vs Epochs')\n",
    "plt.xlabel('Training Epochs')\n",
    "plt.ylabel('Loss in Dollars')\n",
    "plt.legend()\n",
    "\n",
    "plt.show()\n",
    "\n",
    "print('y values', val_y.values)\n",
    "print('outputs', val_outputs)\n",
    "\n",
    "# Convert numpy ndarray to list\n",
    "val_outputs = val_outputs.tolist()\n",
    "val_outputs = [item for sublist in val_outputs for item in sublist]\n",
    "\n",
    "print('val_outputs', val_outputs)\n",
    "\n",
    "print(analyze_results(val_y.values, val_outputs, \"Validation\"))\n"
   ]
  }
 ],
 "metadata": {
  "kernelspec": {
   "display_name": "Python 3 (ipykernel)",
   "language": "python",
   "name": "python3"
  },
  "language_info": {
   "codemirror_mode": {
    "name": "ipython",
    "version": 3
   },
   "file_extension": ".py",
   "mimetype": "text/x-python",
   "name": "python",
   "nbconvert_exporter": "python",
   "pygments_lexer": "ipython3",
   "version": "3.11.3"
  }
 },
 "nbformat": 4,
 "nbformat_minor": 5
}
